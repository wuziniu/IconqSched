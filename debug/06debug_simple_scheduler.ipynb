{
 "cells": [
  {
   "cell_type": "code",
   "execution_count": 1,
   "id": "cc1ab8f9-2947-44fc-9de6-bd741c27eef5",
   "metadata": {},
   "outputs": [],
   "source": [
    "import pandas as pd\n",
    "import numpy as np\n",
    "import pickle as pkl\n",
    "import copy\n",
    "import sys\n",
    "import os\n",
    "sys.path.append(\"../\")\n",
    "from parser.utils import load_json, dfs_cardinality, estimate_scan_in_mb\n",
    "from models.feature.single_xgboost_feature import find_top_k_operators, featurize_one_plan, get_top_k_table_by_size\n",
    "from utils.load_brad_trace import load_trace, create_concurrency_dataset, load_trace_all_version\n",
    "from models.concurrency.utils import pre_info_train_test_seperation\n",
    "import torch\n",
    "from torch.nn.utils.rnn import pack_padded_sequence, pad_packed_sequence, pad_sequence\n",
    "from models.single.stage import SingleStage\n",
    "from models.concurrency.complex_models import ConcurrentRNN\n",
    "from scheduler.greedy_scheduler import GreedyScheduler\n",
    "from scheduler.linear_programming_scheduler import LPScheduler\n",
    "from simulator.simulator import Simulator\n",
    "\n",
    "np.set_printoptions(precision=4)"
   ]
  },
  {
   "cell_type": "code",
   "execution_count": 2,
   "id": "576aea90-0564-437e-9099-146a244551d8",
   "metadata": {},
   "outputs": [
    {
     "name": "stdout",
     "output_type": "stream",
     "text": [
      "24263 31762\n",
      "51063 11219\n"
     ]
    }
   ],
   "source": [
    "parsed_queries_path = \"/Users/ziniuw/Desktop/research/Data/AWS_trace/mixed_aurora/aurora_mixed_parsed_queries.json\"\n",
    "#parsed_queries_path = \"/Users/ziniuw/Desktop/research/Data/AWS_trace/mixed_postgres/postgres_mixed_parsed_queries.json\"\n",
    "plans = load_json(parsed_queries_path, namespace=False)\n",
    "folder_name = \"mixed_redshift\"\n",
    "directory = f\"/Users/ziniuw/Desktop/research/Data/AWS_trace/{folder_name}/\"\n",
    "all_raw_trace, all_trace = load_trace_all_version(directory, 8, concat=True)\n",
    "all_concurrency_df = []\n",
    "for trace in all_trace:\n",
    "    concurrency_df = create_concurrency_dataset(trace, engine=None, pre_exec_interval=200)\n",
    "    all_concurrency_df.append(concurrency_df)\n",
    "concurrency_df = pd.concat(all_concurrency_df, ignore_index=True)\n",
    "train_trace_df_sep, eval_trace_df_sep = pre_info_train_test_seperation(concurrency_df)\n",
    "print(len(train_trace_df_sep), len(eval_trace_df_sep))\n",
    "np.random.seed(0)\n",
    "train_idx = np.random.choice(len(concurrency_df), size=int(0.8 * len(concurrency_df)), replace=False)\n",
    "test_idx = [i for i in range(len(concurrency_df)) if i not in train_idx]\n",
    "train_trace_df = copy.deepcopy(concurrency_df.iloc[train_idx])\n",
    "eval_trace_df = concurrency_df.iloc[test_idx]\n",
    "eval_trace_df = copy.deepcopy(eval_trace_df[eval_trace_df['num_concurrent_queries'] > 0])\n",
    "print(len(train_trace_df), len(eval_trace_df))"
   ]
  },
  {
   "cell_type": "code",
   "execution_count": 3,
   "id": "c67d8075-d291-481d-b1a0-835bcc6eb597",
   "metadata": {},
   "outputs": [
    {
     "name": "stdout",
     "output_type": "stream",
     "text": [
      "timeout_600_num_clients10_baseline.csv\n",
      "timeout_600_num_clients4_baseline.csv\n",
      "timeout_600_num_clients8_baseline.csv\n",
      "timeout_1000_num_clients10_baseline.csv\n",
      "timeout_1000_num_clients8_baseline.csv\n",
      "timeout_600_num_clients14_baseline.csv\n",
      "timeout_1000_num_clients2_baseline.csv\n",
      "timeout_600_num_clients12_baseline.csv\n",
      "timeout_600_num_clients6_baseline.csv\n"
     ]
    }
   ],
   "source": [
    "parsed_queries_path = \"/Users/ziniuw/Desktop/research/Data/AWS_trace/long_redshift/mixed_redshift_parsed_queries.json\"\n",
    "#parsed_queries_path = \"/Users/ziniuw/Desktop/research/Data/AWS_trace/mixed_postgres/postgres_mixed_parsed_queries.json\"\n",
    "plans = load_json(parsed_queries_path, namespace=False)\n",
    "\n",
    "directory = \"saved_results/redshift/\"\n",
    "all_trace = []\n",
    "for file in os.listdir(directory):\n",
    "    if file.endswith(\".csv\"):\n",
    "        print(file)\n",
    "        file = os.path.join(directory, file)\n",
    "        df = pd.read_csv(file)\n",
    "        df = df[df['run_time_s'] > 0]\n",
    "        all_trace.append(df)\n",
    "all_concurrency_df = []\n",
    "for trace in all_trace:\n",
    "    concurrency_df = create_concurrency_dataset(trace, engine=None, pre_exec_interval=200)\n",
    "    all_concurrency_df.append(concurrency_df)\n",
    "concurrency_df = pd.concat(all_concurrency_df, ignore_index=True)"
   ]
  },
  {
   "cell_type": "code",
   "execution_count": 4,
   "id": "10927c71-72be-4c2d-a154-939c6d129781",
   "metadata": {},
   "outputs": [
    {
     "data": {
      "text/plain": [
       "482"
      ]
     },
     "execution_count": 4,
     "metadata": {},
     "output_type": "execute_result"
    }
   ],
   "source": [
    "concurrency_df = create_concurrency_dataset(all_trace[-1], engine=None, pre_exec_interval=200)\n",
    "len(concurrency_df)"
   ]
  },
  {
   "cell_type": "code",
   "execution_count": 5,
   "id": "c6a4c039-d2b7-4322-91c8-6fc0b47ad549",
   "metadata": {},
   "outputs": [
    {
     "name": "stdout",
     "output_type": "stream",
     "text": [
      "Top 20 operators contains 0.9810270680495826 total operators\n"
     ]
    }
   ],
   "source": [
    "ss = SingleStage(use_table_features=True, true_card=False, use_median=True)\n",
    "#df = ss.featurize_data(train_trace_df, parsed_queries_path)\n",
    "df = ss.featurize_data(concurrency_df, parsed_queries_path)\n",
    "ss.train(df)\n",
    "rnn = ConcurrentRNN(ss, \n",
    "                     \"redshift\",\n",
    "                    input_size=len(ss.all_feature[0]) * 2 + 7,\n",
    "                    embedding_dim=128,\n",
    "                    hidden_size=256,\n",
    "                    num_layers=2,\n",
    "                    loss_function=\"q_loss\",\n",
    "                    last_output=True,\n",
    "                    use_separation=False\n",
    "                   )\n",
    "rnn.load_model(\"checkpoints\")"
   ]
  },
  {
   "cell_type": "code",
   "execution_count": 5,
   "id": "afc82516-95ec-4e55-9fbc-bc878f592fcf",
   "metadata": {},
   "outputs": [],
   "source": [
    "import pickle as pkl\n",
    "with open(\"checkpoints/redshift_stage_model.pkl\", \"wb\") as f:\n",
    "    pkl.dump(ss, f)"
   ]
  },
  {
   "cell_type": "code",
   "execution_count": 41,
   "id": "a0b84594-a675-42c4-b011-b5a0165e5567",
   "metadata": {},
   "outputs": [],
   "source": [
    "with open(\"checkpoints/postgres_stage_model.pkl\", \"rb\") as f:\n",
    "    a = pkl.load(f)"
   ]
  },
  {
   "cell_type": "code",
   "execution_count": 27,
   "id": "221c8f3d-e61d-458c-b210-d2e7e201702d",
   "metadata": {},
   "outputs": [
    {
     "name": "stderr",
     "output_type": "stream",
     "text": [
      "100%|█████████████████████████████████████████████████████████████████████████████| 4/4 [00:00<00:00, 19.87it/s]"
     ]
    },
    {
     "name": "stdout",
     "output_type": "stream",
     "text": [
      "50% absolute error is 3.471813440322876, q-error is 1.1254734992980957\n",
      "90% absolute error is 25.56133728027346, q-error is 1.7138597607612611\n",
      "95% absolute error is 35.291097259521464, q-error is 2.1185851097106934\n"
     ]
    },
    {
     "name": "stderr",
     "output_type": "stream",
     "text": [
      "\n"
     ]
    }
   ],
   "source": [
    "scheduler = GreedyScheduler(ss, rnn, alpha=0.1)\n",
    "simulator = Simulator(scheduler)\n",
    "concurrency_df = concurrency_df.sort_values(by=['start_time'], ascending=True)\n",
    "original_predictions = scheduler.make_original_prediction(concurrency_df)\n",
    "assert len(concurrency_df) == len(original_predictions)"
   ]
  },
  {
   "cell_type": "code",
   "execution_count": 28,
   "id": "12125423-e7a5-4f02-b102-83afc8980d9f",
   "metadata": {},
   "outputs": [],
   "source": [
    "original_runtime = []\n",
    "all_start_time = concurrency_df[\"start_time\"].values\n",
    "all_query_idx = concurrency_df[\"query_idx\"].values\n",
    "for i in range(len(concurrency_df)):\n",
    "    original_runtime.append(original_predictions[i])\n",
    "    # replaying the query one-by-one\n",
    "    if i < len(concurrency_df) - 1:\n",
    "        next_query_start_time = all_start_time[i + 1]\n",
    "    else:\n",
    "        next_query_start_time = None\n",
    "    #print(\"==============================\", i, original_predictions[i])\n",
    "    simulator.replay_one_query(all_start_time[i], next_query_start_time, i, all_query_idx[i])\n",
    "    #scheduler.print_state()\n",
    "simulator.finish_all_queries(all_start_time[-1])"
   ]
  },
  {
   "cell_type": "code",
   "execution_count": 29,
   "id": "a0074309-9b12-4a30-b8b1-d37dd881e1db",
   "metadata": {},
   "outputs": [
    {
     "data": {
      "text/plain": [
       "(482, 482, 482)"
      ]
     },
     "execution_count": 29,
     "metadata": {},
     "output_type": "execute_result"
    }
   ],
   "source": [
    "len(original_runtime), len(concurrency_df), len(simulator.scheduler.all_query_runtime)"
   ]
  },
  {
   "cell_type": "code",
   "execution_count": 30,
   "id": "bb0b5811-ba5b-4059-bdd9-5bfb3cfaff62",
   "metadata": {},
   "outputs": [],
   "source": [
    "new_runtime = []\n",
    "for i in range(len(concurrency_df)):\n",
    "    new_runtime.append(simulator.scheduler.all_query_runtime[i])\n",
    "original_runtime = np.asarray(original_runtime)\n",
    "new_runtime = np.asarray(new_runtime)"
   ]
  },
  {
   "cell_type": "code",
   "execution_count": 31,
   "id": "742ce786-10c1-42bc-a8e5-bcc5e7cc3c2f",
   "metadata": {},
   "outputs": [],
   "source": [
    "rt = concurrency_df['runtime'].values"
   ]
  },
  {
   "cell_type": "code",
   "execution_count": 32,
   "id": "454d6d94-b0e0-4dd3-8824-7d5c89fa65f4",
   "metadata": {},
   "outputs": [
    {
     "data": {
      "text/plain": [
       "(89.35122,\n",
       " 49.377092361450195,\n",
       " 244.20334777832045,\n",
       " 371.9452499389648,\n",
       " 431.8284017944336)"
      ]
     },
     "execution_count": 32,
     "metadata": {},
     "output_type": "execute_result"
    }
   ],
   "source": [
    "np.mean(original_runtime), np.percentile(original_runtime, 50), np.percentile(original_runtime, 90), np.percentile(original_runtime, 95), np.percentile(original_runtime, 99)\n"
   ]
  },
  {
   "cell_type": "code",
   "execution_count": 33,
   "id": "b5403849-a55c-4fb3-90c5-2f35234c6cfa",
   "metadata": {},
   "outputs": [
    {
     "data": {
      "text/plain": [
       "(38.092139970644915,\n",
       " 15.542807579040527,\n",
       " 104.50299148559571,\n",
       " 135.61857773427965,\n",
       " 207.95546186119094)"
      ]
     },
     "execution_count": 33,
     "metadata": {},
     "output_type": "execute_result"
    }
   ],
   "source": [
    "np.mean(new_runtime), np.percentile(new_runtime, 50), np.percentile(new_runtime, 90), np.percentile(new_runtime, 95), np.percentile(new_runtime, 99)\n"
   ]
  },
  {
   "cell_type": "code",
   "execution_count": 12,
   "id": "ef981923-f314-4c1d-a8a0-7e665839619f",
   "metadata": {},
   "outputs": [
    {
     "data": {
      "text/plain": [
       "(28.082790672207317,\n",
       " 10.425809383392334,\n",
       " 82.27797918415067,\n",
       " 113.082476568222,\n",
       " 159.82312020009996)"
      ]
     },
     "execution_count": 12,
     "metadata": {},
     "output_type": "execute_result"
    }
   ],
   "source": [
    "np.mean(new_runtime), np.percentile(new_runtime, 50), np.percentile(new_runtime, 90), np.percentile(new_runtime, 95), np.percentile(new_runtime, 99)\n"
   ]
  },
  {
   "cell_type": "code",
   "execution_count": 13,
   "id": "d2aa09bd-d58e-4d59-904c-f1904b29bc2f",
   "metadata": {},
   "outputs": [
    {
     "data": {
      "text/plain": [
       "(87.61418041599242,\n",
       " 51.053452134132385,\n",
       " 222.21745131015774,\n",
       " 370.2183699250221,\n",
       " 424.97391885995864)"
      ]
     },
     "execution_count": 13,
     "metadata": {},
     "output_type": "execute_result"
    }
   ],
   "source": [
    "np.mean(rt), np.percentile(rt, 50), np.percentile(rt, 90), np.percentile(rt, 95), np.percentile(rt, 99)"
   ]
  },
  {
   "cell_type": "code",
   "execution_count": null,
   "id": "01a581d9-893a-4165-adde-b060047441e9",
   "metadata": {},
   "outputs": [],
   "source": [
    "simulator.replay_one_query(1.87, 2.76, 143, 143)\n",
    "scheduler.print_state()"
   ]
  },
  {
   "cell_type": "code",
   "execution_count": 17,
   "id": "9c2093d9-5338-44f1-8fcd-cd7075b47414",
   "metadata": {},
   "outputs": [],
   "source": [
    "a = torch.zeros((3, 4))"
   ]
  },
  {
   "cell_type": "code",
   "execution_count": 18,
   "id": "142c01d3-6b6e-47b6-ab99-3b92811d6fe0",
   "metadata": {},
   "outputs": [],
   "source": [
    "a[0,1] = 1"
   ]
  },
  {
   "cell_type": "code",
   "execution_count": 19,
   "id": "8a680d3a-30d6-4d00-aeb3-64e171e22506",
   "metadata": {},
   "outputs": [
    {
     "data": {
      "text/plain": [
       "tensor([[0., 1., 0., 0.],\n",
       "        [0., 0., 0., 0.],\n",
       "        [0., 0., 0., 0.]])"
      ]
     },
     "execution_count": 19,
     "metadata": {},
     "output_type": "execute_result"
    }
   ],
   "source": [
    "a"
   ]
  },
  {
   "cell_type": "code",
   "execution_count": 42,
   "id": "947dd7b1-c0c2-4e0d-abe2-ca984c65626a",
   "metadata": {},
   "outputs": [
    {
     "data": {
      "text/plain": [
       "<models.single.stage.SingleStage at 0x2ea2fdb90>"
      ]
     },
     "execution_count": 42,
     "metadata": {},
     "output_type": "execute_result"
    }
   ],
   "source": [
    "ss"
   ]
  },
  {
   "cell_type": "code",
   "execution_count": 62,
   "id": "3667df19-6239-45b8-9723-d0a029955773",
   "metadata": {},
   "outputs": [],
   "source": [
    "#rt = np.load(\"checkpoints/previous_runs/timeout_1000_sys_exec_time_baseline.npy\")\n",
    "#e2e_rt = np.load(\"checkpoints/previous_runs/timeout_1000_e2e_runtime_baseline.npy\")\n",
    "rt = np.load(\"checkpoints/timeout_1000_sys_exec_time_baseline.npy\")\n",
    "e2e_rt = np.load(\"checkpoints/timeout_1000_e2e_runtime_baseline.npy\")\n",
    "#ours_rt = np.load(\"checkpoints/previous_runs/timeout_1000_sys_exec_time_ours.npy\")\n",
    "#ours_e2e = np.load(\"checkpoints/previous_runs/timeout_1000_e2e_runtime_ours.npy\")\n",
    "ours_rt = np.load(\"checkpoints/timeout_200_sys_exec_time_ours.npy\")\n",
    "ours_e2e = np.load(\"checkpoints/timeout_200_e2e_runtime_ours.npy\")\n",
    "all_raw_trace, all_trace = load_trace(directory, 8, concat=True)\n",
    "concurrency_df = create_concurrency_dataset(\n",
    "            all_trace, engine=None, pre_exec_interval=200\n",
    ")\n",
    "concurrency_df = concurrency_df.sort_values(by=['start_time'], ascending=True)\n",
    "concurrency_df_rt = concurrency_df[\"runtime\"].values"
   ]
  },
  {
   "cell_type": "code",
   "execution_count": 63,
   "id": "14088c7c-aa18-4fff-820c-378378157a2e",
   "metadata": {},
   "outputs": [
    {
     "data": {
      "text/plain": [
       "(900, 900, 700)"
      ]
     },
     "execution_count": 63,
     "metadata": {},
     "output_type": "execute_result"
    }
   ],
   "source": [
    "len(ours_rt), len(ours_e2e), len(rt)"
   ]
  },
  {
   "cell_type": "code",
   "execution_count": 64,
   "id": "830d520b-960c-41e9-a8e9-fecce00e8cc6",
   "metadata": {},
   "outputs": [],
   "source": [
    "def report_performance(rt, idx=None):\n",
    "    if idx is None:\n",
    "        runtime = rt\n",
    "    else:\n",
    "        runtime = rt[idx]\n",
    "    print(np.mean(runtime), np.percentile(runtime, 50), np.percentile(runtime, 90), np.percentile(runtime, 95), np.percentile(runtime, 99))"
   ]
  },
  {
   "cell_type": "code",
   "execution_count": 65,
   "id": "639095ff-4c5f-42c2-9270-a542211799c9",
   "metadata": {},
   "outputs": [
    {
     "name": "stdout",
     "output_type": "stream",
     "text": [
      "100.42410005875996 25.405025482177734 308.23970189094547 424.39539455175395 799.4055482363696\n"
     ]
    }
   ],
   "source": [
    "report_performance(rt, None)"
   ]
  },
  {
   "cell_type": "code",
   "execution_count": 67,
   "id": "9bda5c8e-abb5-4054-a205-09d3ad90e339",
   "metadata": {},
   "outputs": [
    {
     "data": {
      "text/plain": [
       "(133, 42)"
      ]
     },
     "execution_count": 67,
     "metadata": {},
     "output_type": "execute_result"
    }
   ],
   "source": [
    "np.sum(e2e_rt > 200), np.sum(ours_rt > 190)"
   ]
  },
  {
   "cell_type": "code",
   "execution_count": 68,
   "id": "c5dbfc99-d5ee-4b83-b32f-da63212cec20",
   "metadata": {},
   "outputs": [
    {
     "name": "stdout",
     "output_type": "stream",
     "text": [
      "100.42410005875996 25.405025482177734 308.23970189094547 424.39539455175395 799.4055482363696\n",
      "103.85096815313612 28.825364112854004 311.58910791873933 428.0414997935294 802.2661592268938\n",
      "44.59993027687073 15.497947931289673 143.55612349510193 191.2482687950134 201.40416612148286\n",
      "86.18284460272108 41.43850064277649 238.70695281028748 307.07629054784775 438.24097260713575\n",
      "3.7934531685284205 0.723724365234375 5.894774651527405 14.9151360273361 60.87397601127617\n"
     ]
    }
   ],
   "source": [
    "idx = np.where(ours_e2e[:700] > 0)[0]\n",
    "report_performance(rt, idx)\n",
    "report_performance(e2e_rt, idx)\n",
    "report_performance(ours_rt, idx)\n",
    "report_performance(ours_e2e, idx)\n",
    "report_performance(concurrency_df_rt, idx)"
   ]
  },
  {
   "cell_type": "code",
   "execution_count": 39,
   "id": "3b4bd07c-d78b-4422-9a77-6c0fc80fe966",
   "metadata": {},
   "outputs": [
    {
     "name": "stdout",
     "output_type": "stream",
     "text": [
      "109.33521686077118 29.615013480186462 317.6123276472093 468.07558170556985 972.4766488862037\n",
      "109.788342461586 30.061041951179504 318.1608426094057 468.7256953954693 972.7789209103584\n",
      "23.715621346235274 6.375097990036011 62.67300522327424 87.36640502214429 200.70521162986756\n",
      "37.25047614634037 9.311975121498108 101.31462357044221 147.93589364290148 244.3785142660141\n",
      "3.477743474841118 0.6712734699249268 5.001080036163333 10.581547439098308 60.15818839788426\n"
     ]
    }
   ],
   "source": [
    "idx = np.where(ours_e2e[:400] > 0)[0]\n",
    "report_performance(rt, idx)\n",
    "report_performance(e2e_rt, idx)\n",
    "report_performance(ours_rt, idx)\n",
    "report_performance(ours_e2e, idx)\n",
    "report_performance(concurrency_df_rt, idx)"
   ]
  },
  {
   "cell_type": "code",
   "execution_count": 95,
   "id": "c13afc05-76cf-44b3-9434-1b905ee42eb6",
   "metadata": {},
   "outputs": [
    {
     "data": {
      "text/plain": [
       "array([[  0.    ,  73.771 ,  77.1567,  36.3439,  36.6396,  85.7497],\n",
       "       [  1.    ,  41.6181,  44.5863,   9.7964,  10.0411,   1.0899],\n",
       "       [  2.    ,  14.4929,  17.5326,   9.2689,  19.5902,   3.1967],\n",
       "       [  3.    , 154.0823, 157.3001,  55.8749,  66.2013, 117.7583],\n",
       "       [  4.    ,  14.3063,  17.0312,  11.2488,  21.5957,   3.0691],\n",
       "       [  5.    ,  82.2752,  85.1709,  33.3002,  68.7077,  79.9249],\n",
       "       [  6.    ,   8.9198,  12.0213,   5.6296,  12.554 ,  53.6715],\n",
       "       [  7.    ,   8.423 ,  12.0241,   1.194 ,  14.5462,  13.6439],\n",
       "       [  8.    ,  41.0496,  44.5766,   3.6955,   4.0118,  59.5827],\n",
       "       [  9.    ,   3.8929,   7.0135,   2.5508,   3.015 ,   4.5798],\n",
       "       [ 10.    ,   0.704 ,   4.0074,   0.126 ,   0.5054,   0.104 ],\n",
       "       [ 11.    , 196.173 , 199.3898,  71.7047,  72.1904, 245.9443],\n",
       "       [ 12.    ,  62.0848,  65.6142,  31.5491,  32.0773,  69.6458],\n",
       "       [ 13.    ,  20.7744,  24.5431,   3.5321,  43.6573,  13.838 ],\n",
       "       [ 14.    ,   1.2289,   4.5084,   5.5769,  29.122 ,   0.2684],\n",
       "       [ 15.    ,   0.7041,   4.0081,   3.5537,  20.0903,   0.2201],\n",
       "       [ 16.    ,  66.1923,  69.6413,  42.8917,  55.6759,  47.6317],\n",
       "       [ 17.    ,   0.8242,   4.0081,   5.5907,  15.586 ,   0.394 ],\n",
       "       [ 18.    , 128.7725, 132.2711,  75.5862,  89.7511, 168.1528],\n",
       "       [ 19.    ,  82.0754,  85.677 ,  34.7061, 114.826 ,  84.6109],\n",
       "       [ 20.    ,   3.8296,   7.5144,   5.3013,  46.6425,  10.5148],\n",
       "       [ 21.    ,   5.1695,   8.0172,  11.5527,  39.1275,  16.8781],\n",
       "       [ 22.    ,   5.4873,   9.5196,  11.0537,  14.0682,   3.7345],\n",
       "       [ 23.    ,  47.6978,  50.6047,  27.4882,  35.6225,  46.1194],\n",
       "       [ 24.    ,   3.7812,   7.0143,   2.9021,  11.0571,   2.3315],\n",
       "       [ 25.    ,  55.9219,  59.6214,  76.5755, 106.3118, 102.5083],\n",
       "       [ 26.    ,  42.5659,  46.0901,  67.6518,  68.1987, 113.136 ],\n",
       "       [ 27.    ,   1.9497,   5.5099,   2.8082,  42.6999,   2.562 ],\n",
       "       [ 28.    ,   5.2345,   8.5153,   2.4367,  38.1721,  15.8945],\n",
       "       [ 29.    ,   1.0592,   5.0115,   4.1226,  31.1737,   0.514 ],\n",
       "       [ 30.    ,   2.6625,   6.0143,   7.4109,  31.6745,   3.8569],\n",
       "       [ 31.    ,  45.4418,  48.5877,  57.6789,  71.8225,  38.3177],\n",
       "       [ 32.    ,  17.1417,  20.0354,   3.2349,  16.6154,   1.3523],\n",
       "       [ 33.    ,   3.6473,   7.0117,  43.7525,  57.7599,  16.0863],\n",
       "       [ 34.    , 113.8817, 116.7473,  77.587 ,  91.3599, 161.5923],\n",
       "       [ 35.    ,   4.5062,   8.0145,   4.0525,   4.5174,   4.3034],\n",
       "       [ 36.    , 201.0332, 203.923 , 157.9259, 219.6924, 288.3922],\n",
       "       [ 37.    ,   2.0482,   5.0067,   1.9243,  62.7197,  51.795 ],\n",
       "       [ 38.    ,   7.0658,  10.548 ,   2.5197,  36.1475,  30.5464],\n",
       "       [ 39.    ,   1.5346,   5.0082,   1.6236,   5.5871,   1.0776],\n",
       "       [ 40.    ,  74.559 ,  77.6486,  45.8544,  53.1919, 129.3013],\n",
       "       [ 41.    ,   3.2771,   6.5117,   4.0194,   5.5565,   9.9031],\n",
       "       [ 42.    ,   1.6599,   5.0099,   1.5519,   2.0113,   1.0993],\n",
       "       [ 43.    , 189.2364, 192.4447, 137.4247, 171.9478, 237.6364],\n",
       "       [ 44.    ,   1.3259,   5.011 ,   1.7221, 120.3351,   0.8685],\n",
       "       [ 45.    ,   6.7588,  10.0198,   3.803 , 120.8271,   7.6522],\n",
       "       [ 46.    , 101.1525, 104.7448,  40.6711, 142.3659, 138.4662],\n",
       "       [ 47.    ,  80.59  ,  84.2473,  40.4431,  99.2592, 142.2864],\n",
       "       [ 48.    ,   1.3277,   4.5179,   0.9716,   2.5265,   1.2079],\n",
       "       [ 49.    ,   1.6536,   4.5182,   1.2232,   1.5132,  11.3509],\n",
       "       [ 50.    ,   8.4933,  11.5459,   7.8953,   8.5244,  33.9705],\n",
       "       [ 51.    ,   1.3384,   5.0193,   0.7609,   1.0066,   0.8614],\n",
       "       [ 52.    ,  61.3456,  64.7181,  60.787 ,  61.1632,  85.9699],\n",
       "       [ 53.    , 127.6937, 130.9265,  74.1273,  74.6978, 146.5498],\n",
       "       [ 54.    ,   8.9097,  12.5413,  12.0071,  78.7517,  13.9392],\n",
       "       [ 55.    ,   1.8954,   5.0165,   4.0341,  60.6881,   1.1733],\n",
       "       [ 56.    ,  10.594 ,  14.0511,  24.0129,  75.269 ,   6.5627],\n",
       "       [ 57.    ,   4.1893,   7.53  ,   4.3081,  52.6627,   2.5531],\n",
       "       [ 58.    ,  27.5456,  31.0947,  12.9327,  56.1957,  57.6958],\n",
       "       [ 59.    ,  87.9536,  91.2853,  62.7047, 105.8443, 102.7404],\n",
       "       [ 60.    ,   1.7428,   5.0175,   4.4075,   5.0226,   1.6652],\n",
       "       [ 61.    ,  49.8655,  52.6707,  23.5547,  39.6405,  30.5164],\n",
       "       [ 62.    ,   2.4555,   6.0217,   1.7291,   8.5463,   2.4122],\n",
       "       [ 63.    ,  38.2985,  41.6327,  44.1568,  68.7831,  53.6738],\n",
       "       [ 64.    ,  22.9104,  26.5921,  21.6137,  39.6452,  32.8288],\n",
       "       [ 65.    ,   4.1297,   7.5235,   6.818 ,  26.6793,   8.0302],\n",
       "       [ 66.    ,   3.3798,   6.5233,   6.225 ,  20.6545,   6.2537],\n",
       "       [ 67.    ,   0.8782,   4.0179,   0.868 ,  12.6053,   0.3336],\n",
       "       [ 68.    ,  52.5343,  55.6871,  47.8634,  61.281 ,  52.4967],\n",
       "       [ 69.    ,  36.4617,  39.1287,  50.4582,  63.7871,  41.7298],\n",
       "       [ 70.    ,   2.8647,   6.5213,   7.2039,   9.624 ,   1.8634],\n",
       "       [ 71.    ,  80.572 ,  83.7815,  62.4486,  71.3075, 113.4815],\n",
       "       [ 72.    ,   9.8142,  13.047 ,  21.7922,  25.0797,  30.5478],\n",
       "       [ 73.    ,   0.9861,   4.514 ,   0.866 ,  30.6737,   7.4909],\n",
       "       [ 74.    ,   0.5515,   4.0128,   0.0675,  28.1562,   0.078 ],\n",
       "       [ 75.    ,   1.9695,   5.0194,   3.7857,  25.1583,  13.2277],\n",
       "       [ 76.    ,   2.2571,   5.5214,   5.465 ,  21.1807,   7.4183],\n",
       "       [ 77.    ,   3.5776,   7.0253,   4.731 ,  19.6448,  17.4438],\n",
       "       [ 78.    ,  30.0036,  33.1039,  36.7564,  43.7051,  54.7537],\n",
       "       [ 79.    ,   3.4998,   6.5203,   3.851 ,   5.5835,   4.0027],\n",
       "       [ 80.    ,   2.7793,   5.5191,   1.0364,  42.6426,   1.0765],\n",
       "       [ 81.    ,  25.8043,  28.5927,  38.9543,  40.1122,  54.8818],\n",
       "       [ 82.    ,  11.2667,  14.0427,  18.5363,  19.0502,  30.6815],\n",
       "       [ 83.    ,  71.3654,  74.7513,  47.5067,  49.643 , 269.7078],\n",
       "       [ 84.    ,  68.9177,  71.7383,  43.0219,  43.6162, 105.0234],\n",
       "       [ 85.    ,   1.9208,   5.0137,   1.6009,   2.0099,   0.974 ],\n",
       "       [ 86.    ,  69.8808,  73.252 ,  49.0593,  79.1988,  91.865 ],\n",
       "       [ 87.    ,  75.5143,  78.7709,  47.6435,  76.6884, 109.3001],\n",
       "       [ 88.    ,   1.7495,   5.0109,   1.1755,   1.5069,   2.806 ],\n",
       "       [ 89.    ,   4.2321,   7.5157,   3.8178,   4.0142,  19.0582],\n",
       "       [ 90.    ,   2.0477,   6.0128,   1.43  ,   2.5079,   2.5707],\n",
       "       [ 91.    ,   0.6135,   3.507 ,   0.0412,   0.5043,   0.0425],\n",
       "       [ 92.    ,   2.4129,   6.0147,   1.5993,   2.0093,   2.0895],\n",
       "       [ 93.    ,   2.5754,   6.0147,   1.8485,   2.5096,   3.1868],\n",
       "       [ 94.    ,  13.8676,  17.0367,  13.3047,  13.5386,  32.8828],\n",
       "       [ 95.    ,   7.0231,  10.021 ,   8.4579,   9.0237,   8.6113],\n",
       "       [ 96.    ,   3.7718,   6.5138,   3.3498,   6.0192,  21.7389],\n",
       "       [ 97.    ,   1.3207,   4.5097,   0.7652,   1.0051,   0.957 ],\n",
       "       [ 98.    ,   3.2778,   6.5133,   2.9154,   3.5091,  10.6949],\n",
       "       [ 99.    ,   8.0457,  11.528 ,   7.9701,   8.5241,  32.7116]])"
      ]
     },
     "execution_count": 95,
     "metadata": {},
     "output_type": "execute_result"
    }
   ],
   "source": [
    "start = 0\n",
    "end = 100\n",
    "np.stack((np.arange(end-start) + start, rt[start:end], e2e_rt[start:end], ours_rt[start:end], ours_e2e[start:end], concurrency_df_rt[start:end]), axis=1)"
   ]
  },
  {
   "cell_type": "code",
   "execution_count": 66,
   "id": "954421f3-f4c7-43ae-8a1d-a402d850191a",
   "metadata": {},
   "outputs": [
    {
     "name": "stdout",
     "output_type": "stream",
     "text": [
      "0 0.0 85.74965190887451 24\n",
      "1 0.0 1.0899443626403809 204\n",
      "2 1.8668079999999998 3.196669578552246 202\n",
      "3 2.5509340000000003 117.7582700252533 82\n",
      "4 3.720243 3.069139242172241 151\n",
      "5 6.817359 79.92487502098083 73\n",
      "6 8.744517 53.67154026031494 26\n",
      "7 62.444424000000005 13.643858432769775 175\n",
      "8 80.27600000000001 59.582693338394165 204\n",
      "9 87.15794100000001 4.579750299453735 182\n",
      "10 88.895815 0.1039962768554687 9\n",
      "11 93.130002 245.94434309005737 22\n",
      "12 94.460391 69.64579319953918 139\n",
      "13 125.770718 13.8380286693573 8\n",
      "14 142.033315 0.2684483528137207 199\n",
      "15 149.52092 0.2201185226440429 8\n",
      "16 152.73743399999998 47.63173699378967 181\n",
      "17 156.388151 0.3939771652221679 215\n",
      "18 158.105023 168.15277552604675 45\n",
      "19 168.213426 84.61090850830078 5\n",
      "20 207.050728 10.514808654785156 196\n",
      "21 220.99726399999997 16.878137350082397 109\n",
      "22 245.538717 3.734508991241455 174\n",
      "23 252.624494 46.119447231292725 38\n",
      "24 252.852355 2.331519842147827 218\n",
      "25 259.271346 102.5082676410675 22\n",
      "26 301.10056000000003 113.13597345352171 75\n",
      "27 330.26570499999997 2.562037706375122 166\n",
      "28 334.348522 15.894503116607666 161\n",
      "29 342.819513 0.5140197277069092 81\n",
      "30 345.966902 3.856893539428711 21\n",
      "31 356.056288 38.31765294075012 201\n",
      "32 356.259396 1.3523178100585938 218\n",
      "33 363.89014099999997 16.086252212524414 236\n",
      "34 364.672228 161.59234380722046 54\n",
      "35 383.518449 4.30339789390564 142\n",
      "36 394.696626 288.3922288417816 89\n",
      "37 395.566265 51.795021295547485 126\n",
      "38 422.880361 30.54637026786804 137\n",
      "39 455.376743 1.0775766372680664 200\n",
      "40 456.486876 129.30134630203247 73\n",
      "41 457.61228500000004 9.903107404708862 21\n",
      "42 470.209428 1.0993423461914062 232\n",
      "43 475.280173 237.6363999843597 89\n",
      "44 529.431484 0.868532657623291 194\n",
      "45 530.5725199999999 7.652184724807739 128\n",
      "46 546.262288 138.46623516082764 113\n",
      "47 589.8076460000001 142.28639459609985 209\n",
      "48 688.077126 1.2078564167022705 155\n",
      "49 689.654728 11.350858688354492 221\n",
      "50 690.2476190000001 33.97046375274658 127\n",
      "51 706.727052 0.8613860607147217 208\n",
      "52 712.9983149999999 85.96987819671631 6\n",
      "53 717.436159 146.54978728294373 60\n",
      "54 726.3036890000001 13.93918776512146 197\n",
      "55 736.3018770000001 1.1733238697052002 155\n",
      "56 741.6553660000001 6.56273627281189 104\n",
      "57 744.114085 2.553089141845703 112\n",
      "58 749.480851 57.695822954177856 217\n",
      "59 754.2297070000001 102.74040484428406 38\n",
      "60 799.189035 1.6651556491851809 133\n",
      "61 801.350906 30.51639461517334 220\n",
      "62 810.182122 2.412177085876465 176\n",
      "63 816.6661200000001 53.673752307891846 35\n",
      "64 842.678276 32.828813314437866 139\n",
      "65 862.462575 8.0301513671875 148\n",
      "66 867.870111 6.253742694854736 146\n",
      "67 871.189326 0.3335855007171631 117\n",
      "68 876.557594 52.4967360496521 49\n",
      "69 876.8690230000001 41.72978234291077 159\n",
      "70 879.8775999999999 1.863444805145264 70\n",
      "71 880.4387240000001 113.48154735565186 60\n",
      "72 886.626454 30.547771215438843 201\n",
      "73 922.8462539999999 7.490946292877197 207\n",
      "74 924.411286 0.0779609680175781 68\n",
      "75 930.7957789999999 13.227738380432127 93\n",
      "76 936.7178839999999 7.418298244476318 97\n",
      "77 937.354963 17.44383192062378 191\n",
      "78 950.177098 54.75368571281433 20\n",
      "79 950.736824 4.002725839614868 172\n",
      "80 956.411582 1.076453447341919 193\n",
      "81 957.51623 54.88181781768799 38\n",
      "82 958.0222960000001 30.68152117729187 161\n",
      "83 996.228607 269.7078001499176 17\n",
      "84 999.765289 105.02339482307434 130\n",
      "85 1012.533685 0.973994255065918 176\n",
      "86 1015.942499 91.86498045921326 71\n",
      "87 1017.2348579999999 109.30014038085938 171\n",
      "88 1108.7162059999998 2.805986166000366 162\n",
      "89 1112.5974649999998 19.058226346969604 214\n",
      "90 1114.519927 2.570708036422729 93\n",
      "91 1121.878697 0.0424706935882568 18\n",
      "92 1130.008157 2.089456081390381 97\n",
      "93 1130.623878 3.186751365661621 57\n",
      "94 1133.5365379999998 32.88277006149292 167\n",
      "95 1133.8392840000001 8.611253023147583 116\n",
      "96 1141.316524 21.73892116546631 145\n",
      "97 1150.955661 0.957038164138794 216\n",
      "98 1155.0063930000001 10.694897890090942 198\n",
      "99 1166.021757 32.71156883239746 227\n"
     ]
    }
   ],
   "source": [
    "for i in range(100):\n",
    "    print(i, concurrency_df[\"start_time\"].iloc[i], concurrency_df[\"runtime\"].iloc[i], concurrency_df[\"query_idx\"].iloc[i])"
   ]
  },
  {
   "cell_type": "code",
   "execution_count": 63,
   "id": "bad2744b-c1fd-456f-aae4-77fea4aa254b",
   "metadata": {},
   "outputs": [
    {
     "name": "stdout",
     "output_type": "stream",
     "text": [
      "0 23 6.9897928134254785 1.7361910343170166 46.89248514175415 9.473017881796181\n",
      "1 21 0.042800471896216954 0.0306851863861084 0.064239501953125 0.008890692266292256\n",
      "2 25 77.7485980606079 36.011961460113525 176.65631198883057 32.84361507978263\n",
      "3 21 723.5043605055128 514.6219673156738 996.0332036018372 99.72439938805589\n",
      "4 23 183.26921186239824 95.24777936935423 322.1603753566742 57.0662497887613\n",
      "5 21 72.08878095944722 24.272745609283447 158.4005913734436 29.339563577499423\n",
      "6 22 103.16899719021536 31.87341856956482 219.7085883617401 39.49215570636949\n",
      "7 22 0.9977116801521995 0.5253846645355225 3.6383426189422607 0.6118403643045283\n",
      "8 23 5.961048416469408 0.2201185226440429 27.26981830596924 6.273220019590701\n",
      "9 22 0.1255583979866721 0.0557055473327636 0.851060152053833 0.1615357087075341\n",
      "10 21 0.2136202653249105 0.0695333480834961 0.7829084396362305 0.15434167068471696\n",
      "11 23 16.184140288311504 3.430562973022461 45.53382992744446 11.56589882122229\n",
      "12 22 97.93932069431652 32.612547636032104 207.1578130722046 49.2795844012873\n",
      "13 21 3.553691478002639 1.2702009677886963 26.018664360046387 5.163285756368686\n",
      "14 22 121.65024861422452 68.60875201225281 355.8027558326721 61.22873364603712\n",
      "15 24 1.1881455580393474 0.3847522735595703 12.994544506072998 2.526401848092305\n",
      "16 22 86.16257793253118 33.57595729827881 207.65561723709104 34.170450739128796\n",
      "17 23 296.701534602953 150.557382106781 714.7422087192535 124.89011916788225\n",
      "18 21 0.05231070518493648 0.0365009307861328 0.1775989532470703 0.030540554844811114\n",
      "19 22 0.771148605780168 0.4534749984741211 2.4920597076416016 0.4255168740559307\n",
      "20 22 82.32326952977614 40.248857259750366 177.3127408027649 33.84600055575649\n",
      "21 21 5.434237128212338 1.403172731399536 11.4060959815979 3.180699060858816\n",
      "22 21 146.55099364689417 50.740750789642334 245.94434309005737 46.78533437570987\n",
      "23 22 1.1405333172191272 0.4207050800323486 8.06845474243164 1.5670959272019922\n",
      "24 23 82.94941455384959 20.430005311965942 147.41200256347656 27.945278132747145\n",
      "25 23 5.1514595902484395 0.3191778659820556 30.13551950454712 7.971421426196254\n",
      "26 22 13.858905120329423 0.787994384765625 53.67154026031494 14.81072867126052\n",
      "27 23 108.32480989331785 51.50614285469055 232.39939308166504 44.21557453017148\n",
      "28 23 105.07014341976331 44.7848699092865 243.56090712547305 54.341192304711086\n",
      "29 23 78.1181552513786 27.248016119003296 132.98541021347046 29.22822119862054\n",
      "30 21 0.4464929217383975 0.0796630382537841 6.172322511672974 1.2861362321151641\n",
      "31 24 2.179687728484472 1.097135066986084 6.987371921539307 1.4937403667444848\n",
      "32 23 7.327541475710661 0.8934240341186523 37.4722580909729 10.3170675150801\n",
      "33 23 3.3361666098884912 0.3297452926635742 8.775776863098145 2.011919797947492\n",
      "34 24 254.37290877103806 87.80307221412659 653.0446753501892 121.0375202246764\n",
      "35 23 56.873718956242435 5.8984315395355225 197.13838958740237 35.64635680292319\n",
      "36 23 0.46559014527694037 0.0600912570953369 1.7672019004821775 0.46807378733112637\n",
      "37 21 4.61646200361706 0.1859669685363769 17.68986940383911 6.575947183779314\n",
      "38 23 93.31937108869138 35.11863565444946 199.28476572036743 41.844340739453045\n",
      "39 23 16.006294437076736 4.954604148864746 40.002551555633545 9.50746742383308\n",
      "40 22 1.3407967198978772 0.3659403324127197 10.767824649810793 2.432932474477646\n",
      "41 22 2.756193085150285 0.46712327003479 9.176797866821287 1.9604538044829078\n",
      "42 22 69.006073160605 14.993702411651611 150.88532829284668 34.59215689348754\n",
      "43 22 74.99094826524907 27.1892306804657 118.12181568145752 25.45183556578762\n",
      "44 21 5.761021387009394 0.2777009010314941 35.48574471473694 9.126682999367434\n",
      "45 23 143.96716685917067 88.77582550048828 308.7940320968628 45.15153771845222\n",
      "46 22 12.712100830945102 0.4721410274505615 44.26828932762146 13.756322364313823\n",
      "47 23 12.895637439644855 1.5947036743164062 45.08370780944824 13.550412228952998\n",
      "48 21 11.670005071730841 1.53783917427063 38.86682796478272 11.875015844678163\n",
      "49 22 85.19459131630984 32.52388525009155 241.61110949516296 46.15450220267839\n",
      "50 21 8.749213888531639 2.314539670944214 47.67878985404968 10.262159335232615\n",
      "51 22 79.93191385269165 42.001489877700806 115.36010408401488 19.926647118098153\n",
      "52 23 149.9488203836524 85.70980405807495 274.9142861366272 48.04230334529152\n",
      "53 22 10.517767223444851 1.8766586780548096 34.3010094165802 9.037321276062059\n",
      "54 24 131.7462236781915 47.64624786376953 197.14332509040835 33.22483274067126\n",
      "55 21 75.17281503904434 13.731611728668211 176.56220650672913 38.05801342178196\n",
      "56 22 1.948278633030978 0.5308547019958496 11.814286947250366 2.801353015137886\n",
      "57 21 3.5593993096124557 1.260359764099121 11.797884225845335 3.4327689443551486\n",
      "58 22 101.14834833145142 25.08626627922058 228.03829312324524 47.40871454452425\n",
      "59 21 90.91845714478265 23.18736886978149 301.95357966423035 55.54797089592566\n",
      "60 22 170.33297748999163 113.48154735565186 486.0422909259796 85.98268616575032\n",
      "61 23 109.53442872088888 26.0031418800354 264.3960039615631 47.129961576958216\n",
      "62 24 1.4591027597586315 0.2927072048187256 4.759328365325928 1.0698165131064308\n",
      "63 25 78.44325522422791 7.753509759902954 186.36252284049988 38.799703556836725\n",
      "64 22 70.5683312849565 11.53930640220642 151.28026127815247 32.57779394010435\n",
      "65 22 102.23685926740819 22.731439113616943 223.960725069046 58.7710671381136\n",
      "66 23 113.40419635565385 58.3717827796936 267.6595344543457 47.558438661404004\n",
      "67 21 2.354116303580148 0.4122610092163086 15.706271886825562 4.368030924219535\n",
      "68 24 0.04784828424453732 0.0309765338897705 0.0847311019897461 0.0157054722034861\n",
      "69 23 13.699009615442026 0.9250617027282716 72.14889335632324 16.53732253351559\n",
      "70 23 8.313379888949187 1.2347121238708496 73.87405323982239 15.146908850049575\n",
      "71 21 77.46834682282947 21.77384305000305 140.95213079452515 29.023157812647515\n",
      "72 21 7.753480173292614 0.4556901454925537 51.065160512924194 11.741405638157978\n",
      "73 22 75.57090135054155 39.32475185394287 129.968496799469 27.75609102918256\n",
      "74 22 95.36021381074733 58.60454750061035 132.27711987495422 20.047600686983312\n",
      "75 21 135.944473584493 17.070606231689453 428.7037394046784 103.8326951628269\n",
      "76 22 4.646890889514577 1.0417201519012451 18.70798134803772 5.055430141947348\n",
      "77 21 113.06622427985782 49.70887398719788 198.79279160499573 43.33204285642806\n",
      "78 22 21.822530562227424 3.6589317321777344 56.03164839744568 18.028479914131914\n",
      "79 22 76.29312864216891 32.812960624694824 124.0277988910675 28.402733928775017\n",
      "80 21 176.58923847334725 117.07256269454956 285.1414449214936 44.596977090625785\n",
      "81 22 0.6913110126148571 0.4374122619628906 3.384938240051269 0.5941385237422833\n",
      "82 22 141.10768856785515 65.88829970359802 291.6165261268616 55.77865137641481\n",
      "83 23 84.22061536623085 36.78687596321106 220.6294207572937 40.13655845380976\n",
      "84 22 149.64852272380483 96.5650315284729 291.25213742256165 42.03771238770476\n",
      "85 22 73.6228896704587 35.713664531707764 106.81664443016052 21.096835261016622\n",
      "86 23 6.947554038918537 0.3404839038848877 40.45940613746643 10.271738295312712\n",
      "87 21 2.4319453012375605 0.5967526435852051 12.043309926986694 2.8758970422460033\n",
      "88 23 2.324500913205354 0.286278486251831 4.895215272903442 1.5512542740631992\n",
      "89 23 222.56775829066402 133.6943244934082 305.0563879013061 44.166073637820986\n",
      "90 21 3.1881836028326127 0.290177583694458 16.028655767440796 4.975333377706963\n",
      "91 21 80.48511927468437 32.20046639442444 124.76345348358154 24.730666294482017\n",
      "92 22 80.79885745048523 16.70511794090271 154.65073800086975 34.64132856341455\n",
      "93 22 3.256664893843911 1.0646820068359375 14.19463348388672 3.7840352495223173\n",
      "94 23 0.5530317866283915 0.0869719982147216 6.725616931915283 1.4112736283519975\n",
      "95 23 3.7092023310453994 1.24164080619812 12.7912859916687 2.684786142838576\n",
      "96 22 83.97920060157776 43.73636293411255 203.8058249950409 40.45471029038828\n",
      "97 22 5.452858610586687 1.2804481983184814 16.276411771774292 4.471955555436982\n",
      "98 22 22.883476885882292 4.518856525421143 67.91768789291382 17.38669667202203\n",
      "99 23 77.47791044608407 31.519620180130005 132.8948802947998 26.17853707959575\n",
      "100 23 11.579320295997288 1.5697932243347168 37.58251619338989 10.574327628076261\n",
      "101 22 67.29679828340358 19.30060315132141 120.02665877342224 26.62881568182861\n",
      "102 22 1.8975270011208274 1.330045223236084 3.157266139984131 0.5267814717129871\n",
      "103 24 2.7545248667399087 1.1737103462219238 17.56958556175232 3.527825417797858\n",
      "104 23 22.232826948165894 4.196043968200684 103.95571899414062 22.183755251424635\n",
      "105 21 9.656908092044649 1.1033194065093994 29.699135303497314 6.563041840811933\n",
      "106 22 2.328883864662864 1.003007173538208 17.181044101715088 3.2737854053464317\n",
      "107 22 5.7009205709804185 2.4195821285247803 22.38631629943848 5.190346379989339\n",
      "108 23 1.2927281960197117 0.6930716037750244 8.075559139251709 1.4707821392805593\n",
      "109 21 27.44436885061718 4.572751998901367 61.06359529495239 15.56694194509429\n",
      "110 23 12.909786369489586 2.5046629905700684 60.078739404678345 12.841040710888068\n",
      "111 21 11.61001341683524 6.215322732925415 33.397823095321655 5.55236954963328\n",
      "112 21 4.829705272402082 1.2133421897888184 38.55197834968567 8.379655975190108\n",
      "113 22 78.0311341827566 30.808438062667847 194.97879123687744 45.88233484072781\n",
      "114 23 65.45244091490041 11.744507551193236 147.36590051651 32.17840406424458\n",
      "115 22 1.8201952955939553 1.2246253490447998 3.3149421215057373 0.6376000607279703\n",
      "116 23 12.619767375614332 7.380224704742432 20.971259355545044 3.9862642974424944\n",
      "117 23 1.2430855191272239 0.3335855007171631 13.451581239700316 2.7149982627557425\n",
      "118 21 20.293491738183157 4.087346792221069 46.14321994781494 10.913101306604373\n",
      "119 23 1.7890461216802183 0.5712568759918213 6.370089769363403 1.4833425923382053\n",
      "120 23 9.46748461930648 4.60681676864624 16.42377281188965 3.427229588033325\n",
      "121 22 14.618619973009283 3.4381837844848637 59.53220510482788 14.65250458807275\n",
      "122 23 18.384831459625907 2.7014896869659424 55.40261197090149 14.216060863100948\n",
      "123 22 1.2595521970228716 0.2808420658111572 2.905582427978516 0.8757733821192429\n",
      "124 22 7.684159376404502 2.331825256347656 31.01224255561829 8.80539057898524\n",
      "125 22 2.1288703138178047 0.5419504642486572 12.097370386123655 3.0785258655880368\n",
      "126 22 3.207423513585871 0.5687918663024902 51.795021295547485 10.604620315385041\n",
      "127 21 37.711857296171644 4.24920392036438 102.75732731819151 20.570393015731273\n",
      "128 23 11.448117028111996 1.941819667816162 44.096232414245605 10.738539598469442\n",
      "129 22 83.85551928390156 27.150004625320435 189.17943167686465 34.033262538523985\n",
      "130 21 84.44872096606663 31.84046244621277 134.62761306762695 25.716983760164005\n",
      "131 21 14.687898556391398 2.466801404953003 49.92515110969544 13.071565722114748\n",
      "132 22 2.8233367746526543 0.2618594169616699 16.478155851364136 3.256633268835343\n",
      "133 22 3.110214190049605 0.9921903610229492 32.48973608016968 6.45899473883162\n",
      "134 22 2.5663458542390303 0.9920444488525392 15.601428270339966 3.1331175658409784\n",
      "135 23 1.0865437362505042 0.6856386661529541 4.890574216842651 0.8236451259782509\n",
      "136 23 4.610276284425155 1.2069716453552246 29.66314196586609 6.177505194958249\n",
      "137 23 4.789511991583782 1.008424997329712 30.54637026786804 6.024743409486969\n",
      "138 22 8.943389957601374 5.288976669311523 26.94955277442932 4.933215903631969\n",
      "139 22 46.29782126166604 16.72199773788452 105.11087536811829 23.405388165504018\n",
      "140 25 1.2910929107666016 0.8654930591583252 3.276896476745605 0.49578979486321423\n",
      "141 22 68.07453658364035 17.479447841644287 130.52339124679563 29.442226002619808\n",
      "142 22 7.9041785110126845 2.526639699935913 34.093987464904785 8.742918710338458\n",
      "143 23 1.121874933657439 0.3190207481384277 8.235247611999512 2.018489424505436\n",
      "144 24 3.1659750640392303 0.9391560554504396 21.347491025924683 4.858840603866207\n",
      "145 22 7.933146249164235 2.9898946285247803 26.26517081260681 7.013369116673425\n",
      "146 21 6.2512941133408315 3.0481278896331787 27.33660864830017 6.134351176288122\n",
      "147 21 15.747480051858085 2.7090420722961426 52.08040452003479 13.489203109908642\n",
      "148 22 20.49346842549064 2.30593204498291 85.8226969242096 21.730958135519536\n",
      "149 22 3.1129196882247925 0.2951583862304687 13.928056240081789 3.1639649520974222\n",
      "150 22 3.0276954499157993 0.4562215805053711 10.519112586975098 3.2044902300031786\n",
      "151 21 4.380622909182594 2.025691509246826 16.45615530014038 3.365126159628521\n",
      "152 23 4.730573249899822 0.893061637878418 30.65226984024048 7.984516628804794\n",
      "153 22 6.850707465952093 1.7476646900177002 53.51321792602539 11.624101920146275\n",
      "154 24 2.9001413583755493 0.7342977523803711 17.13459277153015 3.7078803664451425\n",
      "155 21 2.333273785454886 0.8108980655670166 17.115768432617188 3.5093848750003356\n",
      "156 23 7.882217718207317 0.8241941928863525 36.855406045913696 9.454435073438807\n",
      "157 23 42.10974233046822 3.297377109527588 89.77678418159485 23.51104262866245\n",
      "158 22 15.102368029681118 4.302280902862549 41.659311294555664 10.400000726915014\n",
      "159 24 33.84521226088206 11.266900777816772 79.94401693344116 17.28449427154097\n",
      "160 22 11.57721152088859 6.631659984588623 39.33760976791382 7.269350108530884\n",
      "161 21 12.328590654191517 0.6996066570281982 46.13150835037232 13.48574865098746\n",
      "162 22 2.788287325338884 1.2499165534973145 5.693975210189819 1.0538300913422884\n",
      "163 22 2.1872355937957764 1.6517786979675293 3.6145739555358887 0.4665915929201005\n",
      "164 22 76.43051666563207 33.08474898338318 175.02177357673645 33.712013952976896\n",
      "165 22 7.145354856144298 2.3616297245025635 17.331918239593506 3.850639934228613\n",
      "166 22 2.5641808943314985 0.4203650951385498 5.18537187576294 1.3252315402942698\n",
      "167 22 10.175597689368509 1.4109277725219729 32.88277006149292 9.125939987940926\n",
      "168 23 19.898294842761494 2.664159774780273 66.52572631835938 19.917767688393518\n",
      "169 21 11.027541444415139 1.6414763927459717 46.60490393638611 14.273584924961984\n",
      "170 23 64.78216194069904 29.03904509544373 112.90327072143556 21.91745573689826\n",
      "171 23 100.08946014487225 33.899468660354614 224.8640305995941 45.9875369416068\n",
      "172 24 4.322989990313848 1.0523478984832764 14.020894289016724 2.7189431737998557\n",
      "173 22 12.849268447269093 1.7162604331970217 46.43105959892273 11.937108666170674\n",
      "174 22 9.297147111459212 3.0626087188720703 40.07661724090576 10.13529082041521\n",
      "175 22 13.685023470358415 0.8530962467193604 70.06083655357361 15.611460090562437\n",
      "176 23 1.864891995554385 0.2644200325012207 4.755562782287598 1.0364479591072253\n",
      "177 22 8.595370986244895 2.5905799865722656 34.51447916030884 7.661410791883313\n",
      "178 21 5.032455614634922 1.937152862548828 9.70620822906494 2.1571839414662923\n",
      "179 22 8.849479469386013 1.3849363327026367 21.721774101257324 5.17031307876472\n",
      "180 22 8.160470886663957 2.8793275356292725 42.35310816764832 9.376339263615016\n",
      "181 22 85.45789888772097 43.23809313774109 178.899484872818 37.31192465213068\n",
      "182 21 7.36290777297247 2.92673134803772 33.42267203330994 7.935166446290364\n",
      "183 22 2.249464349313216 0.9468071460723876 11.298260927200316 2.1888924799661145\n",
      "184 22 1.19573251767592 0.320974588394165 3.110873222351074 0.8168358612102534\n",
      "185 22 149.34691302342847 93.7652678489685 312.9784755706787 46.81871656040441\n",
      "186 23 31.259340711261917 6.909365177154541 63.96453857421875 13.32033044952546\n",
      "187 21 117.96392015048436 33.771538496017456 311.5895755290985 61.66256427002115\n",
      "188 21 6.763978549412319 3.0512139797210693 14.117905855178831 3.2113553146260223\n",
      "189 22 77.89482564275914 8.278306245803833 141.15684366226196 31.13421402813448\n",
      "190 21 22.058679512568883 3.0406899452209477 57.95078039169312 16.726401245233905\n",
      "191 22 8.201946724544872 2.1143031120300293 57.00207257270813 13.393039129708507\n",
      "192 24 8.486270795265833 1.576545476913452 24.660470724105835 7.780420750520243\n",
      "193 23 1.4468092503754988 0.7624084949493408 3.779869079589844 0.7699500074186115\n",
      "194 21 6.289422057923817 0.5343422889709473 30.837279558181763 7.803235895351248\n",
      "195 21 3.1241930552891324 1.4059646129608154 19.46186351776123 3.723672360251556\n",
      "196 21 10.27056360244751 1.546576976776123 33.26722073554993 8.353118981372587\n",
      "197 23 16.753890586935956 3.881973028182984 44.940425395965576 11.323055400793839\n",
      "198 21 11.049244426545643 1.2445194721221924 22.77516293525696 6.526211503667827\n",
      "199 23 5.402899918348893 0.2515103816986084 20.601592302322388 6.276732404322158\n",
      "200 21 1.3782379854293096 0.8298585414886475 4.394127130508423 0.8508976471131264\n",
      "201 21 26.6461923463004 7.903535604476929 59.451338052749634 12.593690265951384\n",
      "202 22 4.475379781289534 1.253969669342041 17.879129886627197 4.974236088009141\n",
      "203 23 40.694656092187635 8.31274700164795 74.59437036514282 16.969947189030414\n",
      "204 23 30.75874907037486 1.0233378410339355 61.073673248291016 18.078341304873508\n",
      "205 23 8.254718645759251 0.9241514205932616 30.119948387146 9.702713048820312\n",
      "206 21 25.673311210813978 7.045467853546143 55.03525924682617 10.754892326316245\n",
      "207 23 4.416593188824861 0.2831106185913086 28.64644503593445 6.514704294644784\n",
      "208 22 1.0514701821587302 0.8068385124206543 2.2281007766723637 0.30304960318228197\n",
      "209 22 69.90013940767808 16.92854142189026 142.28639459609985 28.071410863802566\n",
      "210 22 4.416621750051325 1.4406123161315918 20.04443049430847 5.230914445113469\n",
      "211 21 34.79291226750328 16.681540966033936 74.12308144569397 15.158877337138032\n",
      "212 21 42.75169053531828 1.3540349006652832 109.68615293502808 23.525600531397068\n",
      "213 21 10.432622035344442 1.0074577331542969 33.745914697647095 10.28230214240583\n",
      "214 21 20.495909713563464 2.092978477478028 55.31604599952698 12.231763982131712\n",
      "215 22 4.3642532933842055 0.2688074111938476 21.171883583068848 6.045250378903435\n",
      "216 23 1.4949048602062722 0.7412440776824951 7.04738712310791 1.2910629633104191\n",
      "217 22 53.664253971793435 11.63814926147461 135.71746301651 30.61670681208299\n",
      "218 23 6.298652514167454 1.1327030658721924 28.302945613861084 8.157074691447537\n",
      "219 24 38.35017208258311 7.370096445083618 88.79821443557739 20.746413970965165\n",
      "220 22 38.91587959636342 1.316429615020752 88.72879838943481 22.81557887860686\n",
      "221 22 10.31762222810225 0.8606002330780029 71.89394974708557 14.855879586640068\n",
      "222 23 21.260715629743494 1.991410732269287 53.1753089427948 14.251583401078022\n",
      "223 22 3.4127743569287388 0.2600812911987304 19.34111976623535 5.782953617582383\n",
      "224 23 3.016734911047894 0.7406561374664307 25.557674407958984 5.962266237570054\n",
      "225 23 67.08286866934404 26.55039358139038 163.36516547203064 28.107484947799605\n",
      "226 21 4.708903131030855 1.4419441223144531 23.94285821914673 6.498686299765802\n",
      "227 23 39.74737929261249 12.68664288520813 97.86278200149536 19.597563349410397\n",
      "228 23 31.43480763228043 2.9766883850097656 66.7907919883728 16.378024544667518\n",
      "229 24 9.244151363770166 1.0800631046295166 31.72947645187378 8.851340451645562\n",
      "230 22 32.15473556518555 6.256954193115234 95.9319143295288 20.047355283686183\n",
      "231 22 5.648239244114269 0.2666065692901611 20.82340693473816 6.937012961374777\n",
      "232 22 1.183630802414634 0.7382781505584717 4.55221152305603 0.7800157187480268\n",
      "233 22 54.14423330263658 5.170088529586792 136.9858582019806 28.261302036073467\n",
      "234 21 7.978255760102045 1.229769945144653 28.60218620300293 9.636172521855322\n",
      "235 22 33.85423584417863 1.6529569625854492 74.15129446983337 17.347147153740092\n",
      "236 22 32.882757512005895 1.0168726444244385 69.82897281646729 21.98947186750301\n",
      "237 23 12.358581035033517 1.019498586654663 37.041926860809326 12.023784175165979\n"
     ]
    }
   ],
   "source": [
    "for i, rows in concurrency_df.groupby(\"query_idx\"):\n",
    "    runtime = rows[\"runtime\"].values\n",
    "    print(i, len(rows), np.mean(runtime), np.min(runtime), np.max(runtime), np.std(runtime))"
   ]
  },
  {
   "cell_type": "code",
   "execution_count": 64,
   "id": "95e14960-aa8c-47fc-a508-d3e8625b698b",
   "metadata": {},
   "outputs": [
    {
     "data": {
      "text/html": [
       "<div>\n",
       "<style scoped>\n",
       "    .dataframe tbody tr th:only-of-type {\n",
       "        vertical-align: middle;\n",
       "    }\n",
       "\n",
       "    .dataframe tbody tr th {\n",
       "        vertical-align: top;\n",
       "    }\n",
       "\n",
       "    .dataframe thead th {\n",
       "        text-align: right;\n",
       "    }\n",
       "</style>\n",
       "<table border=\"1\" class=\"dataframe\">\n",
       "  <thead>\n",
       "    <tr style=\"text-align: right;\">\n",
       "      <th></th>\n",
       "      <th>index</th>\n",
       "      <th>query_idx</th>\n",
       "      <th>runtime</th>\n",
       "      <th>start_time</th>\n",
       "      <th>end_time</th>\n",
       "      <th>pre_exec_info</th>\n",
       "      <th>concur_info</th>\n",
       "      <th>num_concurrent_queries</th>\n",
       "      <th>concur_info_train</th>\n",
       "      <th>num_concurrent_queries_train</th>\n",
       "    </tr>\n",
       "  </thead>\n",
       "  <tbody>\n",
       "    <tr>\n",
       "      <th>0</th>\n",
       "      <td>0</td>\n",
       "      <td>24</td>\n",
       "      <td>85.749652</td>\n",
       "      <td>0.000000</td>\n",
       "      <td>85.749652</td>\n",
       "      <td>[]</td>\n",
       "      <td>[(204, 0.0, 1.0899443626403809), (202, 1.86680...</td>\n",
       "      <td>8</td>\n",
       "      <td>[]</td>\n",
       "      <td>0</td>\n",
       "    </tr>\n",
       "    <tr>\n",
       "      <th>1</th>\n",
       "      <td>1</td>\n",
       "      <td>204</td>\n",
       "      <td>1.089944</td>\n",
       "      <td>0.000000</td>\n",
       "      <td>1.089944</td>\n",
       "      <td>[]</td>\n",
       "      <td>[(24, 0.0, 85.74965190887451)]</td>\n",
       "      <td>1</td>\n",
       "      <td>[(24, 0.0, 85.74965190887451)]</td>\n",
       "      <td>1</td>\n",
       "    </tr>\n",
       "    <tr>\n",
       "      <th>2</th>\n",
       "      <td>2</td>\n",
       "      <td>202</td>\n",
       "      <td>3.196670</td>\n",
       "      <td>1.866808</td>\n",
       "      <td>5.063478</td>\n",
       "      <td>[(204, 0.0, 1.0899443626403809)]</td>\n",
       "      <td>[(24, 0.0, 85.74965190887451), (82, 2.55093400...</td>\n",
       "      <td>3</td>\n",
       "      <td>[(24, 0.0, 85.74965190887451)]</td>\n",
       "      <td>1</td>\n",
       "    </tr>\n",
       "    <tr>\n",
       "      <th>3</th>\n",
       "      <td>3</td>\n",
       "      <td>82</td>\n",
       "      <td>117.758270</td>\n",
       "      <td>2.550934</td>\n",
       "      <td>120.309204</td>\n",
       "      <td>[(204, 0.0, 1.0899443626403809)]</td>\n",
       "      <td>[(24, 0.0, 85.74965190887451), (202, 1.8668079...</td>\n",
       "      <td>11</td>\n",
       "      <td>[(24, 0.0, 85.74965190887451), (202, 1.8668079...</td>\n",
       "      <td>2</td>\n",
       "    </tr>\n",
       "  </tbody>\n",
       "</table>\n",
       "</div>"
      ],
      "text/plain": [
       "   index  query_idx     runtime  start_time    end_time  \\\n",
       "0      0         24   85.749652    0.000000   85.749652   \n",
       "1      1        204    1.089944    0.000000    1.089944   \n",
       "2      2        202    3.196670    1.866808    5.063478   \n",
       "3      3         82  117.758270    2.550934  120.309204   \n",
       "\n",
       "                      pre_exec_info  \\\n",
       "0                                []   \n",
       "1                                []   \n",
       "2  [(204, 0.0, 1.0899443626403809)]   \n",
       "3  [(204, 0.0, 1.0899443626403809)]   \n",
       "\n",
       "                                         concur_info  num_concurrent_queries  \\\n",
       "0  [(204, 0.0, 1.0899443626403809), (202, 1.86680...                       8   \n",
       "1                     [(24, 0.0, 85.74965190887451)]                       1   \n",
       "2  [(24, 0.0, 85.74965190887451), (82, 2.55093400...                       3   \n",
       "3  [(24, 0.0, 85.74965190887451), (202, 1.8668079...                      11   \n",
       "\n",
       "                                   concur_info_train  \\\n",
       "0                                                 []   \n",
       "1                     [(24, 0.0, 85.74965190887451)]   \n",
       "2                     [(24, 0.0, 85.74965190887451)]   \n",
       "3  [(24, 0.0, 85.74965190887451), (202, 1.8668079...   \n",
       "\n",
       "   num_concurrent_queries_train  \n",
       "0                             0  \n",
       "1                             1  \n",
       "2                             1  \n",
       "3                             2  "
      ]
     },
     "execution_count": 64,
     "metadata": {},
     "output_type": "execute_result"
    }
   ],
   "source": [
    "concurrency_df.head(4)"
   ]
  },
  {
   "cell_type": "code",
   "execution_count": null,
   "id": "5cc4c96d-3d77-4c9d-a3cb-02bbe87e8476",
   "metadata": {},
   "outputs": [],
   "source": []
  }
 ],
 "metadata": {
  "kernelspec": {
   "display_name": "Python 3 (ipykernel)",
   "language": "python",
   "name": "python3"
  },
  "language_info": {
   "codemirror_mode": {
    "name": "ipython",
    "version": 3
   },
   "file_extension": ".py",
   "mimetype": "text/x-python",
   "name": "python",
   "nbconvert_exporter": "python",
   "pygments_lexer": "ipython3",
   "version": "3.11.7"
  }
 },
 "nbformat": 4,
 "nbformat_minor": 5
}
