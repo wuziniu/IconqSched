{
 "cells": [
  {
   "cell_type": "code",
   "execution_count": 1,
   "id": "1a25d788-d09f-45ca-9c63-59b792d0e1bf",
   "metadata": {},
   "outputs": [],
   "source": [
    "import pandas as pd\n",
    "import os\n",
    "import copy\n",
    "import numpy as np\n",
    "import sys\n",
    "sys.path.append(\"../\")\n",
    "from parser.utils import load_json\n",
    "from utils.load_brad_trace import load_trace, create_concurrency_dataset, load_trace_all_version\n",
    "from models.concurrency.baselines.gcn_graph_gen import generate_graph\n",
    "from models.concurrency.baselines.gcn_dbconnection import Database\n",
    "from models.feature.single_xgboost_feature import find_top_k_operators\n",
    "from models.concurrency.baselines.gcn_graph_embedding import load_data, load_all_data"
   ]
  },
  {
   "cell_type": "code",
   "execution_count": 2,
   "id": "71f7ae7a-7a75-4aab-ac13-520be07bb325",
   "metadata": {},
   "outputs": [],
   "source": [
    "parsed_queries_path = \"/Users/ziniuw/Desktop/research/Data/AWS_trace/mixed_aurora/aurora_mixed_parsed_queries.json\"\n",
    "parsed_run = load_json(parsed_queries_path, namespace=False)\n",
    "raw = load_json(\"/Users/ziniuw/Desktop/research/Data/AWS_trace/mixed_aurora/aurora_mixed.json\", namespace=False)"
   ]
  },
  {
   "cell_type": "code",
   "execution_count": 3,
   "id": "ede9e05d-c7f7-4887-898a-5c484a69cd8a",
   "metadata": {},
   "outputs": [],
   "source": [
    "folder_name = \"mixed_aurora\"\n",
    "directory = f\"/Users/ziniuw/Desktop/research/Data/AWS_trace/{folder_name}/\"\n",
    "all_raw_trace, all_trace = load_trace_all_version(directory, 8, concat=True)"
   ]
  },
  {
   "cell_type": "code",
   "execution_count": 4,
   "id": "bd1621a2-fbf0-4da8-9709-7ac965783075",
   "metadata": {},
   "outputs": [
    {
     "data": {
      "text/html": [
       "<div>\n",
       "<style scoped>\n",
       "    .dataframe tbody tr th:only-of-type {\n",
       "        vertical-align: middle;\n",
       "    }\n",
       "\n",
       "    .dataframe tbody tr th {\n",
       "        vertical-align: top;\n",
       "    }\n",
       "\n",
       "    .dataframe thead th {\n",
       "        text-align: right;\n",
       "    }\n",
       "</style>\n",
       "<table border=\"1\" class=\"dataframe\">\n",
       "  <thead>\n",
       "    <tr style=\"text-align: right;\">\n",
       "      <th></th>\n",
       "      <th>timestamp</th>\n",
       "      <th>time_since_execution_s</th>\n",
       "      <th>time_of_day</th>\n",
       "      <th>query_idx</th>\n",
       "      <th>run_time_s</th>\n",
       "      <th>engine</th>\n",
       "      <th>g_offset_since_start</th>\n",
       "      <th>g_offset_since_start_s</th>\n",
       "      <th>g_issue_gap_s</th>\n",
       "    </tr>\n",
       "  </thead>\n",
       "  <tbody>\n",
       "    <tr>\n",
       "      <th>0</th>\n",
       "      <td>2024-02-15 19:31:48.824876+00:00</td>\n",
       "      <td>9.645261</td>\n",
       "      <td>00:16</td>\n",
       "      <td>29</td>\n",
       "      <td>110.210543</td>\n",
       "      <td>NaN</td>\n",
       "      <td>0 days 00:00:00</td>\n",
       "      <td>0.000000</td>\n",
       "      <td>0.000000</td>\n",
       "    </tr>\n",
       "    <tr>\n",
       "      <th>823</th>\n",
       "      <td>2024-02-15 19:31:41.425990+00:00</td>\n",
       "      <td>1.873206</td>\n",
       "      <td>00:03</td>\n",
       "      <td>143</td>\n",
       "      <td>3.958360</td>\n",
       "      <td>NaN</td>\n",
       "      <td>0 days 00:00:00</td>\n",
       "      <td>0.000000</td>\n",
       "      <td>0.000000</td>\n",
       "    </tr>\n",
       "    <tr>\n",
       "      <th>2337</th>\n",
       "      <td>2024-02-15 19:31:43.079819+00:00</td>\n",
       "      <td>2.760294</td>\n",
       "      <td>00:04</td>\n",
       "      <td>135</td>\n",
       "      <td>3.479030</td>\n",
       "      <td>NaN</td>\n",
       "      <td>0 days 00:00:01.653829</td>\n",
       "      <td>0.887088</td>\n",
       "      <td>0.887088</td>\n",
       "    </tr>\n",
       "    <tr>\n",
       "      <th>2338</th>\n",
       "      <td>2024-02-15 19:31:48.642502+00:00</td>\n",
       "      <td>8.322977</td>\n",
       "      <td>00:13</td>\n",
       "      <td>75</td>\n",
       "      <td>63.228388</td>\n",
       "      <td>NaN</td>\n",
       "      <td>0 days 00:00:07.216512</td>\n",
       "      <td>6.449771</td>\n",
       "      <td>5.562683</td>\n",
       "    </tr>\n",
       "    <tr>\n",
       "      <th>1575</th>\n",
       "      <td>2024-02-15 19:31:48.316405+00:00</td>\n",
       "      <td>8.388999</td>\n",
       "      <td>00:13</td>\n",
       "      <td>36</td>\n",
       "      <td>0.853417</td>\n",
       "      <td>NaN</td>\n",
       "      <td>0 days 00:00:06.890415</td>\n",
       "      <td>6.515793</td>\n",
       "      <td>6.515793</td>\n",
       "    </tr>\n",
       "  </tbody>\n",
       "</table>\n",
       "</div>"
      ],
      "text/plain": [
       "                            timestamp  time_since_execution_s time_of_day  \\\n",
       "0    2024-02-15 19:31:48.824876+00:00                9.645261       00:16   \n",
       "823  2024-02-15 19:31:41.425990+00:00                1.873206       00:03   \n",
       "2337 2024-02-15 19:31:43.079819+00:00                2.760294       00:04   \n",
       "2338 2024-02-15 19:31:48.642502+00:00                8.322977       00:13   \n",
       "1575 2024-02-15 19:31:48.316405+00:00                8.388999       00:13   \n",
       "\n",
       "      query_idx  run_time_s  engine   g_offset_since_start  \\\n",
       "0            29  110.210543     NaN        0 days 00:00:00   \n",
       "823         143    3.958360     NaN        0 days 00:00:00   \n",
       "2337        135    3.479030     NaN 0 days 00:00:01.653829   \n",
       "2338         75   63.228388     NaN 0 days 00:00:07.216512   \n",
       "1575         36    0.853417     NaN 0 days 00:00:06.890415   \n",
       "\n",
       "      g_offset_since_start_s  g_issue_gap_s  \n",
       "0                   0.000000       0.000000  \n",
       "823                 0.000000       0.000000  \n",
       "2337                0.887088       0.887088  \n",
       "2338                6.449771       5.562683  \n",
       "1575                6.515793       6.515793  "
      ]
     },
     "execution_count": 4,
     "metadata": {},
     "output_type": "execute_result"
    }
   ],
   "source": [
    "all_trace[0].head(5)"
   ]
  },
  {
   "cell_type": "code",
   "execution_count": 4,
   "id": "0ebe45c3-5e66-4c49-b5d8-1c16551b27bd",
   "metadata": {},
   "outputs": [
    {
     "name": "stdout",
     "output_type": "stream",
     "text": [
      "Top 20 operators contains 0.9650782102582758 total operators\n",
      "generate_graph 0\n",
      "generate_graph 1\n",
      "generate_graph 2\n",
      "generate_graph 3\n",
      "generate_graph 4\n",
      "generate_graph 5\n"
     ]
    }
   ],
   "source": [
    "db = Database(\"mysql\", connect=False)\n",
    "num_operators = 20\n",
    "rid = 0\n",
    "time_interval = 600\n",
    "save_dir = \"/Users/ziniuw/Desktop/research/perf_prediction/workload-performance/pmodel_data/imdb/\"\n",
    "if not os.path.exists(save_dir):\n",
    "    os.makedirs(save_dir)\n",
    "knobs = db.fetch_knob()\n",
    "all_optype = find_top_k_operators(plans=parsed_run, k=num_operators)\n",
    "for run_id, trace in enumerate(all_trace):\n",
    "    trace = trace.sort_values(\"time_since_execution_s\", ascending=True)\n",
    "    generate_graph(trace, parsed_run, all_optype, knobs, run_id, time_interval=time_interval, save_dir=save_dir)\n",
    "    print(f\"generate_graph {run_id}\")"
   ]
  },
  {
   "cell_type": "code",
   "execution_count": 7,
   "id": "3229962c-1806-40eb-b769-f3164cabe8a1",
   "metadata": {},
   "outputs": [
    {
     "data": {
      "text/plain": [
       "tensor([[3.9584e+00],\n",
       "        [3.4790e+00],\n",
       "        [6.3228e+01],\n",
       "        [8.5342e-01],\n",
       "        [1.5499e+01],\n",
       "        [1.1021e+02],\n",
       "        [2.0641e+01],\n",
       "        [2.2547e+00],\n",
       "        [5.8843e+01],\n",
       "        [1.2986e+00],\n",
       "        [9.5159e+00],\n",
       "        [1.8967e+01],\n",
       "        [1.7198e-01],\n",
       "        [3.7082e-01],\n",
       "        [1.4298e+00],\n",
       "        [3.5159e+00],\n",
       "        [4.9448e+01],\n",
       "        [1.1345e+01],\n",
       "        [3.8495e+00],\n",
       "        [3.9469e+00],\n",
       "        [2.1006e+00],\n",
       "        [1.6837e+01],\n",
       "        [2.6816e-01],\n",
       "        [1.7361e+00],\n",
       "        [7.7541e+01],\n",
       "        [3.8785e+00],\n",
       "        [1.7742e-01],\n",
       "        [1.4990e+01],\n",
       "        [1.2193e+01],\n",
       "        [1.1700e+02],\n",
       "        [1.8657e+02],\n",
       "        [7.2191e-01],\n",
       "        [2.4807e+00],\n",
       "        [2.3848e+00],\n",
       "        [6.9507e+00],\n",
       "        [5.3386e+00],\n",
       "        [1.2245e-01],\n",
       "        [1.2404e+00],\n",
       "        [2.6097e+01],\n",
       "        [1.2595e+00],\n",
       "        [1.4612e+00],\n",
       "        [1.7969e+01],\n",
       "        [8.2629e+00],\n",
       "        [7.1415e+00],\n",
       "        [1.3303e+01],\n",
       "        [8.8437e+01],\n",
       "        [5.5798e+00],\n",
       "        [4.9210e-01],\n",
       "        [4.3692e+01],\n",
       "        [7.9127e+00],\n",
       "        [1.8673e+01],\n",
       "        [3.3026e+00],\n",
       "        [1.5545e+00],\n",
       "        [1.3646e-01],\n",
       "        [2.7462e+01],\n",
       "        [4.9763e+00],\n",
       "        [4.1418e+01],\n",
       "        [6.0459e+00],\n",
       "        [2.7665e+00],\n",
       "        [1.8757e+00],\n",
       "        [1.4780e+01],\n",
       "        [1.9038e+01],\n",
       "        [1.6872e+01],\n",
       "        [2.4584e-01],\n",
       "        [2.5235e+00],\n",
       "        [3.3889e+01],\n",
       "        [2.0356e+01],\n",
       "        [1.1015e+02],\n",
       "        [2.6055e+00],\n",
       "        [2.1714e+00],\n",
       "        [3.0130e+01],\n",
       "        [1.4086e+01],\n",
       "        [1.7565e+01],\n",
       "        [6.4595e+00],\n",
       "        [1.2175e+00],\n",
       "        [2.3060e+01],\n",
       "        [4.9046e+00],\n",
       "        [1.0806e+02],\n",
       "        [9.4244e+00],\n",
       "        [9.6225e-01],\n",
       "        [6.2451e+01],\n",
       "        [7.8421e+01],\n",
       "        [7.5897e+01],\n",
       "        [9.0104e+00],\n",
       "        [3.5974e+00],\n",
       "        [2.3544e+01],\n",
       "        [1.1078e+01],\n",
       "        [1.0321e+01],\n",
       "        [7.2413e+00],\n",
       "        [7.9192e+00],\n",
       "        [2.1505e+00],\n",
       "        [4.1274e+01],\n",
       "        [1.6252e+00],\n",
       "        [7.8586e-02],\n",
       "        [5.4998e+01],\n",
       "        [1.0924e+00],\n",
       "        [9.8735e-02],\n",
       "        [2.0809e+01],\n",
       "        [2.6348e+01],\n",
       "        [6.0468e+01],\n",
       "        [5.1042e+00],\n",
       "        [8.2918e+01],\n",
       "        [1.7532e-01],\n",
       "        [1.2430e+00],\n",
       "        [2.3621e+01]])"
      ]
     },
     "execution_count": 7,
     "metadata": {},
     "output_type": "execute_result"
    }
   ],
   "source": [
    "all_labels[0][all_root_idx_bit_map[0].astype(bool)]"
   ]
  },
  {
   "cell_type": "code",
   "execution_count": null,
   "id": "379b4efc-d4f3-4931-bc95-d23837e86a2d",
   "metadata": {},
   "outputs": [],
   "source": [
    "save_dir = \"/Users/ziniuw/Desktop/research/perf_prediction/workload-performance/pmodel_data/imdb/\"\n",
    "for wid in range(2):\n",
    "    # Load data \n",
    "    adj, features, labels, root_idx_bit_map, idx_train, idx_val, idx_test = load_data(path = save_dir, dataset = f\"sample-plan-0-{wid}\")\n",
    "    print(adj.shape, features.shape, labels.shape, root_idx_bit_map.shape)"
   ]
  },
  {
   "cell_type": "code",
   "execution_count": null,
   "id": "670bb33a-bdef-45bd-8627-716a4099192f",
   "metadata": {},
   "outputs": [],
   "source": [
    "all_start_time = concurrency_df['start_time'].values\n",
    "np.searchsorted(all_start_time, 1000)"
   ]
  },
  {
   "cell_type": "code",
   "execution_count": null,
   "id": "e29c991c-8577-4f38-8504-193d0a61efa0",
   "metadata": {},
   "outputs": [],
   "source": [
    "a = [1,2,3,4,5]\n",
    "np.searchsorted(a, 0)"
   ]
  },
  {
   "cell_type": "code",
   "execution_count": null,
   "id": "f28b3df4-e9b3-4c54-8585-4b1b3a7b12ac",
   "metadata": {},
   "outputs": [],
   "source": [
    "concurrency_df.iloc[10][\"index\"]"
   ]
  },
  {
   "cell_type": "code",
   "execution_count": null,
   "id": "91853be1-6363-4446-b864-b748174bf2f2",
   "metadata": {},
   "outputs": [],
   "source": [
    "def compute_time(node):\n",
    "    # in seconds\n",
    "    node_param = node['plan_parameters']\n",
    "    if 'act_time' not in node_param:\n",
    "        print(node_param)\n",
    "    return max(float(node_param[\"act_time\"]), 1.0) / 1e3"
   ]
  },
  {
   "cell_type": "code",
   "execution_count": null,
   "id": "8a9e971e-d4c7-403e-ba9b-361de44808e0",
   "metadata": {},
   "outputs": [],
   "source": [
    "for i, p in enumerate(parsed_run[\"parsed_plans\"]):\n",
    "    print()\n",
    "    stack = [p]\n",
    "    print(i)\n",
    "    while len(stack) != 0:\n",
    "        curr_node = stack.pop(0)\n",
    "        compute_time(curr_node)\n",
    "        if 'children' in curr_node:\n",
    "            for node in curr_node['children']:\n",
    "                stack.append(node)"
   ]
  },
  {
   "cell_type": "code",
   "execution_count": null,
   "id": "8674ceb2-2001-471d-9bf7-ed1df95afe57",
   "metadata": {},
   "outputs": [],
   "source": [
    "parsed_run['parsed_plans'][1]"
   ]
  },
  {
   "cell_type": "code",
   "execution_count": null,
   "id": "9aa3a645-fdc3-4b5a-b429-61fbf9089194",
   "metadata": {},
   "outputs": [],
   "source": [
    "parsed_run['database_stats']['column_stats']"
   ]
  },
  {
   "cell_type": "code",
   "execution_count": null,
   "id": "0aa5c16d-c07f-4513-9e39-05cbe50c7649",
   "metadata": {},
   "outputs": [],
   "source": [
    "a = [3,4,5]\n",
    "np.random.permutation([3,4,5])"
   ]
  },
  {
   "cell_type": "code",
   "execution_count": null,
   "id": "7748775f-1818-44cd-94a6-85fa323144fc",
   "metadata": {},
   "outputs": [],
   "source": [
    "a = np.arange(6)\n",
    "b = np.zeros(6)\n",
    "b[[2,4]] = 1\n",
    "b = b.astype(bool)"
   ]
  },
  {
   "cell_type": "code",
   "execution_count": null,
   "id": "8db14e4a-abde-4d25-89b3-ddc06cebba96",
   "metadata": {},
   "outputs": [],
   "source": [
    "a[b]"
   ]
  },
  {
   "cell_type": "code",
   "execution_count": null,
   "id": "c772d1a5-c7a9-48e7-9bcf-78c046765b08",
   "metadata": {},
   "outputs": [],
   "source": []
  }
 ],
 "metadata": {
  "kernelspec": {
   "display_name": "Python 3 (ipykernel)",
   "language": "python",
   "name": "python3"
  },
  "language_info": {
   "codemirror_mode": {
    "name": "ipython",
    "version": 3
   },
   "file_extension": ".py",
   "mimetype": "text/x-python",
   "name": "python",
   "nbconvert_exporter": "python",
   "pygments_lexer": "ipython3",
   "version": "3.11.7"
  }
 },
 "nbformat": 4,
 "nbformat_minor": 5
}
