{
 "cells": [
  {
   "cell_type": "code",
   "execution_count": 1,
   "id": "94742db8-c2bf-46cb-ad3b-d9b72096e347",
   "metadata": {},
   "outputs": [],
   "source": [
    "import time\n",
    "import psycopg2\n",
    "import asyncio\n",
    "import os\n",
    "import sys\n",
    "sys.path.append(\"../\")\n",
    "os.environ[\"PGCLIENTENCODING\"] = \"utf-8\"\n",
    "from typing import Optional, Tuple, Union, MutableMapping, List\n"
   ]
  },
  {
   "cell_type": "code",
   "execution_count": 2,
   "id": "50cc1706-cb8e-479d-8022-ed78c2e2652d",
   "metadata": {},
   "outputs": [],
   "source": [
    "import psycopg\n",
    "import asyncio\n",
    "import time\n",
    "import numpy as np\n",
    "from typing import Optional, Tuple, Union, MutableMapping, List, Mapping\n",
    "from utils.load_brad_trace import (\n",
    "    load_trace,\n",
    "    create_concurrency_dataset,\n",
    ")\n",
    "from scheduler.base_scheduler import BaseScheduler\n",
    "from simulator.simulator import QueryBank\n",
    "\n",
    "\n",
    "async def submit_query_and_wait_for_result(connection: psycopg.AsyncConnection,\n",
    "                                           query_rep: Union[int, str],\n",
    "                                           sql: str,\n",
    "                                           ) -> Tuple[Union[int, str], float, float, bool, bool]:\n",
    "    error = False\n",
    "    timeout = False\n",
    "    async with connection.cursor() as cur:\n",
    "        t = time.time()\n",
    "        try:\n",
    "            await cur.execute(sql)\n",
    "            await cur.fetchall()\n",
    "        except psycopg.errors.QueryCanceled as e:\n",
    "            # this occurs in timeout\n",
    "            timeout = True\n",
    "        except:\n",
    "            error = True\n",
    "        runtime = time.time() - t\n",
    "    return query_rep, t, runtime, timeout, error\n",
    "\n",
    "\n",
    "class Executor:\n",
    "    # this is the thin execution layer all users connect to instead of directly connect to the DB instance\n",
    "    def __init__(\n",
    "        self,\n",
    "        scheduler: BaseScheduler,\n",
    "        database_kwargs: Mapping[str, Union[str, int]],\n",
    "        timeout: int,\n",
    "        database: str,\n",
    "        query_bank: Optional[QueryBank] = None,\n",
    "        pause_wait_s: float = 5.0,\n",
    "    ):\n",
    "        self.scheduler = scheduler\n",
    "        self.database_kwargs = database_kwargs\n",
    "        self.database = database\n",
    "        self.db_conn = None\n",
    "        self.timeout = timeout\n",
    "        asyncio.run(self.get_connection())\n",
    "        self.query_bank = query_bank\n",
    "        self.pause_wait_s = pause_wait_s\n",
    "        self.pending_jobs = []\n",
    "\n",
    "    async def get_connection(self):\n",
    "        self.db_conn = await psycopg.AsyncConnection.connect(**self.database_kwargs)\n",
    "        acur = self.db_conn.cursor()\n",
    "        timeout_ms = int(self.timeout * 1000)\n",
    "        await acur.execute(f\"set statement_timeout = {timeout_ms};\")\n",
    "        await self.db_conn.commit()\n",
    "        if self.database == \"Redshift\":\n",
    "            await acur.execute(\"SET enable_result_cache_for_session = OFF;\")\n",
    "            await self.db_conn.commit()\n",
    "\n",
    "def check_query_finished(pending_jobs,\n",
    "                         current_time: float,\n",
    "                         ) -> bool:\n",
    "    has_finished_queries = False\n",
    "    if len(pending_jobs) != 0:\n",
    "        # check if existing jobs are finished\n",
    "        for task in pending_jobs:\n",
    "            if task.done():\n",
    "                has_finished_queries = True\n",
    "                query_rep, runtime, timeout, error = task.result()\n",
    "                print(query_rep, runtime, timeout, error)\n",
    "                pending_jobs.remove(task)\n",
    "    return has_finished_queries"
   ]
  },
  {
   "cell_type": "code",
   "execution_count": 5,
   "id": "e0325e89-0199-4ec2-aed6-81b19c20195f",
   "metadata": {},
   "outputs": [],
   "source": [
    "with open(\"/Users/ziniuw/Desktop/research/Data/AWS_trace/mixed_aurora/aurora_mixed.sql\", 'r') as f:\n",
    "    queries = f.readlines()"
   ]
  },
  {
   "cell_type": "code",
   "execution_count": 3,
   "id": "c688d95d-db9b-451c-9548-9b803fc40e0d",
   "metadata": {},
   "outputs": [],
   "source": [
    "database_kwargs = {\n",
    "    'host': \"brad-redshift-cluster.cmdzoy6ck5ua.us-east-1.redshift.amazonaws.com\",\n",
    "    'dbname': \"imdb_100g\",\n",
    "    'port': 5439,\n",
    "    'user': \"awsuser\",\n",
    "    'password': \"Giftedcoconut!#4\"\n",
    "}\n",
    "db_conn = await psycopg.AsyncConnection.connect(**database_kwargs)\n",
    "acur = db_conn.cursor()\n",
    "timeout_ms = int(20000)\n",
    "await acur.execute(f\"set statement_timeout = {timeout_ms};\")\n",
    "await db_conn.commit()\n",
    "await acur.execute(\"SET enable_result_cache_for_session = OFF;\")\n",
    "await db_conn.commit()"
   ]
  },
  {
   "cell_type": "code",
   "execution_count": 6,
   "id": "412651e2-8c13-4d46-b6f3-2673d90d247a",
   "metadata": {},
   "outputs": [
    {
     "name": "stdout",
     "output_type": "stream",
     "text": [
      "0 0.00011229515075683594 0\n",
      "[False]\n",
      "1 0.5039982795715332 1\n",
      "1 1.0064961910247803 1\n",
      "1 1.5104701519012451 1\n",
      "1 2.015347957611084 1\n",
      "1 2.5197231769561768 1\n",
      "1 3.021318197250366 1\n",
      "[False, False]\n",
      "2 3.5268852710723877 2\n",
      "2 4.030250072479248 2\n",
      "2 4.531398296356201 2\n",
      "2 5.036517143249512 2\n",
      "2 5.537211179733276 2\n",
      "2 6.038813352584839 2\n",
      "2 6.5408971309661865 2\n",
      "2 7.042265176773071 2\n",
      "2 7.5455780029296875 2\n",
      "2 8.050384283065796 2\n",
      "[False, False, False]\n",
      "3 8.553382158279419 3\n",
      "3 9.058443069458008 3\n",
      "[False, False, False, False]\n",
      "4 9.564241170883179 4\n",
      "4 10.064687252044678 4\n",
      "4 10.565054416656494 4\n",
      "4 11.066465139389038 4\n",
      "4 11.56852102279663 4\n",
      "4 12.073767185211182 4\n",
      "4 12.574305057525635 4\n",
      "4 13.07953929901123 4\n",
      "[False, False, False, False, False]\n",
      "[False, False, False, False, False]\n"
     ]
    }
   ],
   "source": [
    "pending_jobs = []\n",
    "all_start_time = [1, 4, 9, 10, 14]\n",
    "function_start_time = time.time()\n",
    "for i in range(len(all_start_time)):\n",
    "    current_time = time.time() - function_start_time\n",
    "    current_query_start_time = all_start_time[i]\n",
    "    while current_time < current_query_start_time - 0.5:\n",
    "        print(i, current_time, len(pending_jobs))\n",
    "        check_query_finished(pending_jobs, current_time)\n",
    "        time.sleep(0.5)\n",
    "        current_time = time.time() - function_start_time\n",
    "    future = asyncio.ensure_future(submit_query_and_wait_for_result(db_conn, i+50, queries[i+50]))\n",
    "    pending_jobs.append(future)\n",
    "    print([p.done() for p in pending_jobs])\n",
    "print([p.done() for p in pending_jobs])"
   ]
  },
  {
   "cell_type": "code",
   "execution_count": 232,
   "id": "c30f8dd0-a408-403a-b007-dd7e50ab2caf",
   "metadata": {},
   "outputs": [
    {
     "name": "stdout",
     "output_type": "stream",
     "text": [
      "[True, True, True, True, True]\n",
      "[(50, 1715888053.706999, 20.102179050445557, True, False), (51, 1715888053.707516, 20.11885404586792, False, True), (52, 1715888053.707541, 20.144122838974, False, True), (53, 1715888053.707555, 20.162642002105713, False, True), (54, 1715888053.7075672, 20.181647777557373, False, True)]\n"
     ]
    }
   ],
   "source": [
    "print([p.done() for p in pending_jobs])\n",
    "print([p.result() for p in pending_jobs])"
   ]
  },
  {
   "cell_type": "code",
   "execution_count": 233,
   "id": "d00843b5-080f-4ee4-bfb0-fc07a9ce6262",
   "metadata": {},
   "outputs": [
    {
     "data": {
      "text/plain": [
       "1715888040.107349"
      ]
     },
     "execution_count": 233,
     "metadata": {},
     "output_type": "execute_result"
    }
   ],
   "source": [
    "function_start_time"
   ]
  },
  {
   "cell_type": "code",
   "execution_count": 134,
   "id": "af682763-88ad-4c4c-a243-577ae9a59077",
   "metadata": {},
   "outputs": [],
   "source": [
    "ENDPOINT=\"brad-redshift-cluster.cmdzoy6ck5ua.us-east-1.redshift.amazonaws.com\"\n",
    "PORT=\"5439\"\n",
    "USER=\"awsuser\"\n",
    "REGION=\"us-east-1\"\n",
    "DBNAME=\"imdb_100g\"\n",
    "token=\"Giftedcoconut!#4\"\n",
    "conn = psycopg2.connect(host=ENDPOINT, port=PORT, dbname=DBNAME, user=USER, password=token)\n",
    "conn.autocommit = True\n",
    "cur = conn.cursor()"
   ]
  },
  {
   "cell_type": "code",
   "execution_count": null,
   "id": "5b9f29d1-effe-440c-95c0-1ce592714978",
   "metadata": {},
   "outputs": [],
   "source": []
  },
  {
   "cell_type": "code",
   "execution_count": 140,
   "id": "dea9d29f-e2c3-4481-8537-6033e7d892db",
   "metadata": {},
   "outputs": [],
   "source": [
    "cur.execute(f\"set statement_timeout = {100};\")\n",
    "conn.commit()\n",
    "cur.execute(\"SET enable_result_cache_for_session = OFF;\")\n",
    "conn.commit()"
   ]
  },
  {
   "cell_type": "code",
   "execution_count": 136,
   "id": "115bf6f7-5570-43ef-b650-d34a5cc98b9f",
   "metadata": {},
   "outputs": [
    {
     "data": {
      "text/plain": [
       "[(68264424,)]"
      ]
     },
     "execution_count": 136,
     "metadata": {},
     "output_type": "execute_result"
    }
   ],
   "source": [
    "cur.execute(\"SELECT COUNT(*) FROM title;\")\n",
    "cur.fetchall()"
   ]
  },
  {
   "cell_type": "code",
   "execution_count": 137,
   "id": "8dde08e1-ac1b-4908-8746-43967aac93a0",
   "metadata": {},
   "outputs": [],
   "source": [
    "cur.execute(queries[0])"
   ]
  },
  {
   "cell_type": "code",
   "execution_count": 156,
   "id": "e5e34849-85f2-4e13-be7a-0da067292b64",
   "metadata": {},
   "outputs": [],
   "source": [
    "aconn = await psycopg.AsyncConnection.connect(host=ENDPOINT, port=PORT, dbname=DBNAME, user=USER, password=token)"
   ]
  },
  {
   "cell_type": "code",
   "execution_count": 157,
   "id": "e039ad55-1797-427b-bf87-ca14da9d2047",
   "metadata": {},
   "outputs": [],
   "source": [
    "acur = aconn.cursor()\n",
    "await acur.execute(f\"set statement_timeout = {100};\")\n",
    "await aconn.commit()\n",
    "await acur.execute(\"SET enable_result_cache_for_session = OFF;\")\n",
    "await aconn.commit()"
   ]
  },
  {
   "cell_type": "code",
   "execution_count": 158,
   "id": "16e5d10c-d2c2-47a0-b716-3d0bd0a751aa",
   "metadata": {},
   "outputs": [
    {
     "ename": "QueryCanceled",
     "evalue": "Query (5814805) cancelled on user's request",
     "output_type": "error",
     "traceback": [
      "\u001b[0;31m---------------------------------------------------------------------------\u001b[0m",
      "\u001b[0;31mQueryCanceled\u001b[0m                             Traceback (most recent call last)",
      "Cell \u001b[0;32mIn[158], line 1\u001b[0m\n\u001b[0;32m----> 1\u001b[0m \u001b[38;5;28;01mawait\u001b[39;00m acur\u001b[38;5;241m.\u001b[39mexecute(queries[\u001b[38;5;241m0\u001b[39m])\n\u001b[1;32m      2\u001b[0m \u001b[38;5;28;01mawait\u001b[39;00m acur\u001b[38;5;241m.\u001b[39mfetchall()\n",
      "File \u001b[0;32m~/miniconda3/envs/exploration/lib/python3.11/site-packages/psycopg/cursor_async.py:89\u001b[0m, in \u001b[0;36mAsyncCursor.execute\u001b[0;34m(self, query, params, prepare, binary)\u001b[0m\n\u001b[1;32m     85\u001b[0m         \u001b[38;5;28;01mawait\u001b[39;00m \u001b[38;5;28mself\u001b[39m\u001b[38;5;241m.\u001b[39m_conn\u001b[38;5;241m.\u001b[39mwait(\n\u001b[1;32m     86\u001b[0m             \u001b[38;5;28mself\u001b[39m\u001b[38;5;241m.\u001b[39m_execute_gen(query, params, prepare\u001b[38;5;241m=\u001b[39mprepare, binary\u001b[38;5;241m=\u001b[39mbinary)\n\u001b[1;32m     87\u001b[0m         )\n\u001b[1;32m     88\u001b[0m \u001b[38;5;28;01mexcept\u001b[39;00m e\u001b[38;5;241m.\u001b[39m_NO_TRACEBACK \u001b[38;5;28;01mas\u001b[39;00m ex:\n\u001b[0;32m---> 89\u001b[0m     \u001b[38;5;28;01mraise\u001b[39;00m ex\u001b[38;5;241m.\u001b[39mwith_traceback(\u001b[38;5;28;01mNone\u001b[39;00m)\n\u001b[1;32m     90\u001b[0m \u001b[38;5;28;01mreturn\u001b[39;00m \u001b[38;5;28mself\u001b[39m\n",
      "\u001b[0;31mQueryCanceled\u001b[0m: Query (5814805) cancelled on user's request"
     ]
    }
   ],
   "source": [
    "await acur.execute(queries[0])\n",
    "await acur.fetchall()"
   ]
  },
  {
   "cell_type": "code",
   "execution_count": 180,
   "id": "43e862c0-42d8-4b8d-a7db-7156bf2b4ec3",
   "metadata": {},
   "outputs": [],
   "source": [
    "async def submit_query_and_wait_for_result(connection: psycopg.AsyncConnection,\n",
    "                                           query_rep: Union[int, str],\n",
    "                                           sql: str,\n",
    "                                           ) -> Tuple[Union[int, str], float, bool, bool]:\n",
    "    error = False\n",
    "    timeout = False\n",
    "    async with connection.cursor() as cur:\n",
    "        t = time.time()\n",
    "        try:\n",
    "            await cur.execute(sql)\n",
    "            await cur.fetchall()\n",
    "        except psycopg.errors.QueryCanceled as e:\n",
    "            # this occurs in timeout\n",
    "            timeout = True\n",
    "        except:\n",
    "            error = True\n",
    "        runtime = time.time() - t\n",
    "    return query_rep, runtime, timeout, error"
   ]
  },
  {
   "cell_type": "code",
   "execution_count": 181,
   "id": "d92a6106-ab8c-488b-8e57-9cee2cddf6e7",
   "metadata": {},
   "outputs": [],
   "source": [
    "aconn = await psycopg.AsyncConnection.connect(host=ENDPOINT, port=PORT, dbname=DBNAME, user=USER, password=token)\n",
    "acur = aconn.cursor()\n",
    "await acur.execute(f\"set statement_timeout = {10000};\")\n",
    "await aconn.commit()\n",
    "await acur.execute(\"SET enable_result_cache_for_session = OFF;\")\n",
    "await aconn.commit()"
   ]
  },
  {
   "cell_type": "code",
   "execution_count": 182,
   "id": "7127d117-0279-49bd-8989-bfab20a94b1e",
   "metadata": {},
   "outputs": [
    {
     "name": "stdout",
     "output_type": "stream",
     "text": [
      "False\n",
      "True\n",
      "(0, 1.7526252269744873, False, False)\n"
     ]
    }
   ],
   "source": [
    "future = asyncio.ensure_future(submit_query_and_wait_for_result(aconn, 0, queries[113]))\n",
    "print(future.done())\n",
    "pending = [future]\n",
    "done, pending = await asyncio.wait(\n",
    "                pending, return_when=asyncio.FIRST_COMPLETED\n",
    "            )\n",
    "print(future.done())\n",
    "print(future.result())"
   ]
  },
  {
   "cell_type": "code",
   "execution_count": 183,
   "id": "35979bab-047f-49c3-a55e-1f9d4d902691",
   "metadata": {},
   "outputs": [
    {
     "name": "stdout",
     "output_type": "stream",
     "text": [
      "False\n",
      "True\n",
      "(0, 5.712521076202393, False, False)\n"
     ]
    }
   ],
   "source": [
    "future = asyncio.ensure_future(submit_query_and_wait_for_result(aconn, 0, queries[0]))\n",
    "print(future.done())\n",
    "pending = [future]\n",
    "done, pending = await asyncio.wait(\n",
    "                pending, return_when=asyncio.FIRST_COMPLETED\n",
    "            )\n",
    "print(future.done())\n",
    "print(future.result())"
   ]
  },
  {
   "cell_type": "code",
   "execution_count": 96,
   "id": "1e95b60f-74ec-4a39-acc3-8dcfaf10b450",
   "metadata": {},
   "outputs": [
    {
     "name": "stdout",
     "output_type": "stream",
     "text": [
      "0.0001609325408935547\n",
      "[(None, 5, 1992)]\n"
     ]
    }
   ],
   "source": [
    "t = time.time()\n",
    "future = asyncio.ensure_future(acur.execute(queries[-2]))\n",
    "print(time.time() - t)\n",
    "t = time.time()\n",
    "#await acur.execute(queries[1])\n",
    "#print(time.time() - t)\n",
    "print(await acur.fetchall())\n"
   ]
  },
  {
   "cell_type": "code",
   "execution_count": 103,
   "id": "62e31280-fb4f-4889-b717-c34dc0405d4d",
   "metadata": {},
   "outputs": [
    {
     "data": {
      "text/plain": [
       "<psycopg.AsyncCursor [TUPLES_OK] [INTRANS] (host=brad-redshift-cluster.cmdzoy6ck5ua.us-east-1.redshift.amazonaws.com port=5439 user=awsuser database=imdb_100g) at 0x1155eecf0>"
      ]
     },
     "execution_count": 103,
     "metadata": {},
     "output_type": "execute_result"
    }
   ],
   "source": [
    "future.result()"
   ]
  },
  {
   "cell_type": "code",
   "execution_count": 97,
   "id": "51cf8166-3d5a-4db0-b6e2-64543a0828da",
   "metadata": {},
   "outputs": [
    {
     "name": "stdout",
     "output_type": "stream",
     "text": [
      "5.563902854919434\n"
     ]
    }
   ],
   "source": [
    "pending = [future]\n",
    "t = time.time()\n",
    "done, pending = await asyncio.wait(\n",
    "                pending, return_when=asyncio.FIRST_COMPLETED\n",
    "            )\n",
    "print(time.time() - t)"
   ]
  },
  {
   "cell_type": "code",
   "execution_count": 93,
   "id": "44690a03-8dca-4039-abe3-b82803f9af7b",
   "metadata": {},
   "outputs": [
    {
     "data": {
      "text/plain": [
       "{<Task finished name='Task-607' coro=<AsyncCursor.execute() done, defined at /Users/ziniuw/miniconda3/envs/exploration/lib/python3.11/site-packages/psycopg/cursor_async.py:75> result=<psycopg.Asyn...t 0x1155eecf0>>}"
      ]
     },
     "execution_count": 93,
     "metadata": {},
     "output_type": "execute_result"
    }
   ],
   "source": [
    "done"
   ]
  },
  {
   "cell_type": "code",
   "execution_count": 86,
   "id": "e0b445cf-719f-4e37-87d1-b6cb401383da",
   "metadata": {},
   "outputs": [
    {
     "name": "stdout",
     "output_type": "stream",
     "text": [
      "[(1,)]\n"
     ]
    }
   ],
   "source": [
    "print(await acur.fetchall())"
   ]
  },
  {
   "cell_type": "code",
   "execution_count": 70,
   "id": "ca482ad4-3c72-4a9a-ab0e-e794afff9baa",
   "metadata": {},
   "outputs": [
    {
     "name": "stdout",
     "output_type": "stream",
     "text": [
      "asd\n"
     ]
    }
   ],
   "source": [
    "async with aconn.cursor() as acur:\n",
    "    await acur.execute(sql)\n",
    "    print(\"asd\")\n",
    "    await acur.execute(\"SELECT COUNT(*) FROM title;\")\n",
    "    rows = await acur.fetchall()"
   ]
  },
  {
   "cell_type": "code",
   "execution_count": 71,
   "id": "6b668f49-d0ff-44db-9191-4368d4772fa8",
   "metadata": {},
   "outputs": [
    {
     "data": {
      "text/plain": [
       "[(68264424,)]"
      ]
     },
     "execution_count": 71,
     "metadata": {},
     "output_type": "execute_result"
    }
   ],
   "source": [
    "rows"
   ]
  },
  {
   "cell_type": "code",
   "execution_count": 66,
   "id": "5b4c6e2f-b2b7-4409-a9a9-6e40be3b5bf4",
   "metadata": {},
   "outputs": [
    {
     "ename": "InterfaceError",
     "evalue": "the cursor is closed",
     "output_type": "error",
     "traceback": [
      "\u001b[0;31m---------------------------------------------------------------------------\u001b[0m",
      "\u001b[0;31mInterfaceError\u001b[0m                            Traceback (most recent call last)",
      "Cell \u001b[0;32mIn[66], line 1\u001b[0m\n\u001b[0;32m----> 1\u001b[0m \u001b[38;5;28mprint\u001b[39m(\u001b[38;5;28;01mawait\u001b[39;00m acur\u001b[38;5;241m.\u001b[39mfetchone())\n",
      "File \u001b[0;32m~/miniconda3/envs/exploration/lib/python3.11/site-packages/psycopg/cursor_async.py:170\u001b[0m, in \u001b[0;36mAsyncCursor.fetchone\u001b[0;34m(self)\u001b[0m\n\u001b[1;32m    168\u001b[0m \u001b[38;5;28;01masync\u001b[39;00m \u001b[38;5;28;01mdef\u001b[39;00m \u001b[38;5;21mfetchone\u001b[39m(\u001b[38;5;28mself\u001b[39m) \u001b[38;5;241m-\u001b[39m\u001b[38;5;241m>\u001b[39m Optional[Row]:\n\u001b[1;32m    169\u001b[0m     \u001b[38;5;28;01mawait\u001b[39;00m \u001b[38;5;28mself\u001b[39m\u001b[38;5;241m.\u001b[39m_fetch_pipeline()\n\u001b[0;32m--> 170\u001b[0m     \u001b[38;5;28mself\u001b[39m\u001b[38;5;241m.\u001b[39m_check_result_for_fetch()\n\u001b[1;32m    171\u001b[0m     record \u001b[38;5;241m=\u001b[39m \u001b[38;5;28mself\u001b[39m\u001b[38;5;241m.\u001b[39m_tx\u001b[38;5;241m.\u001b[39mload_row(\u001b[38;5;28mself\u001b[39m\u001b[38;5;241m.\u001b[39m_pos, \u001b[38;5;28mself\u001b[39m\u001b[38;5;241m.\u001b[39m_make_row)\n\u001b[1;32m    172\u001b[0m     \u001b[38;5;28;01mif\u001b[39;00m record \u001b[38;5;129;01mis\u001b[39;00m \u001b[38;5;129;01mnot\u001b[39;00m \u001b[38;5;28;01mNone\u001b[39;00m:\n",
      "File \u001b[0;32m~/miniconda3/envs/exploration/lib/python3.11/site-packages/psycopg/cursor.py:608\u001b[0m, in \u001b[0;36mBaseCursor._check_result_for_fetch\u001b[0;34m(self)\u001b[0m\n\u001b[1;32m    606\u001b[0m \u001b[38;5;28;01mdef\u001b[39;00m \u001b[38;5;21m_check_result_for_fetch\u001b[39m(\u001b[38;5;28mself\u001b[39m) \u001b[38;5;241m-\u001b[39m\u001b[38;5;241m>\u001b[39m \u001b[38;5;28;01mNone\u001b[39;00m:\n\u001b[1;32m    607\u001b[0m     \u001b[38;5;28;01mif\u001b[39;00m \u001b[38;5;28mself\u001b[39m\u001b[38;5;241m.\u001b[39mclosed:\n\u001b[0;32m--> 608\u001b[0m         \u001b[38;5;28;01mraise\u001b[39;00m e\u001b[38;5;241m.\u001b[39mInterfaceError(\u001b[38;5;124m\"\u001b[39m\u001b[38;5;124mthe cursor is closed\u001b[39m\u001b[38;5;124m\"\u001b[39m)\n\u001b[1;32m    609\u001b[0m     res \u001b[38;5;241m=\u001b[39m \u001b[38;5;28mself\u001b[39m\u001b[38;5;241m.\u001b[39mpgresult\n\u001b[1;32m    610\u001b[0m     \u001b[38;5;28;01mif\u001b[39;00m \u001b[38;5;129;01mnot\u001b[39;00m res:\n",
      "\u001b[0;31mInterfaceError\u001b[0m: the cursor is closed"
     ]
    }
   ],
   "source": [
    "print(await acur.fetchone())"
   ]
  },
  {
   "cell_type": "code",
   "execution_count": null,
   "id": "dc6fa147-5cda-417e-b937-154e1019c42b",
   "metadata": {},
   "outputs": [],
   "source": []
  }
 ],
 "metadata": {
  "kernelspec": {
   "display_name": "Python 3 (ipykernel)",
   "language": "python",
   "name": "python3"
  },
  "language_info": {
   "codemirror_mode": {
    "name": "ipython",
    "version": 3
   },
   "file_extension": ".py",
   "mimetype": "text/x-python",
   "name": "python",
   "nbconvert_exporter": "python",
   "pygments_lexer": "ipython3",
   "version": "3.11.7"
  }
 },
 "nbformat": 4,
 "nbformat_minor": 5
}
