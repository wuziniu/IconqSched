{
 "cells": [
  {
   "cell_type": "code",
   "execution_count": 7,
   "id": "1273cc62-4487-41e4-845f-8e79987a8d07",
   "metadata": {},
   "outputs": [],
   "source": [
    "import json\n",
    "import numpy as np\n",
    "from tqdm import tqdm\n",
    "import os\n",
    "import sys\n",
    "sys.path.append(\"../\")\n",
    "\n",
    "import configparser\n",
    "import psycopg2\n",
    "import pymysql\n",
    "import pymysql.cursors as pycursor\n",
    "import numpy as np\n",
    "import torch.optim as optim\n",
    "\n",
    "import time\n",
    "import glob\n",
    "from models.concurrency.baselines.gcn_graph_gen import generate_graph\n",
    "from models.concurrency.baselines.gcn_graph_embedding import load_data, accuracy, load_data_from_matrix, load_all_data\n",
    "from models.concurrency.baselines.gcn import GCN\n",
    "from models.concurrency.baselines.gcn_train import train_one_batch, eval_one_batch\n",
    "from models.concurrency.baselines.gcn_constant import args\n",
    "from models.concurrency.baselines.gcn import get_model, get_optimizer"
   ]
  },
  {
   "cell_type": "code",
   "execution_count": 2,
   "id": "578601fc-d1bb-48a6-96da-c62d456bf45c",
   "metadata": {},
   "outputs": [
    {
     "name": "stdout",
     "output_type": "stream",
     "text": [
      "Loading all data graphs\n",
      "In total, 835 number of graphs\n"
     ]
    }
   ],
   "source": [
    "data_dir = \"/Users/ziniuw/Desktop/research/perf_prediction/workload-performance/pmodel_data/imdb/\"\n",
    "dataset = \"sample-plan\"\n",
    "n_run_id = 4\n",
    "print(\"Loading all data graphs\")\n",
    "all_adj, all_features, all_labels, all_root_idx_bit_map = load_all_data(data_dir, dataset, n_run_id)\n",
    "n_graphs = len(all_adj)\n",
    "print(f\"In total, {n_graphs} number of graphs\")"
   ]
  },
  {
   "cell_type": "code",
   "execution_count": 11,
   "id": "44fb8307-fc36-4ddf-9fb7-ee99d3b088b0",
   "metadata": {},
   "outputs": [
    {
     "data": {
      "text/plain": [
       "torch.Size([1078, 24])"
      ]
     },
     "execution_count": 11,
     "metadata": {},
     "output_type": "execute_result"
    }
   ],
   "source": [
    "all_features[0].shape"
   ]
  },
  {
   "cell_type": "code",
   "execution_count": 12,
   "id": "7c3a497c-51e1-42c2-83bb-9371ab1ae1a9",
   "metadata": {},
   "outputs": [],
   "source": [
    "model = get_model(feature_num=all_features[0].shape[-1], hidden=args.hidden, nclass=args.node_dim, dropout=args.dropout)\n",
    "optimizer = get_optimizer(model=model, lr=args.lr, weight_decay=args.weight_decay)"
   ]
  },
  {
   "cell_type": "code",
   "execution_count": 13,
   "id": "863eaa4b-77a1-4391-b929-b78d3b37ca7a",
   "metadata": {},
   "outputs": [
    {
     "name": "stderr",
     "output_type": "stream",
     "text": [
      "100%|███████████████████████████████████████████████████████████████████████| 709/709 [00:00<00:00, 1335.21it/s]\n"
     ]
    },
    {
     "name": "stdout",
     "output_type": "stream",
     "text": [
      "Epoch 0 ======================================================\n",
      "Training loss: 117.20987335011384\n",
      "Validation loss: 112.44954018365769\n",
      "50% absolute error is 4.2778990268707275, q-error is 876.9010009765625\n",
      "90% absolute error is 4.278287410736084, q-error is 4279.27685546875\n",
      "95% absolute error is 8.865517616271973, q-error is 4279.27734375\n"
     ]
    },
    {
     "name": "stderr",
     "output_type": "stream",
     "text": [
      "100%|███████████████████████████████████████████████████████████████████████| 709/709 [00:00<00:00, 1452.24it/s]\n"
     ]
    },
    {
     "name": "stdout",
     "output_type": "stream",
     "text": [
      "Epoch 1 ======================================================\n",
      "Training loss: 205.44493497410008\n",
      "Validation loss: 145.7657977058774\n",
      "50% absolute error is 4.157362461090088, q-error is 852.1852416992188\n",
      "90% absolute error is 4.15795931816101, q-error is 4158.66796875\n",
      "95% absolute error is 8.986354684829712, q-error is 4158.67041015625\n"
     ]
    },
    {
     "name": "stderr",
     "output_type": "stream",
     "text": [
      "100%|███████████████████████████████████████████████████████████████████████| 709/709 [00:00<00:00, 1441.19it/s]\n"
     ]
    },
    {
     "name": "stdout",
     "output_type": "stream",
     "text": [
      "Epoch 2 ======================================================\n",
      "Training loss: 145.1187259394292\n",
      "Validation loss: 919.1502108649602\n",
      "50% absolute error is 4.501829385757446, q-error is 922.96728515625\n",
      "90% absolute error is 4.505601119995117, q-error is 4504.1787109375\n",
      "95% absolute error is 8.656824874877927, q-error is 4504.191235351563\n"
     ]
    }
   ],
   "source": [
    "all_idx = np.random.permutation(n_graphs)\n",
    "train_idx = all_idx[0: int(0.85 * n_graphs)]\n",
    "val_idx = all_idx[int(0.85 * n_graphs):]\n",
    "best_val_loss = np.infty\n",
    "num_epoch = 3\n",
    "eval_every = 1\n",
    "for epoch in range(num_epoch):\n",
    "    model.train()\n",
    "    curr_epoch_train_idx = np.random.permutation(train_idx)\n",
    "    batch_loss = 0\n",
    "    for i in tqdm(curr_epoch_train_idx):\n",
    "        # per-batch training\n",
    "        bl = train_one_batch(model, all_labels[i], all_features[i], all_adj[i], optimizer)\n",
    "        batch_loss += bl\n",
    "    if epoch % eval_every == 0:\n",
    "        print(f\"Epoch {epoch} ======================================================\")\n",
    "        print(f\"Training loss: {batch_loss/len(curr_epoch_train_idx)}\")\n",
    "        model.eval()\n",
    "        val_pred = []\n",
    "        val_label = []\n",
    "        val_loss = 0\n",
    "        for i in val_idx:\n",
    "            vl, pred, label = eval_one_batch(model, all_labels[i], all_features[i], all_adj[i],\n",
    "                                             all_root_idx_bit_map[i])\n",
    "            val_loss += vl\n",
    "            val_pred.append(pred)\n",
    "            val_label.append(label)\n",
    "        val_pred = np.maximum(np.concatenate(val_pred), 1e-3)\n",
    "        val_label = np.maximum(np.concatenate(val_label), 1e-3)\n",
    "        print(f\"Validation loss: {val_loss / len(val_idx)}\")\n",
    "        abs_error = np.abs(val_pred - val_label)\n",
    "        q_error = np.maximum(val_pred / val_label, val_pred / val_label)\n",
    "        for p in [50, 90, 95]:\n",
    "            p_a = np.percentile(abs_error, p)\n",
    "            p_q = np.percentile(q_error, p)\n",
    "            print(f\"{p}% absolute error is {p_a}, q-error is {p_q}\")\n",
    "        if val_loss < best_val_loss:\n",
    "            best_val_loss = val_loss"
   ]
  },
  {
   "cell_type": "code",
   "execution_count": 14,
   "id": "ef6169ca-200f-456c-99c4-a3eb278a5986",
   "metadata": {},
   "outputs": [
    {
     "data": {
      "text/plain": [
       "array([4.504184 , 4.5041723, 4.5040274, ..., 4.5043116, 4.5041933,\n",
       "       4.503839 ], dtype=float32)"
      ]
     },
     "execution_count": 14,
     "metadata": {},
     "output_type": "execute_result"
    }
   ],
   "source": [
    "val_pred"
   ]
  },
  {
   "cell_type": "code",
   "execution_count": 15,
   "id": "b67b4265-6cd9-4755-9037-b53d2879158b",
   "metadata": {},
   "outputs": [
    {
     "data": {
      "text/plain": [
       "array([1.0000000e-03, 1.0000000e-03, 2.4495367e+01, ..., 1.8260001e-03,\n",
       "       1.0000000e-03, 1.1834924e+01], dtype=float32)"
      ]
     },
     "execution_count": 15,
     "metadata": {},
     "output_type": "execute_result"
    }
   ],
   "source": [
    "val_label"
   ]
  },
  {
   "cell_type": "code",
   "execution_count": null,
   "id": "f36d52d8-9381-4807-9e7c-195f9a6f2714",
   "metadata": {},
   "outputs": [],
   "source": [
    "data_path = '/Users/ziniuw/Desktop/research/perf_prediction/workload-performance/pmodel_data/job/'\n",
    "\n",
    "edge_dim = 25000 # upper bound of edges\n",
    "node_dim = 300 # upper bound of nodes\n",
    "\n",
    "mp_optype = {'Aggregate': 0, 'Nested Loop': 1, 'Index Scan': 2, 'Hash Join': 3, 'Seq Scan': 4, 'Hash': 5, 'Update': 6} # operator types in the queries\n",
    "\n",
    "oid = 0 # operator number"
   ]
  },
  {
   "cell_type": "code",
   "execution_count": null,
   "id": "7410ef28-6451-4318-99aa-188331814800",
   "metadata": {},
   "outputs": [],
   "source": [
    "class DictParser(configparser.ConfigParser):\n",
    "    def read_dict(self):\n",
    "        d = dict(self._sections)\n",
    "        for k in d:\n",
    "            d[k] = dict(d[k])\n",
    "        return d\n",
    "\n",
    "cf = DictParser()\n",
    "cf.read(\"/Users/ziniuw/Desktop/research/perf_prediction/workload-performance/config.ini\", encoding=\"utf-8\")\n",
    "config_dict = cf.read_dict()\n",
    "\n",
    "\n",
    "def parse_knob_config(config_dict):\n",
    "    _knob_config = config_dict[\"knob_config\"]\n",
    "    for key in _knob_config:\n",
    "        _knob_config[key] = json.loads(str(_knob_config[key]).replace(\"\\'\", \"\\\"\"))\n",
    "    return _knob_config\n",
    "knob_config = parse_knob_config(config_dict)"
   ]
  },
  {
   "cell_type": "code",
   "execution_count": null,
   "id": "a774e77e-601e-43dc-9d77-2195fd0f9737",
   "metadata": {},
   "outputs": [],
   "source": [
    "knob_config"
   ]
  },
  {
   "cell_type": "code",
   "execution_count": null,
   "id": "2da2403a-669f-40e1-9ab8-6bfded76a670",
   "metadata": {},
   "outputs": [],
   "source": [
    "\"\"\"\n",
    "workloads = glob.glob(data_path + \"sample-plan-*\")\n",
    "\n",
    "start_time = time.time()\n",
    "num_graphs = 3000\n",
    "for wid in range(num_graphs):\n",
    "    st = time.time()\n",
    "\n",
    "    vmatrix, ematrix, mergematrix = generate_graph(wid, connect=False)\n",
    "    #print(\"[graph {}]\".format(wid), \"time:{}; #-vertex:{}, #-edge:{}\".format(time.time() - st, len(vmatrix), len(ematrix)))\n",
    "    \n",
    "    with open(data_path + \"graph/\" + \"sample-plan-\" + str(wid) + \".content\", \"w\") as wf:\n",
    "        for v in vmatrix:\n",
    "            wf.write(str(v[0]) + \"\\t\" + str(v[1]) + \"\\t\" + str(v[2]) + \"\\t\" + str(v[3]) + \"\\t\" + str(v[4]) + \"\\n\")\n",
    "    with open(data_path + \"graph/\" + \"sample-plan-\" + str(wid) + \".cites\", \"w\") as wf:\n",
    "        for e in ematrix:\n",
    "            wf.write(str(e[0]) + \"\\t\" + str(e[1]) + \"\\t\" + str(e[2]) + \"\\n\")\n",
    "    #with open(data_path + \"graph/\" + \"sample-plan-\" + str(wid) + \".merges\", \"w\") as wf:\n",
    "     #   for e in mergematrix:\n",
    "      #      wf.write(str(e[0]) + \"\\t\" + str(e[1]) + \"\\t\" + str(e[2]) + \"\\n\")\n",
    "\n",
    "end_time = time.time()\n",
    "\n",
    "print(\"Total Time:{}\".format(end_time - start_time))\n",
    "\"\"\""
   ]
  },
  {
   "cell_type": "code",
   "execution_count": null,
   "id": "3aef8f46-784b-48bb-b713-5ff3e21f541d",
   "metadata": {},
   "outputs": [],
   "source": [
    "workloads = glob.glob(save_dir + \"sample-plan-0-*-nodes.npy\")"
   ]
  },
  {
   "cell_type": "code",
   "execution_count": null,
   "id": "0b2eab57-46da-4a6d-a462-92f397facef3",
   "metadata": {},
   "outputs": [],
   "source": [
    "workloads"
   ]
  },
  {
   "cell_type": "code",
   "execution_count": null,
   "id": "936f785c-ef23-40bf-8cc4-5a95d226bb92",
   "metadata": {},
   "outputs": [],
   "source": [
    "save_dir = \"/Users/ziniuw/Desktop/research/perf_prediction/workload-performance/pmodel_data/imdb/\"\n",
    "for wid in range(2):\n",
    "    # Load data \n",
    "    adj, features, labels, root_idx_bit_map, idx_train, idx_val, idx_test = load_data(path = save_dir, dataset = f\"sample-plan-0-{wid}\" )\n",
    "    print(adj.shape, features.shape, labels.shape, root_idx_bit_map.shape)"
   ]
  },
  {
   "cell_type": "code",
   "execution_count": null,
   "id": "6c6e7aff-9090-43b6-8c2b-6c4649d69c17",
   "metadata": {},
   "outputs": [],
   "source": [
    "labels[idx_val]"
   ]
  },
  {
   "cell_type": "code",
   "execution_count": null,
   "id": "9773599a-c292-4332-9d89-743e13cf273b",
   "metadata": {},
   "outputs": [],
   "source": [
    "output = model(features, adj)"
   ]
  },
  {
   "cell_type": "code",
   "execution_count": null,
   "id": "b0452f91-dddc-40c7-9858-c67311b80073",
   "metadata": {},
   "outputs": [],
   "source": [
    "preds = output[idx_val].max(1)[1].type_as(labels)"
   ]
  },
  {
   "cell_type": "code",
   "execution_count": null,
   "id": "b65c9fa3-90c6-437b-a8c5-55b2c9095c15",
   "metadata": {},
   "outputs": [],
   "source": [
    "output.max(1)[0]"
   ]
  },
  {
   "cell_type": "code",
   "execution_count": null,
   "id": "707aeb64-c11d-4300-aca3-31f814c08133",
   "metadata": {},
   "outputs": [],
   "source": [
    "preds"
   ]
  },
  {
   "cell_type": "code",
   "execution_count": null,
   "id": "0ed67fbd-663d-490f-8ad0-e157de3ce127",
   "metadata": {},
   "outputs": [],
   "source": [
    "model = GCN(nfeat=24,\n",
    "            nhid=10,\n",
    "            nclass=128, \n",
    "            dropout=0.1)    \n",
    "\n",
    "optimizer = optim.Adam(model.parameters(), lr=1e-3)\n"
   ]
  },
  {
   "cell_type": "code",
   "execution_count": null,
   "id": "ddbf074c-30ac-4111-a4c7-3261fb3a0b6d",
   "metadata": {},
   "outputs": [],
   "source": [
    "iteration_num = 3\n",
    "num_epoch = 30\n",
    "for wid in range(iteration_num):\n",
    "    print(\"[graph {}]\".format(wid))\n",
    "    # Load data \n",
    "    adj, features, labels, root_idx_bit_map, idx_train, idx_val, idx_test = load_data(path = save_dir, dataset = f\"sample-plan-0-{wid}\")\n",
    "    labels = labels.reshape(-1, 1)\n",
    "    \n",
    "    # Model Training\n",
    "    ok_times = 0\n",
    "    t_total = time.time()\n",
    "    for epoch in range(num_epoch):\n",
    "        # print(features.shape, adj.shape)\n",
    "        if epoch == num_epoch - 1:\n",
    "            debug = True\n",
    "        else:\n",
    "            debug = False\n",
    "        loss_train = train(epoch, labels, features, adj, idx_train, idx_val, model, optimizer, debug)\n",
    "        if loss_train < 0.002:\n",
    "            ok_times += 1\n",
    "        if ok_times >= 20:\n",
    "            break    \n",
    "        \n",
    "    print(\"Optimization Finished!\")\n",
    "    print(\"Total time elapsed: {:.4f}s\".format(time.time() - t_total))"
   ]
  },
  {
   "cell_type": "code",
   "execution_count": null,
   "id": "87149227-81c7-4d43-963f-b334a105466f",
   "metadata": {},
   "outputs": [],
   "source": []
  }
 ],
 "metadata": {
  "kernelspec": {
   "display_name": "Python 3 (ipykernel)",
   "language": "python",
   "name": "python3"
  },
  "language_info": {
   "codemirror_mode": {
    "name": "ipython",
    "version": 3
   },
   "file_extension": ".py",
   "mimetype": "text/x-python",
   "name": "python",
   "nbconvert_exporter": "python",
   "pygments_lexer": "ipython3",
   "version": "3.11.7"
  }
 },
 "nbformat": 4,
 "nbformat_minor": 5
}
