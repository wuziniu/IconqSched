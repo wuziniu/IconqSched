{
 "cells": [
  {
   "cell_type": "code",
   "execution_count": 7,
   "id": "08d9e7c6-94c8-4e8c-a6c6-c7e8526c4b0f",
   "metadata": {},
   "outputs": [],
   "source": [
    "import numpy as np\n",
    "import os\n",
    "import torch\n",
    "from torch_geometric.nn import GCNConv, SAGEConv\n",
    "import sys\n",
    "sys.path.append(\"../\")\n",
    "from models.concurrency.baselines.gcn_graph_embedding import load_all_data\n"
   ]
  },
  {
   "cell_type": "code",
   "execution_count": 3,
   "id": "1322912f-c3f7-4a8f-9e68-b8f2fa397ce3",
   "metadata": {},
   "outputs": [
    {
     "name": "stdout",
     "output_type": "stream",
     "text": [
      "Loading all data graphs\n",
      "In total, 835 number of graphs\n"
     ]
    }
   ],
   "source": [
    "data_dir = \"/Users/ziniuw/Desktop/research/perf_prediction/workload-performance/pmodel_data/imdb/\"\n",
    "dataset = \"sample-plan\"\n",
    "n_run_id = 4\n",
    "print(\"Loading all data graphs\")\n",
    "all_features, all_edge_idx, all_edge_weight, all_labels, all_root_idx_bit_map = load_all_data(data_dir, dataset, n_run_id)\n",
    "n_graphs = len(all_features)\n",
    "print(f\"In total, {n_graphs} number of graphs\")"
   ]
  },
  {
   "cell_type": "code",
   "execution_count": 8,
   "id": "9b11dba4-ec69-4280-ae49-22a409b73c3a",
   "metadata": {},
   "outputs": [],
   "source": [
    "gcn = SAGEConv(all_features[0].shape[-1], 64)"
   ]
  },
  {
   "cell_type": "code",
   "execution_count": 10,
   "id": "2e514963-8e1d-423c-ae10-c38ad267788b",
   "metadata": {},
   "outputs": [
    {
     "data": {
      "text/plain": [
       "0"
      ]
     },
     "execution_count": 10,
     "metadata": {},
     "output_type": "execute_result"
    }
   ],
   "source": [
    "pred = gcn(all_features[1], all_edge_idx[1])\n",
    "np.sum(np.isnan(pred.detach().numpy()))"
   ]
  },
  {
   "cell_type": "code",
   "execution_count": 28,
   "id": "fd7661fb-fe18-4fec-89cd-65715ba91630",
   "metadata": {},
   "outputs": [],
   "source": [
    "path = \"/Users/ziniuw/Desktop/research/perf_prediction/workload-performance/pmodel_data/imdb/\"\n",
    "dataset = \"sample-plan-0-0\"\n",
    "vmatrix = np.load(os.path.join(path, dataset + \"-nodes.npy\"))\n",
    "ematrix = np.load(os.path.join(path, dataset + \"-edges.npy\"))"
   ]
  },
  {
   "cell_type": "code",
   "execution_count": 31,
   "id": "d4b4c04a-abf5-4997-92aa-134a66b7c17c",
   "metadata": {},
   "outputs": [],
   "source": [
    "def load_data_from_matrix(vmatrix, ematrix, val_len=0):\n",
    "    idx_features_labels = vmatrix\n",
    "    n_example = len(vmatrix)\n",
    "    features = sp.csr_matrix(idx_features_labels[:, 1:-1], dtype=np.float32)\n",
    "    labels = idx_features_labels[:, -1].astype(float)\n",
    "    idx = np.array(idx_features_labels[:, 0], dtype=np.int32)\n",
    "    edges_unordered = ematrix[:, :-1]\n",
    "    edges = np.array(\n",
    "        list(map(idx_map.get, edges_unordered.flatten())), dtype=np.int32\n",
    "    ).reshape(edges_unordered.shape)\n",
    "\n",
    "    # modified begin.\n",
    "    edges_value = ematrix[:, -1:]\n",
    "    adj = sp.coo_matrix(\n",
    "        (edges_value[:, 0], (edges[:, 0], edges[:, 1])),\n",
    "        shape=(n_example, n_example),\n",
    "        dtype=np.float32,\n",
    "    )\n",
    "\n",
    "    features = normalize(features)\n",
    "    adj = normalize(adj + sp.eye(adj.shape[0]))\n",
    "\n",
    "    operator_num = adj.shape[0]\n",
    "    train_len = 1 - val_len\n",
    "    idx_train = range(int(train_len * operator_num))\n",
    "    # print(\"idx_train\", idx_train)\n",
    "    idx_val = range(int(train_len * operator_num), operator_num)\n",
    "    features = torch.FloatTensor(np.array(features.todense()))\n",
    "    adj = sparse_mx_to_torch_sparse_tensor(adj)\n",
    "    idx_train = torch.LongTensor(idx_train)\n",
    "    idx_val = torch.LongTensor(idx_val)\n",
    "    labels = labels.astype(np.float32)\n",
    "    labels = torch.from_numpy(labels)\n",
    "    labels.unsqueeze(1)\n",
    "\n",
    "    return adj, features, labels, idx_train, idx_val"
   ]
  },
  {
   "cell_type": "code",
   "execution_count": 32,
   "id": "cf25b16c-ee04-486d-adb0-af8e5059dae5",
   "metadata": {},
   "outputs": [
    {
     "ename": "NameError",
     "evalue": "name 'sp' is not defined",
     "output_type": "error",
     "traceback": [
      "\u001b[0;31m---------------------------------------------------------------------------\u001b[0m",
      "\u001b[0;31mNameError\u001b[0m                                 Traceback (most recent call last)",
      "Cell \u001b[0;32mIn[32], line 1\u001b[0m\n\u001b[0;32m----> 1\u001b[0m adj, features, labels, idx_train, idx_val \u001b[38;5;241m=\u001b[39m load_data_from_matrix(\n\u001b[1;32m      2\u001b[0m         vmatrix, ematrix, \u001b[38;5;241m0\u001b[39m\n\u001b[1;32m      3\u001b[0m     )\n",
      "Cell \u001b[0;32mIn[31], line 4\u001b[0m, in \u001b[0;36mload_data_from_matrix\u001b[0;34m(vmatrix, ematrix, val_len)\u001b[0m\n\u001b[1;32m      2\u001b[0m idx_features_labels \u001b[38;5;241m=\u001b[39m vmatrix\n\u001b[1;32m      3\u001b[0m n_example \u001b[38;5;241m=\u001b[39m \u001b[38;5;28mlen\u001b[39m(vmatrix)\n\u001b[0;32m----> 4\u001b[0m features \u001b[38;5;241m=\u001b[39m sp\u001b[38;5;241m.\u001b[39mcsr_matrix(idx_features_labels[:, \u001b[38;5;241m1\u001b[39m:\u001b[38;5;241m-\u001b[39m\u001b[38;5;241m1\u001b[39m], dtype\u001b[38;5;241m=\u001b[39mnp\u001b[38;5;241m.\u001b[39mfloat32)\n\u001b[1;32m      5\u001b[0m labels \u001b[38;5;241m=\u001b[39m idx_features_labels[:, \u001b[38;5;241m-\u001b[39m\u001b[38;5;241m1\u001b[39m]\u001b[38;5;241m.\u001b[39mastype(\u001b[38;5;28mfloat\u001b[39m)\n\u001b[1;32m      6\u001b[0m idx \u001b[38;5;241m=\u001b[39m np\u001b[38;5;241m.\u001b[39marray(idx_features_labels[:, \u001b[38;5;241m0\u001b[39m], dtype\u001b[38;5;241m=\u001b[39mnp\u001b[38;5;241m.\u001b[39mint32)\n",
      "\u001b[0;31mNameError\u001b[0m: name 'sp' is not defined"
     ]
    }
   ],
   "source": [
    "adj, features, labels, idx_train, idx_val = load_data_from_matrix(\n",
    "        vmatrix, ematrix, 0\n",
    "    )"
   ]
  },
  {
   "cell_type": "code",
   "execution_count": 33,
   "id": "4ddf6ff5-e3f8-4fe3-aefa-d9fde4d9fa96",
   "metadata": {},
   "outputs": [
    {
     "data": {
      "text/plain": [
       "array([0.000e+00, 1.000e+00, 2.000e+00, ..., 1.075e+03, 1.076e+03,\n",
       "       1.077e+03])"
      ]
     },
     "execution_count": 33,
     "metadata": {},
     "output_type": "execute_result"
    }
   ],
   "source": [
    "vmatrix[:, 0]"
   ]
  },
  {
   "cell_type": "code",
   "execution_count": 34,
   "id": "fd0fed79-f64d-4dd6-9f92-6ab7a711f121",
   "metadata": {},
   "outputs": [
    {
     "data": {
      "text/plain": [
       "1078"
      ]
     },
     "execution_count": 34,
     "metadata": {},
     "output_type": "execute_result"
    }
   ],
   "source": [
    "len(vmatrix)"
   ]
  },
  {
   "cell_type": "code",
   "execution_count": 49,
   "id": "8d8fbb36-cb15-4688-b919-e39ab3262f51",
   "metadata": {},
   "outputs": [],
   "source": [
    "feature = torch.from_numpy(vmatrix[:, 1:-1]).type(torch.FloatTensor)\n",
    "edge_idx = torch.from_numpy(ematrix[:, :-1].T).type(torch.int64)\n",
    "edge_weight = torch.from_numpy(ematrix[:, -1]).type(torch.FloatTensor)"
   ]
  },
  {
   "cell_type": "code",
   "execution_count": 50,
   "id": "bde9f0a1-226a-4aa2-bc94-e2f2444155e7",
   "metadata": {},
   "outputs": [
    {
     "data": {
      "text/plain": [
       "tensor([[ 2.1032e-01, -4.5925e-01, -2.7318e-01,  ..., -1.0206e-01,\n",
       "          8.8229e-02, -1.6933e-01],\n",
       "        [ 4.2127e-01, -4.9595e-01, -4.3956e-01,  ..., -2.4059e-01,\n",
       "          3.6633e-01, -7.5833e-02],\n",
       "        [ 4.0685e-01, -5.4034e-01, -5.0996e-01,  ..., -2.9821e-01,\n",
       "          1.2428e-01, -2.7391e-01],\n",
       "        ...,\n",
       "        [ 9.5358e+01, -9.4131e+01, -7.6838e+01,  ..., -7.1039e+01,\n",
       "          2.4031e+01, -7.3422e+01],\n",
       "        [ 1.1096e+02, -1.0175e+02, -8.2907e+01,  ..., -7.8919e+01,\n",
       "          3.2658e+01, -8.3240e+01],\n",
       "        [ 9.1925e+01, -8.4296e+01, -6.8753e+01,  ..., -6.5439e+01,\n",
       "          2.7140e+01, -6.8776e+01]], grad_fn=<AddBackward0>)"
      ]
     },
     "execution_count": 50,
     "metadata": {},
     "output_type": "execute_result"
    }
   ],
   "source": [
    "gcn(feature, edge_idx, edge_weight)"
   ]
  },
  {
   "cell_type": "code",
   "execution_count": 51,
   "id": "3e3c8261-5dc7-4a18-bc3f-be94371e263b",
   "metadata": {},
   "outputs": [
    {
     "data": {
      "text/plain": [
       "tensor([ 1.0000,  1.0000,  1.0000,  ..., -0.0713, -0.0412, -0.0412])"
      ]
     },
     "execution_count": 51,
     "metadata": {},
     "output_type": "execute_result"
    }
   ],
   "source": [
    "edge_weight"
   ]
  },
  {
   "cell_type": "code",
   "execution_count": null,
   "id": "d349ba37-7065-42e2-a621-66f5f91926db",
   "metadata": {},
   "outputs": [],
   "source": []
  }
 ],
 "metadata": {
  "kernelspec": {
   "display_name": "Python 3 (ipykernel)",
   "language": "python",
   "name": "python3"
  },
  "language_info": {
   "codemirror_mode": {
    "name": "ipython",
    "version": 3
   },
   "file_extension": ".py",
   "mimetype": "text/x-python",
   "name": "python",
   "nbconvert_exporter": "python",
   "pygments_lexer": "ipython3",
   "version": "3.11.7"
  }
 },
 "nbformat": 4,
 "nbformat_minor": 5
}
