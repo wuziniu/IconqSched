{
 "cells": [
  {
   "cell_type": "code",
   "execution_count": 40,
   "id": "5fc1cebb-d1f4-4555-8227-a9d6f9b0be73",
   "metadata": {},
   "outputs": [],
   "source": [
    "import pandas as pd\n",
    "import numpy as np\n",
    "import copy\n",
    "import sys\n",
    "import os\n",
    "sys.path.append(\"../\")\n",
    "from parser.utils import load_json, dfs_cardinality, estimate_scan_in_mb, dumper\n",
    "from models.feature.single_xgboost_feature import find_top_k_operators, featurize_one_plan, get_top_k_table_by_size\n",
    "from utils.load_brad_trace import load_trace, create_concurrency_dataset, load_trace_all_version\n",
    "from models.concurrency.utils import pre_info_train_test_seperation\n",
    "import torch\n",
    "from torch.nn.utils.rnn import pack_padded_sequence, pad_packed_sequence, pad_sequence\n",
    "from models.single.stage import SingleStage\n",
    "from models.concurrency.complex_models import ConcurrentRNN\n",
    "np.set_printoptions(suppress=True)"
   ]
  },
  {
   "cell_type": "code",
   "execution_count": 41,
   "id": "13593c0c-7d61-437f-9cec-ab7b22e2d1e0",
   "metadata": {},
   "outputs": [],
   "source": [
    "#parsed_queries_path = \"/Users/ziniuw/Desktop/research/Data/AWS_trace/mixed_aurora/aurora_mixed_parsed_queries.json\"\n",
    "parsed_queries_path = \"/Users/ziniuw/Desktop/research/Data/AWS_trace/mixed_postgres/postgres_mixed_parsed_queries.json\"\n",
    "plans = load_json(parsed_queries_path, namespace=False)\n",
    "folder_name = \"mixed_postgres\"\n",
    "directory = f\"/Users/ziniuw/Desktop/research/Data/AWS_trace/{folder_name}/\"\n",
    "all_raw_trace, all_trace = load_trace_all_version(directory, 8, concat=True)\n",
    "all_concurrency_df = []\n",
    "for trace in all_trace:\n",
    "    concurrency_df = create_concurrency_dataset(trace, engine=None, pre_exec_interval=200)\n",
    "    all_concurrency_df.append(concurrency_df)\n",
    "concurrency_df = pd.concat(all_concurrency_df, ignore_index=True)"
   ]
  },
  {
   "cell_type": "code",
   "execution_count": 42,
   "id": "3f958b19-bc30-4fc3-88c7-f7bd45520438",
   "metadata": {},
   "outputs": [
    {
     "name": "stdout",
     "output_type": "stream",
     "text": [
      "17603 13399\n",
      "24889 6198\n"
     ]
    }
   ],
   "source": [
    "train_trace_df_sep, eval_trace_df_sep = pre_info_train_test_seperation(concurrency_df)\n",
    "print(len(train_trace_df_sep), len(eval_trace_df_sep))\n",
    "np.random.seed(0)\n",
    "train_idx = np.random.choice(len(concurrency_df), size=int(0.8 * len(concurrency_df)), replace=False)\n",
    "test_idx = [i for i in range(len(concurrency_df)) if i not in train_idx]\n",
    "train_trace_df = copy.deepcopy(concurrency_df.iloc[train_idx])\n",
    "eval_trace_df = concurrency_df.iloc[test_idx]\n",
    "eval_trace_df = copy.deepcopy(eval_trace_df[eval_trace_df['num_concurrent_queries'] > 0])\n",
    "print(len(train_trace_df), len(eval_trace_df))"
   ]
  },
  {
   "cell_type": "code",
   "execution_count": 43,
   "id": "e3cb7a34-bf48-4695-bcef-0c9414bb3d68",
   "metadata": {},
   "outputs": [
    {
     "name": "stdout",
     "output_type": "stream",
     "text": [
      "Top 20 operators contains 0.9642989959092599 total operators\n"
     ]
    }
   ],
   "source": [
    "ss = SingleStage(use_table_features=True, true_card=True)\n",
    "#df = ss.featurize_data(train_trace_df, parsed_queries_path)\n",
    "df = ss.featurize_data(concurrency_df, parsed_queries_path)\n",
    "ss.train(df)"
   ]
  },
  {
   "cell_type": "code",
   "execution_count": 44,
   "id": "eaf846e2-a582-475e-9b62-12dcf6537a42",
   "metadata": {},
   "outputs": [
    {
     "name": "stdout",
     "output_type": "stream",
     "text": [
      "********Epoch 0, training loss: 411.0203755201438 || evaluation loss: ********\n"
     ]
    },
    {
     "name": "stderr",
     "output_type": "stream",
     "text": [
      "100%|███████████████████████████████████████████████████████████████████████████| 49/49 [00:02<00:00, 16.99it/s]\n"
     ]
    },
    {
     "name": "stdout",
     "output_type": "stream",
     "text": [
      "50% absolute error is 3.804101347923279, q-error is 1.6581772565841675\n",
      "90% absolute error is 55.93377799987793, q-error is 4.753993654251099\n",
      "95% absolute error is 103.91797485351515, q-error is 7.097725009918208\n",
      "********Epoch 5, training loss: 9.051576638756654 || evaluation loss: ********\n"
     ]
    },
    {
     "name": "stderr",
     "output_type": "stream",
     "text": [
      "100%|███████████████████████████████████████████████████████████████████████████| 49/49 [00:02<00:00, 17.02it/s]\n"
     ]
    },
    {
     "name": "stdout",
     "output_type": "stream",
     "text": [
      "50% absolute error is 2.7063283920288086, q-error is 1.352875530719757\n",
      "90% absolute error is 22.655736351013186, q-error is 3.2635942935943607\n",
      "95% absolute error is 39.13712730407712, q-error is 4.99490792751311\n",
      "********Epoch 10, training loss: 0.2664264956345925 || evaluation loss: ********\n"
     ]
    },
    {
     "name": "stderr",
     "output_type": "stream",
     "text": [
      "100%|███████████████████████████████████████████████████████████████████████████| 49/49 [00:02<00:00, 16.78it/s]\n"
     ]
    },
    {
     "name": "stdout",
     "output_type": "stream",
     "text": [
      "50% absolute error is 2.450193762779236, q-error is 1.3222350478172302\n",
      "90% absolute error is 21.14203720092774, q-error is 3.2286190748214723\n",
      "95% absolute error is 34.674578666687005, q-error is 5.313721680641171\n",
      "********Epoch 15, training loss: 8.854019014804791 || evaluation loss: ********\n"
     ]
    },
    {
     "name": "stderr",
     "output_type": "stream",
     "text": [
      "100%|███████████████████████████████████████████████████████████████████████████| 49/49 [00:02<00:00, 16.56it/s]\n"
     ]
    },
    {
     "name": "stdout",
     "output_type": "stream",
     "text": [
      "50% absolute error is 2.3620972633361816, q-error is 1.307175636291504\n",
      "90% absolute error is 19.051977920532234, q-error is 3.149255800247192\n",
      "95% absolute error is 31.38388671875, q-error is 5.193955564498891\n",
      "********Epoch 20, training loss: 4.478137765786586 || evaluation loss: ********\n"
     ]
    },
    {
     "name": "stderr",
     "output_type": "stream",
     "text": [
      "100%|███████████████████████████████████████████████████████████████████████████| 49/49 [00:02<00:00, 16.47it/s]\n"
     ]
    },
    {
     "name": "stdout",
     "output_type": "stream",
     "text": [
      "50% absolute error is 2.4847259521484375, q-error is 1.3099002838134766\n",
      "90% absolute error is 20.777799606323253, q-error is 3.0767553329467785\n",
      "95% absolute error is 35.6402954101562, q-error is 4.718518948554988\n",
      "********Epoch 25, training loss: 8.517125115562708 || evaluation loss: ********\n"
     ]
    },
    {
     "name": "stderr",
     "output_type": "stream",
     "text": [
      "100%|███████████████████████████████████████████████████████████████████████████| 49/49 [00:03<00:00, 16.29it/s]\n"
     ]
    },
    {
     "name": "stdout",
     "output_type": "stream",
     "text": [
      "50% absolute error is 2.560040235519409, q-error is 1.2822027802467346\n",
      "90% absolute error is 18.725619697570806, q-error is 3.093087029457093\n",
      "95% absolute error is 30.78302316665649, q-error is 4.714442586898793\n",
      "********Epoch 30, training loss: 31.56055474036779 || evaluation loss: ********\n"
     ]
    },
    {
     "name": "stderr",
     "output_type": "stream",
     "text": [
      "100%|███████████████████████████████████████████████████████████████████████████| 49/49 [00:03<00:00, 16.22it/s]\n"
     ]
    },
    {
     "name": "stdout",
     "output_type": "stream",
     "text": [
      "50% absolute error is 2.5502967834472656, q-error is 1.285004198551178\n",
      "90% absolute error is 19.57858695983887, q-error is 2.82051637172699\n",
      "95% absolute error is 33.945580863952614, q-error is 4.1188994169235205\n",
      "********Epoch 35, training loss: 9.941133200663787 || evaluation loss: ********\n"
     ]
    },
    {
     "name": "stderr",
     "output_type": "stream",
     "text": [
      "100%|███████████████████████████████████████████████████████████████████████████| 49/49 [00:03<00:00, 16.09it/s]\n"
     ]
    },
    {
     "name": "stdout",
     "output_type": "stream",
     "text": [
      "50% absolute error is 2.540359139442444, q-error is 1.2796486616134644\n",
      "90% absolute error is 17.605958557128915, q-error is 3.000112891197205\n",
      "95% absolute error is 27.12789459228508, q-error is 4.604314970970148\n",
      "********Epoch 40, training loss: 8.762193177525814 || evaluation loss: ********\n"
     ]
    },
    {
     "name": "stderr",
     "output_type": "stream",
     "text": [
      "100%|███████████████████████████████████████████████████████████████████████████| 49/49 [00:03<00:00, 16.30it/s]\n"
     ]
    },
    {
     "name": "stdout",
     "output_type": "stream",
     "text": [
      "50% absolute error is 2.586505889892578, q-error is 1.2833199501037598\n",
      "90% absolute error is 21.772119140625, q-error is 2.8084709644317627\n",
      "95% absolute error is 36.618003845214844, q-error is 4.025847029685961\n",
      "********Epoch 45, training loss: 8.826959045842672 || evaluation loss: ********\n"
     ]
    },
    {
     "name": "stderr",
     "output_type": "stream",
     "text": [
      "100%|███████████████████████████████████████████████████████████████████████████| 49/49 [00:02<00:00, 16.45it/s]\n"
     ]
    },
    {
     "name": "stdout",
     "output_type": "stream",
     "text": [
      "50% absolute error is 2.470977306365967, q-error is 1.2888217568397522\n",
      "90% absolute error is 19.95462989807129, q-error is 2.8704358339309692\n",
      "95% absolute error is 34.173838806152304, q-error is 4.312779402732845\n",
      "********Epoch 50, training loss: 0.14900413591128128 || evaluation loss: ********\n"
     ]
    },
    {
     "name": "stderr",
     "output_type": "stream",
     "text": [
      "100%|███████████████████████████████████████████████████████████████████████████| 49/49 [00:02<00:00, 16.51it/s]\n"
     ]
    },
    {
     "name": "stdout",
     "output_type": "stream",
     "text": [
      "50% absolute error is 2.673985719680786, q-error is 1.2745469212532043\n",
      "90% absolute error is 19.149652099609384, q-error is 2.8148646116256715\n",
      "95% absolute error is 28.345897293090815, q-error is 4.04917025566101\n"
     ]
    },
    {
     "ename": "KeyboardInterrupt",
     "evalue": "",
     "output_type": "error",
     "traceback": [
      "\u001b[0;31m---------------------------------------------------------------------------\u001b[0m",
      "\u001b[0;31mKeyboardInterrupt\u001b[0m                         Traceback (most recent call last)",
      "Cell \u001b[0;32mIn[44], line 11\u001b[0m\n\u001b[1;32m      1\u001b[0m rnn \u001b[38;5;241m=\u001b[39m ConcurrentRNN(ss, \n\u001b[1;32m      2\u001b[0m                     \u001b[38;5;124m\"\u001b[39m\u001b[38;5;124mpostgres\u001b[39m\u001b[38;5;124m\"\u001b[39m,\n\u001b[1;32m      3\u001b[0m                     input_size\u001b[38;5;241m=\u001b[39m\u001b[38;5;28mlen\u001b[39m(ss\u001b[38;5;241m.\u001b[39mall_feature[\u001b[38;5;241m0\u001b[39m]) \u001b[38;5;241m*\u001b[39m \u001b[38;5;241m2\u001b[39m \u001b[38;5;241m+\u001b[39m \u001b[38;5;241m7\u001b[39m,\n\u001b[0;32m   (...)\u001b[0m\n\u001b[1;32m      9\u001b[0m                     use_separation\u001b[38;5;241m=\u001b[39m\u001b[38;5;28;01mFalse\u001b[39;00m\n\u001b[1;32m     10\u001b[0m                    )\n\u001b[0;32m---> 11\u001b[0m rnn\u001b[38;5;241m.\u001b[39mtrain(train_trace_df, eval_trace_df, lr\u001b[38;5;241m=\u001b[39m\u001b[38;5;241m0.001\u001b[39m, loss_function\u001b[38;5;241m=\u001b[39m\u001b[38;5;124m\"\u001b[39m\u001b[38;5;124mq_loss\u001b[39m\u001b[38;5;124m\"\u001b[39m, val_on_test\u001b[38;5;241m=\u001b[39m\u001b[38;5;28;01mTrue\u001b[39;00m)\n",
      "File \u001b[0;32m~/Desktop/research/perf_prediction/exploration/debug/../models/concurrency/complex_models.py:238\u001b[0m, in \u001b[0;36mConcurrentRNN.train\u001b[0;34m(self, df, test_df, lr, weight_decay, epochs, loss_function, report_every, val_on_test)\u001b[0m\n\u001b[1;32m    236\u001b[0m \u001b[38;5;28;01mfor\u001b[39;00m X, x_lengths, y, pre_info_length, query_idx \u001b[38;5;129;01min\u001b[39;00m train_dataloader:\n\u001b[1;32m    237\u001b[0m     optimizer\u001b[38;5;241m.\u001b[39mzero_grad()\n\u001b[0;32m--> 238\u001b[0m     pred \u001b[38;5;241m=\u001b[39m \u001b[38;5;28mself\u001b[39m\u001b[38;5;241m.\u001b[39mmodel(X, x_lengths, pre_info_length)\n\u001b[1;32m    239\u001b[0m     y \u001b[38;5;241m=\u001b[39m y\u001b[38;5;241m.\u001b[39mreshape(\u001b[38;5;241m-\u001b[39m\u001b[38;5;241m1\u001b[39m, \u001b[38;5;241m1\u001b[39m)\n\u001b[1;32m    240\u001b[0m     \u001b[38;5;28;01mif\u001b[39;00m \u001b[38;5;28mself\u001b[39m\u001b[38;5;241m.\u001b[39mloss_func \u001b[38;5;241m==\u001b[39m \u001b[38;5;124m\"\u001b[39m\u001b[38;5;124ml1_loss\u001b[39m\u001b[38;5;124m\"\u001b[39m:\n",
      "File \u001b[0;32m~/miniconda3/envs/exploration/lib/python3.11/site-packages/torch/nn/modules/module.py:1511\u001b[0m, in \u001b[0;36mModule._wrapped_call_impl\u001b[0;34m(self, *args, **kwargs)\u001b[0m\n\u001b[1;32m   1509\u001b[0m     \u001b[38;5;28;01mreturn\u001b[39;00m \u001b[38;5;28mself\u001b[39m\u001b[38;5;241m.\u001b[39m_compiled_call_impl(\u001b[38;5;241m*\u001b[39margs, \u001b[38;5;241m*\u001b[39m\u001b[38;5;241m*\u001b[39mkwargs)  \u001b[38;5;66;03m# type: ignore[misc]\u001b[39;00m\n\u001b[1;32m   1510\u001b[0m \u001b[38;5;28;01melse\u001b[39;00m:\n\u001b[0;32m-> 1511\u001b[0m     \u001b[38;5;28;01mreturn\u001b[39;00m \u001b[38;5;28mself\u001b[39m\u001b[38;5;241m.\u001b[39m_call_impl(\u001b[38;5;241m*\u001b[39margs, \u001b[38;5;241m*\u001b[39m\u001b[38;5;241m*\u001b[39mkwargs)\n",
      "File \u001b[0;32m~/miniconda3/envs/exploration/lib/python3.11/site-packages/torch/nn/modules/module.py:1520\u001b[0m, in \u001b[0;36mModule._call_impl\u001b[0;34m(self, *args, **kwargs)\u001b[0m\n\u001b[1;32m   1515\u001b[0m \u001b[38;5;66;03m# If we don't have any hooks, we want to skip the rest of the logic in\u001b[39;00m\n\u001b[1;32m   1516\u001b[0m \u001b[38;5;66;03m# this function, and just call forward.\u001b[39;00m\n\u001b[1;32m   1517\u001b[0m \u001b[38;5;28;01mif\u001b[39;00m \u001b[38;5;129;01mnot\u001b[39;00m (\u001b[38;5;28mself\u001b[39m\u001b[38;5;241m.\u001b[39m_backward_hooks \u001b[38;5;129;01mor\u001b[39;00m \u001b[38;5;28mself\u001b[39m\u001b[38;5;241m.\u001b[39m_backward_pre_hooks \u001b[38;5;129;01mor\u001b[39;00m \u001b[38;5;28mself\u001b[39m\u001b[38;5;241m.\u001b[39m_forward_hooks \u001b[38;5;129;01mor\u001b[39;00m \u001b[38;5;28mself\u001b[39m\u001b[38;5;241m.\u001b[39m_forward_pre_hooks\n\u001b[1;32m   1518\u001b[0m         \u001b[38;5;129;01mor\u001b[39;00m _global_backward_pre_hooks \u001b[38;5;129;01mor\u001b[39;00m _global_backward_hooks\n\u001b[1;32m   1519\u001b[0m         \u001b[38;5;129;01mor\u001b[39;00m _global_forward_hooks \u001b[38;5;129;01mor\u001b[39;00m _global_forward_pre_hooks):\n\u001b[0;32m-> 1520\u001b[0m     \u001b[38;5;28;01mreturn\u001b[39;00m forward_call(\u001b[38;5;241m*\u001b[39margs, \u001b[38;5;241m*\u001b[39m\u001b[38;5;241m*\u001b[39mkwargs)\n\u001b[1;32m   1522\u001b[0m \u001b[38;5;28;01mtry\u001b[39;00m:\n\u001b[1;32m   1523\u001b[0m     result \u001b[38;5;241m=\u001b[39m \u001b[38;5;28;01mNone\u001b[39;00m\n",
      "File \u001b[0;32m~/Desktop/research/perf_prediction/exploration/debug/../models/concurrency/seq_to_seq.py:205\u001b[0m, in \u001b[0;36mLSTM.forward\u001b[0;34m(self, x, x_len, pre_info_length, is_padded)\u001b[0m\n\u001b[1;32m    201\u001b[0m     \u001b[38;5;28;01mreturn\u001b[39;00m \u001b[38;5;28mself\u001b[39m\u001b[38;5;241m.\u001b[39mmodel_forward_with_seperation(\n\u001b[1;32m    202\u001b[0m         x, x_len, pre_info_length, is_padded\n\u001b[1;32m    203\u001b[0m     )\n\u001b[1;32m    204\u001b[0m \u001b[38;5;28;01melse\u001b[39;00m:\n\u001b[0;32m--> 205\u001b[0m     output, _ \u001b[38;5;241m=\u001b[39m \u001b[38;5;28mself\u001b[39m\u001b[38;5;241m.\u001b[39mmodel_forward(x, x_len, is_padded\u001b[38;5;241m=\u001b[39mis_padded)\n\u001b[1;32m    206\u001b[0m     \u001b[38;5;28;01mreturn\u001b[39;00m output\n",
      "File \u001b[0;32m~/Desktop/research/perf_prediction/exploration/debug/../models/concurrency/seq_to_seq.py:103\u001b[0m, in \u001b[0;36mLSTM.model_forward\u001b[0;34m(self, x, x_len, h0, c0, is_padded)\u001b[0m\n\u001b[1;32m    101\u001b[0m \u001b[38;5;28;01mif\u001b[39;00m c0 \u001b[38;5;129;01mis\u001b[39;00m \u001b[38;5;28;01mNone\u001b[39;00m:\n\u001b[1;32m    102\u001b[0m     c0 \u001b[38;5;241m=\u001b[39m torch\u001b[38;5;241m.\u001b[39mzeros(\u001b[38;5;28mself\u001b[39m\u001b[38;5;241m.\u001b[39mnum_layers, x\u001b[38;5;241m.\u001b[39msize(\u001b[38;5;241m0\u001b[39m), \u001b[38;5;28mself\u001b[39m\u001b[38;5;241m.\u001b[39mhidden_size)\u001b[38;5;241m.\u001b[39mto(x\u001b[38;5;241m.\u001b[39mdevice)\n\u001b[0;32m--> 103\u001b[0m output, (hn, cn) \u001b[38;5;241m=\u001b[39m \u001b[38;5;28mself\u001b[39m\u001b[38;5;241m.\u001b[39mmodel(packed_input, (h0, c0))\n\u001b[1;32m    104\u001b[0m output, _ \u001b[38;5;241m=\u001b[39m pad_packed_sequence(output, batch_first\u001b[38;5;241m=\u001b[39m\u001b[38;5;28;01mTrue\u001b[39;00m)\n\u001b[1;32m    105\u001b[0m \u001b[38;5;28;01mif\u001b[39;00m \u001b[38;5;28mself\u001b[39m\u001b[38;5;241m.\u001b[39mlast_output:\n",
      "File \u001b[0;32m~/miniconda3/envs/exploration/lib/python3.11/site-packages/torch/nn/modules/module.py:1511\u001b[0m, in \u001b[0;36mModule._wrapped_call_impl\u001b[0;34m(self, *args, **kwargs)\u001b[0m\n\u001b[1;32m   1509\u001b[0m     \u001b[38;5;28;01mreturn\u001b[39;00m \u001b[38;5;28mself\u001b[39m\u001b[38;5;241m.\u001b[39m_compiled_call_impl(\u001b[38;5;241m*\u001b[39margs, \u001b[38;5;241m*\u001b[39m\u001b[38;5;241m*\u001b[39mkwargs)  \u001b[38;5;66;03m# type: ignore[misc]\u001b[39;00m\n\u001b[1;32m   1510\u001b[0m \u001b[38;5;28;01melse\u001b[39;00m:\n\u001b[0;32m-> 1511\u001b[0m     \u001b[38;5;28;01mreturn\u001b[39;00m \u001b[38;5;28mself\u001b[39m\u001b[38;5;241m.\u001b[39m_call_impl(\u001b[38;5;241m*\u001b[39margs, \u001b[38;5;241m*\u001b[39m\u001b[38;5;241m*\u001b[39mkwargs)\n",
      "File \u001b[0;32m~/miniconda3/envs/exploration/lib/python3.11/site-packages/torch/nn/modules/module.py:1520\u001b[0m, in \u001b[0;36mModule._call_impl\u001b[0;34m(self, *args, **kwargs)\u001b[0m\n\u001b[1;32m   1515\u001b[0m \u001b[38;5;66;03m# If we don't have any hooks, we want to skip the rest of the logic in\u001b[39;00m\n\u001b[1;32m   1516\u001b[0m \u001b[38;5;66;03m# this function, and just call forward.\u001b[39;00m\n\u001b[1;32m   1517\u001b[0m \u001b[38;5;28;01mif\u001b[39;00m \u001b[38;5;129;01mnot\u001b[39;00m (\u001b[38;5;28mself\u001b[39m\u001b[38;5;241m.\u001b[39m_backward_hooks \u001b[38;5;129;01mor\u001b[39;00m \u001b[38;5;28mself\u001b[39m\u001b[38;5;241m.\u001b[39m_backward_pre_hooks \u001b[38;5;129;01mor\u001b[39;00m \u001b[38;5;28mself\u001b[39m\u001b[38;5;241m.\u001b[39m_forward_hooks \u001b[38;5;129;01mor\u001b[39;00m \u001b[38;5;28mself\u001b[39m\u001b[38;5;241m.\u001b[39m_forward_pre_hooks\n\u001b[1;32m   1518\u001b[0m         \u001b[38;5;129;01mor\u001b[39;00m _global_backward_pre_hooks \u001b[38;5;129;01mor\u001b[39;00m _global_backward_hooks\n\u001b[1;32m   1519\u001b[0m         \u001b[38;5;129;01mor\u001b[39;00m _global_forward_hooks \u001b[38;5;129;01mor\u001b[39;00m _global_forward_pre_hooks):\n\u001b[0;32m-> 1520\u001b[0m     \u001b[38;5;28;01mreturn\u001b[39;00m forward_call(\u001b[38;5;241m*\u001b[39margs, \u001b[38;5;241m*\u001b[39m\u001b[38;5;241m*\u001b[39mkwargs)\n\u001b[1;32m   1522\u001b[0m \u001b[38;5;28;01mtry\u001b[39;00m:\n\u001b[1;32m   1523\u001b[0m     result \u001b[38;5;241m=\u001b[39m \u001b[38;5;28;01mNone\u001b[39;00m\n",
      "File \u001b[0;32m~/miniconda3/envs/exploration/lib/python3.11/site-packages/torch/nn/modules/rnn.py:881\u001b[0m, in \u001b[0;36mLSTM.forward\u001b[0;34m(self, input, hx)\u001b[0m\n\u001b[1;32m    878\u001b[0m     result \u001b[38;5;241m=\u001b[39m _VF\u001b[38;5;241m.\u001b[39mlstm(\u001b[38;5;28minput\u001b[39m, hx, \u001b[38;5;28mself\u001b[39m\u001b[38;5;241m.\u001b[39m_flat_weights, \u001b[38;5;28mself\u001b[39m\u001b[38;5;241m.\u001b[39mbias, \u001b[38;5;28mself\u001b[39m\u001b[38;5;241m.\u001b[39mnum_layers,\n\u001b[1;32m    879\u001b[0m                       \u001b[38;5;28mself\u001b[39m\u001b[38;5;241m.\u001b[39mdropout, \u001b[38;5;28mself\u001b[39m\u001b[38;5;241m.\u001b[39mtraining, \u001b[38;5;28mself\u001b[39m\u001b[38;5;241m.\u001b[39mbidirectional, \u001b[38;5;28mself\u001b[39m\u001b[38;5;241m.\u001b[39mbatch_first)\n\u001b[1;32m    880\u001b[0m \u001b[38;5;28;01melse\u001b[39;00m:\n\u001b[0;32m--> 881\u001b[0m     result \u001b[38;5;241m=\u001b[39m _VF\u001b[38;5;241m.\u001b[39mlstm(\u001b[38;5;28minput\u001b[39m, batch_sizes, hx, \u001b[38;5;28mself\u001b[39m\u001b[38;5;241m.\u001b[39m_flat_weights, \u001b[38;5;28mself\u001b[39m\u001b[38;5;241m.\u001b[39mbias,\n\u001b[1;32m    882\u001b[0m                       \u001b[38;5;28mself\u001b[39m\u001b[38;5;241m.\u001b[39mnum_layers, \u001b[38;5;28mself\u001b[39m\u001b[38;5;241m.\u001b[39mdropout, \u001b[38;5;28mself\u001b[39m\u001b[38;5;241m.\u001b[39mtraining, \u001b[38;5;28mself\u001b[39m\u001b[38;5;241m.\u001b[39mbidirectional)\n\u001b[1;32m    883\u001b[0m output \u001b[38;5;241m=\u001b[39m result[\u001b[38;5;241m0\u001b[39m]\n\u001b[1;32m    884\u001b[0m hidden \u001b[38;5;241m=\u001b[39m result[\u001b[38;5;241m1\u001b[39m:]\n",
      "\u001b[0;31mKeyboardInterrupt\u001b[0m: "
     ]
    }
   ],
   "source": [
    "rnn = ConcurrentRNN(ss, \n",
    "                    \"postgres\",\n",
    "                    input_size=len(ss.all_feature[0]) * 2 + 7,\n",
    "                    embedding_dim=128,\n",
    "                    hidden_size=256,\n",
    "                    num_layers=2,\n",
    "                    loss_function=\"q_loss\",\n",
    "                    last_output=True,\n",
    "                    use_separation=False\n",
    "                   )\n",
    "rnn.train(train_trace_df, eval_trace_df, lr=0.001, loss_function=\"q_loss\", val_on_test=True)\n",
    "#rnn.load_model(\"checkpoints\")"
   ]
  },
  {
   "cell_type": "code",
   "execution_count": 60,
   "id": "83534531-6e97-4e51-b8ee-b5bc0f0de950",
   "metadata": {},
   "outputs": [
    {
     "name": "stdout",
     "output_type": "stream",
     "text": [
      "********Epoch 0, training loss: 11.324541861353776 || evaluation loss: ********\n"
     ]
    },
    {
     "name": "stderr",
     "output_type": "stream",
     "text": [
      "100%|███████████████████████████████████████████████████████████████████████████| 49/49 [00:02<00:00, 16.57it/s]\n"
     ]
    },
    {
     "name": "stdout",
     "output_type": "stream",
     "text": [
      "50% absolute error is 2.5366926193237305, q-error is 1.2759972214698792\n",
      "90% absolute error is 19.599263000488282, q-error is 2.876849460601807\n",
      "95% absolute error is 33.53456020355224, q-error is 4.297272634506223\n",
      "********Epoch 5, training loss: 8.945446717204192 || evaluation loss: ********\n"
     ]
    },
    {
     "name": "stderr",
     "output_type": "stream",
     "text": [
      "100%|███████████████████████████████████████████████████████████████████████████| 49/49 [00:02<00:00, 16.34it/s]\n"
     ]
    },
    {
     "name": "stdout",
     "output_type": "stream",
     "text": [
      "50% absolute error is 2.732142925262451, q-error is 1.2789133787155151\n",
      "90% absolute error is 19.87552127838136, q-error is 2.9121077775955206\n",
      "95% absolute error is 31.177502822875933, q-error is 4.191343188285827\n",
      "********Epoch 10, training loss: 16.398986326998624 || evaluation loss: ********\n"
     ]
    },
    {
     "name": "stderr",
     "output_type": "stream",
     "text": [
      "100%|███████████████████████████████████████████████████████████████████████████| 49/49 [00:02<00:00, 16.42it/s]\n"
     ]
    },
    {
     "name": "stdout",
     "output_type": "stream",
     "text": [
      "50% absolute error is 2.5937347412109375, q-error is 1.2768462896347046\n",
      "90% absolute error is 18.353688049316407, q-error is 2.994606637954713\n",
      "95% absolute error is 28.507964038848858, q-error is 4.490287065505978\n",
      "********Epoch 15, training loss: 8.44031890107271 || evaluation loss: ********\n"
     ]
    },
    {
     "name": "stderr",
     "output_type": "stream",
     "text": [
      "100%|███████████████████████████████████████████████████████████████████████████| 49/49 [00:02<00:00, 16.50it/s]\n"
     ]
    },
    {
     "name": "stdout",
     "output_type": "stream",
     "text": [
      "50% absolute error is 2.366806387901306, q-error is 1.2782752513885498\n",
      "90% absolute error is 18.75656890869141, q-error is 2.7906350135803235\n",
      "95% absolute error is 30.27339248657223, q-error is 4.062582492828365\n",
      "********Epoch 20, training loss: 4.616452455062133 || evaluation loss: ********\n"
     ]
    },
    {
     "name": "stderr",
     "output_type": "stream",
     "text": [
      "100%|███████████████████████████████████████████████████████████████████████████| 49/49 [00:03<00:00, 16.31it/s]\n"
     ]
    },
    {
     "name": "stdout",
     "output_type": "stream",
     "text": [
      "50% absolute error is 2.842434883117676, q-error is 1.2830780744552612\n",
      "90% absolute error is 19.72670631408692, q-error is 2.8486099481582645\n",
      "95% absolute error is 29.8844284057617, q-error is 4.288729667663567\n",
      "********Epoch 25, training loss: 4.818466586906176 || evaluation loss: ********\n"
     ]
    },
    {
     "name": "stderr",
     "output_type": "stream",
     "text": [
      "100%|███████████████████████████████████████████████████████████████████████████| 49/49 [00:03<00:00, 16.22it/s]\n"
     ]
    },
    {
     "name": "stdout",
     "output_type": "stream",
     "text": [
      "50% absolute error is 2.520271062850952, q-error is 1.271542489528656\n",
      "90% absolute error is 17.96844902038576, q-error is 2.7804504394531255\n",
      "95% absolute error is 27.763698959350577, q-error is 3.943305480480192\n",
      "********Epoch 30, training loss: 19.264150565824448 || evaluation loss: ********\n"
     ]
    },
    {
     "name": "stderr",
     "output_type": "stream",
     "text": [
      "100%|███████████████████████████████████████████████████████████████████████████| 49/49 [00:03<00:00, 16.19it/s]\n"
     ]
    },
    {
     "name": "stdout",
     "output_type": "stream",
     "text": [
      "50% absolute error is 2.5196633338928223, q-error is 1.2732408046722412\n",
      "90% absolute error is 18.817308807373056, q-error is 2.8666248798370364\n",
      "95% absolute error is 30.290059852600095, q-error is 4.434894585609428\n",
      "********Epoch 35, training loss: 0.1171607887897736 || evaluation loss: ********\n"
     ]
    },
    {
     "name": "stderr",
     "output_type": "stream",
     "text": [
      "100%|███████████████████████████████████████████████████████████████████████████| 49/49 [00:03<00:00, 16.02it/s]\n"
     ]
    },
    {
     "name": "stdout",
     "output_type": "stream",
     "text": [
      "50% absolute error is 2.5096369981765747, q-error is 1.2780314087867737\n",
      "90% absolute error is 20.350534057617196, q-error is 2.711051964759827\n",
      "95% absolute error is 30.769090652465803, q-error is 3.931935691833495\n",
      "********Epoch 40, training loss: 8.85771788465671 || evaluation loss: ********\n"
     ]
    },
    {
     "name": "stderr",
     "output_type": "stream",
     "text": [
      "100%|███████████████████████████████████████████████████████████████████████████| 49/49 [00:03<00:00, 16.03it/s]\n"
     ]
    },
    {
     "name": "stdout",
     "output_type": "stream",
     "text": [
      "50% absolute error is 2.5083465576171875, q-error is 1.2653721570968628\n",
      "90% absolute error is 21.16943969726563, q-error is 2.6471670150756834\n",
      "95% absolute error is 34.96239776611326, q-error is 3.8581802964210477\n",
      "********Epoch 45, training loss: 8.745264650575626 || evaluation loss: ********\n"
     ]
    },
    {
     "name": "stderr",
     "output_type": "stream",
     "text": [
      "100%|███████████████████████████████████████████████████████████████████████████| 49/49 [00:03<00:00, 15.81it/s]\n"
     ]
    },
    {
     "name": "stdout",
     "output_type": "stream",
     "text": [
      "50% absolute error is 2.4219753742218018, q-error is 1.2612914443016052\n",
      "90% absolute error is 17.671965026855474, q-error is 2.741401696205139\n",
      "95% absolute error is 27.303668594360342, q-error is 4.07609996795654\n",
      "********Epoch 50, training loss: 9.781890782866723 || evaluation loss: ********\n"
     ]
    },
    {
     "name": "stderr",
     "output_type": "stream",
     "text": [
      "100%|███████████████████████████████████████████████████████████████████████████| 49/49 [00:03<00:00, 15.93it/s]\n"
     ]
    },
    {
     "name": "stdout",
     "output_type": "stream",
     "text": [
      "50% absolute error is 2.4877915382385254, q-error is 1.2653420567512512\n",
      "90% absolute error is 17.763660621643073, q-error is 2.8797595262527467\n",
      "95% absolute error is 27.573642921447735, q-error is 4.540395474433899\n",
      "********Epoch 55, training loss: 4.326355923597629 || evaluation loss: ********\n"
     ]
    },
    {
     "name": "stderr",
     "output_type": "stream",
     "text": [
      "100%|███████████████████████████████████████████████████████████████████████████| 49/49 [00:03<00:00, 16.01it/s]\n"
     ]
    },
    {
     "name": "stdout",
     "output_type": "stream",
     "text": [
      "50% absolute error is 2.4543501138687134, q-error is 1.2719324827194214\n",
      "90% absolute error is 18.662913894653325, q-error is 2.803404641151429\n",
      "95% absolute error is 29.072222518920892, q-error is 4.337579941749571\n",
      "********Epoch 60, training loss: 4.284222896779195 || evaluation loss: ********\n"
     ]
    },
    {
     "name": "stderr",
     "output_type": "stream",
     "text": [
      "100%|███████████████████████████████████████████████████████████████████████████| 49/49 [00:03<00:00, 15.91it/s]\n"
     ]
    },
    {
     "name": "stdout",
     "output_type": "stream",
     "text": [
      "50% absolute error is 2.3548994064331055, q-error is 1.2629745602607727\n",
      "90% absolute error is 17.688502502441406, q-error is 2.7553834915161133\n",
      "95% absolute error is 27.797548675537094, q-error is 3.9333789229393\n",
      "********Epoch 65, training loss: 8.669094446034004 || evaluation loss: ********\n"
     ]
    },
    {
     "name": "stderr",
     "output_type": "stream",
     "text": [
      "100%|███████████████████████████████████████████████████████████████████████████| 49/49 [00:03<00:00, 15.92it/s]\n"
     ]
    },
    {
     "name": "stdout",
     "output_type": "stream",
     "text": [
      "50% absolute error is 2.391947388648987, q-error is 1.2602429389953613\n",
      "90% absolute error is 17.439052963256838, q-error is 2.723058104515076\n",
      "95% absolute error is 27.66320533752439, q-error is 4.170677065849303\n",
      "********Epoch 70, training loss: 15.436853009118483 || evaluation loss: ********\n"
     ]
    },
    {
     "name": "stderr",
     "output_type": "stream",
     "text": [
      "100%|███████████████████████████████████████████████████████████████████████████| 49/49 [00:02<00:00, 16.80it/s]\n"
     ]
    },
    {
     "name": "stdout",
     "output_type": "stream",
     "text": [
      "50% absolute error is 2.5813673734664917, q-error is 1.2644597291946411\n",
      "90% absolute error is 19.44078750610352, q-error is 2.6853895187377943\n",
      "95% absolute error is 29.514906120300274, q-error is 3.995923268795012\n"
     ]
    },
    {
     "name": "stderr",
     "output_type": "stream",
     "text": [
      "[E thread_pool.cpp:130] Exception in thread pool task: mutex lock failed: Invalid argument\n",
      "[E thread_pool.cpp:130] Exception in thread pool task: mutex lock failed: Invalid argument\n"
     ]
    },
    {
     "ename": "KeyboardInterrupt",
     "evalue": "",
     "output_type": "error",
     "traceback": [
      "\u001b[0;31m---------------------------------------------------------------------------\u001b[0m",
      "\u001b[0;31mKeyboardInterrupt\u001b[0m                         Traceback (most recent call last)",
      "Cell \u001b[0;32mIn[60], line 1\u001b[0m\n\u001b[0;32m----> 1\u001b[0m rnn\u001b[38;5;241m.\u001b[39mtrain(train_trace_df, eval_trace_df, lr\u001b[38;5;241m=\u001b[39m\u001b[38;5;241m0.001\u001b[39m, loss_function\u001b[38;5;241m=\u001b[39m\u001b[38;5;124m\"\u001b[39m\u001b[38;5;124mq_loss\u001b[39m\u001b[38;5;124m\"\u001b[39m, val_on_test\u001b[38;5;241m=\u001b[39m\u001b[38;5;28;01mTrue\u001b[39;00m)\n",
      "File \u001b[0;32m~/Desktop/research/perf_prediction/exploration/debug/../models/concurrency/complex_models.py:248\u001b[0m, in \u001b[0;36mConcurrentRNN.train\u001b[0;34m(self, df, test_df, lr, weight_decay, epochs, loss_function, report_every, val_on_test)\u001b[0m\n\u001b[1;32m    246\u001b[0m \u001b[38;5;28;01melse\u001b[39;00m:\n\u001b[1;32m    247\u001b[0m     \u001b[38;5;28;01massert\u001b[39;00m \u001b[38;5;28;01mFalse\u001b[39;00m, \u001b[38;5;124mf\u001b[39m\u001b[38;5;124m\"\u001b[39m\u001b[38;5;124mloss function \u001b[39m\u001b[38;5;132;01m{\u001b[39;00m\u001b[38;5;28mself\u001b[39m\u001b[38;5;241m.\u001b[39mloss_func\u001b[38;5;132;01m}\u001b[39;00m\u001b[38;5;124m is unrecognized\u001b[39m\u001b[38;5;124m\"\u001b[39m\n\u001b[0;32m--> 248\u001b[0m loss\u001b[38;5;241m.\u001b[39mbackward()\n\u001b[1;32m    249\u001b[0m nn\u001b[38;5;241m.\u001b[39mutils\u001b[38;5;241m.\u001b[39mclip_grad_norm_(\u001b[38;5;28mself\u001b[39m\u001b[38;5;241m.\u001b[39mmodel\u001b[38;5;241m.\u001b[39mparameters(), \u001b[38;5;241m2\u001b[39m)\n\u001b[1;32m    250\u001b[0m optimizer\u001b[38;5;241m.\u001b[39mstep()\n",
      "File \u001b[0;32m~/miniconda3/envs/exploration/lib/python3.11/site-packages/torch/_tensor.py:522\u001b[0m, in \u001b[0;36mTensor.backward\u001b[0;34m(self, gradient, retain_graph, create_graph, inputs)\u001b[0m\n\u001b[1;32m    512\u001b[0m \u001b[38;5;28;01mif\u001b[39;00m has_torch_function_unary(\u001b[38;5;28mself\u001b[39m):\n\u001b[1;32m    513\u001b[0m     \u001b[38;5;28;01mreturn\u001b[39;00m handle_torch_function(\n\u001b[1;32m    514\u001b[0m         Tensor\u001b[38;5;241m.\u001b[39mbackward,\n\u001b[1;32m    515\u001b[0m         (\u001b[38;5;28mself\u001b[39m,),\n\u001b[0;32m   (...)\u001b[0m\n\u001b[1;32m    520\u001b[0m         inputs\u001b[38;5;241m=\u001b[39minputs,\n\u001b[1;32m    521\u001b[0m     )\n\u001b[0;32m--> 522\u001b[0m torch\u001b[38;5;241m.\u001b[39mautograd\u001b[38;5;241m.\u001b[39mbackward(\n\u001b[1;32m    523\u001b[0m     \u001b[38;5;28mself\u001b[39m, gradient, retain_graph, create_graph, inputs\u001b[38;5;241m=\u001b[39minputs\n\u001b[1;32m    524\u001b[0m )\n",
      "File \u001b[0;32m~/miniconda3/envs/exploration/lib/python3.11/site-packages/torch/autograd/__init__.py:266\u001b[0m, in \u001b[0;36mbackward\u001b[0;34m(tensors, grad_tensors, retain_graph, create_graph, grad_variables, inputs)\u001b[0m\n\u001b[1;32m    261\u001b[0m     retain_graph \u001b[38;5;241m=\u001b[39m create_graph\n\u001b[1;32m    263\u001b[0m \u001b[38;5;66;03m# The reason we repeat the same comment below is that\u001b[39;00m\n\u001b[1;32m    264\u001b[0m \u001b[38;5;66;03m# some Python versions print out the first line of a multi-line function\u001b[39;00m\n\u001b[1;32m    265\u001b[0m \u001b[38;5;66;03m# calls in the traceback and some print out the last line\u001b[39;00m\n\u001b[0;32m--> 266\u001b[0m Variable\u001b[38;5;241m.\u001b[39m_execution_engine\u001b[38;5;241m.\u001b[39mrun_backward(  \u001b[38;5;66;03m# Calls into the C++ engine to run the backward pass\u001b[39;00m\n\u001b[1;32m    267\u001b[0m     tensors,\n\u001b[1;32m    268\u001b[0m     grad_tensors_,\n\u001b[1;32m    269\u001b[0m     retain_graph,\n\u001b[1;32m    270\u001b[0m     create_graph,\n\u001b[1;32m    271\u001b[0m     inputs,\n\u001b[1;32m    272\u001b[0m     allow_unreachable\u001b[38;5;241m=\u001b[39m\u001b[38;5;28;01mTrue\u001b[39;00m,\n\u001b[1;32m    273\u001b[0m     accumulate_grad\u001b[38;5;241m=\u001b[39m\u001b[38;5;28;01mTrue\u001b[39;00m,\n\u001b[1;32m    274\u001b[0m )\n",
      "\u001b[0;31mKeyboardInterrupt\u001b[0m: "
     ]
    }
   ],
   "source": [
    "rnn.train(train_trace_df, eval_trace_df, lr=0.001, loss_function=\"q_loss\", val_on_test=True)"
   ]
  },
  {
   "cell_type": "code",
   "execution_count": 53,
   "id": "36d13720-40ed-4db1-b429-f927431f150d",
   "metadata": {},
   "outputs": [],
   "source": [
    "rnn.save_model(\"checkpoints\")"
   ]
  },
  {
   "cell_type": "code",
   "execution_count": 57,
   "id": "675f6a74-c258-457b-9d95-a4ef20ebae6b",
   "metadata": {},
   "outputs": [],
   "source": [
    "rnn2 = ConcurrentRNN(ss, \n",
    "                     \"postgres\",\n",
    "                    input_size=len(ss.all_feature[0]) * 2 + 7,\n",
    "                    embedding_dim=128,\n",
    "                    hidden_size=256,\n",
    "                    num_layers=2,\n",
    "                    loss_function=\"q_loss\",\n",
    "                    last_output=True,\n",
    "                    use_separation=False\n",
    "                   )\n",
    "rnn2.load_model(\"checkpoints\")"
   ]
  },
  {
   "cell_type": "code",
   "execution_count": 54,
   "id": "d501984f-b93a-46c3-98ec-f3ef05f5e773",
   "metadata": {},
   "outputs": [
    {
     "name": "stderr",
     "output_type": "stream",
     "text": [
      "100%|███████████████████████████████████████████████████████████████████████████| 49/49 [00:02<00:00, 16.61it/s]"
     ]
    },
    {
     "name": "stdout",
     "output_type": "stream",
     "text": [
      "50% absolute error is 2.5743322372436523, q-error is 1.2749279141426086\n",
      "90% absolute error is 18.791236114501956, q-error is 2.882374620437622\n",
      "95% absolute error is 28.05649528503415, q-error is 4.55170130729675\n"
     ]
    },
    {
     "name": "stderr",
     "output_type": "stream",
     "text": [
      "\n"
     ]
    }
   ],
   "source": [
    "preds, labels = rnn.predict(eval_trace_df, use_pre_info_only=False)"
   ]
  },
  {
   "cell_type": "code",
   "execution_count": 61,
   "id": "552dcc2e-1730-4a09-af9c-042761655a4f",
   "metadata": {},
   "outputs": [
    {
     "name": "stderr",
     "output_type": "stream",
     "text": [
      "100%|███████████████████████████████████████████████████████████████████████████| 42/42 [00:01<00:00, 23.03it/s]"
     ]
    },
    {
     "name": "stdout",
     "output_type": "stream",
     "text": [
      "50% absolute error is 1.6386100053787231, q-error is 1.2225273251533508\n",
      "90% absolute error is 14.885701751708984, q-error is 2.4476436853408807\n",
      "95% absolute error is 23.693497276306143, q-error is 3.6519856929779038\n"
     ]
    },
    {
     "name": "stderr",
     "output_type": "stream",
     "text": [
      "\n"
     ]
    }
   ],
   "source": [
    "concurrency_df = create_concurrency_dataset(all_trace[0], engine=None, pre_exec_interval=200)\n",
    "preds, labels = rnn2.predict(concurrency_df, use_pre_info_only=False)"
   ]
  },
  {
   "cell_type": "code",
   "execution_count": 58,
   "id": "01a108f3-d926-4d3d-8a00-7c24429b926e",
   "metadata": {},
   "outputs": [
    {
     "name": "stderr",
     "output_type": "stream",
     "text": [
      "100%|███████████████████████████████████████████████████████████████████████████| 49/49 [00:02<00:00, 16.33it/s]"
     ]
    },
    {
     "name": "stdout",
     "output_type": "stream",
     "text": [
      "50% absolute error is 2.5743322372436523, q-error is 1.2749279141426086\n",
      "90% absolute error is 18.791236114501956, q-error is 2.882374620437622\n",
      "95% absolute error is 28.05649528503415, q-error is 4.55170130729675\n"
     ]
    },
    {
     "name": "stderr",
     "output_type": "stream",
     "text": [
      "\n"
     ]
    }
   ],
   "source": [
    "preds2, labels2 = rnn2.predict(eval_trace_df, use_pre_info_only=False)"
   ]
  },
  {
   "cell_type": "code",
   "execution_count": 48,
   "id": "e32172ff-3345-4654-8d0e-05c061e1f90d",
   "metadata": {},
   "outputs": [
    {
     "name": "stdout",
     "output_type": "stream",
     "text": [
      "111\n"
     ]
    },
    {
     "data": {
      "text/plain": [
       "array([[  2.8291447,   7.1109896,  79.540054 ],\n",
       "       [  2.8653407,   2.3412442,   3.416112 ],\n",
       "       [  2.934177 ,   4.0760264,   4.0271263],\n",
       "       [  2.9910045,   3.7841144,   3.8717294],\n",
       "       [  3.0511217,   5.0034904,   3.1730235],\n",
       "       [  3.148857 ,  18.968218 ,   3.1449356],\n",
       "       [  3.170916 ,   6.0808353, 106.32712  ],\n",
       "       [  3.183551 ,   6.5285897,   4.7487164],\n",
       "       [  3.2096725,  33.221123 ,   2.8220966],\n",
       "       [  3.2253332,   5.26631  ,   3.3115742],\n",
       "       [  3.246746 ,   4.4229527,   5.8701944],\n",
       "       [  3.2892797,   5.2571554,   7.374345 ],\n",
       "       [  3.2927618,  24.601357 ,   2.9005537],\n",
       "       [  3.3001895,   3.752159 ,   4.9782295],\n",
       "       [  3.3236983,   3.4375095,   4.804597 ],\n",
       "       [  3.3453178,   4.3794765,   3.0326128],\n",
       "       [  3.4195132,   5.3936315,   8.1688   ],\n",
       "       [  3.4844189,   6.0924673,   4.3422008],\n",
       "       [  3.5340056,   4.0386086,   4.554105 ],\n",
       "       [  3.5757537,   8.585522 ,  32.302185 ],\n",
       "       [  3.5846162,   6.08425  ,   5.5040455],\n",
       "       [  3.6723676,  13.058262 ,   4.4137497],\n",
       "       [  3.6740046,   6.390278 ,  10.959228 ],\n",
       "       [  3.7179017,   4.587721 ,   3.1945686],\n",
       "       [  3.739544 ,   3.026689 ,  65.502625 ],\n",
       "       [  3.748302 ,   8.284145 ,   3.8495133],\n",
       "       [  3.76381  ,   5.2861986,   9.382689 ],\n",
       "       [  3.7836106,   6.1254654,   3.5009491],\n",
       "       [  3.8001893,   6.0108175,   3.156432 ],\n",
       "       [  3.810338 ,  15.016495 ,   3.1365895],\n",
       "       [  3.8158474,   6.999185 ,   6.142839 ],\n",
       "       [  3.824641 ,   8.950714 ,   2.7988534],\n",
       "       [  3.8372312,   5.130208 ,   3.0778756],\n",
       "       [  3.8394594,   9.309399 ,   4.3429656],\n",
       "       [  3.86706  ,   4.9894953,   6.6521206],\n",
       "       [  3.9607096,  16.122868 ,  10.00433  ],\n",
       "       [  4.0062265,   4.0855594,   3.694202 ],\n",
       "       [  4.0135145,   4.1077576,   5.0755854],\n",
       "       [  4.1252832,  23.526276 ,   4.3475227],\n",
       "       [  4.1475725,  10.051231 ,  12.684139 ],\n",
       "       [  4.219349 ,   4.3938084,  93.3347   ],\n",
       "       [  4.25511  ,   5.966145 ,   2.9351418],\n",
       "       [  4.2551966,   8.201855 ,   4.4817905],\n",
       "       [  4.258541 ,   7.1383524,   8.535176 ],\n",
       "       [  4.284114 ,   4.197471 ,   3.5786994],\n",
       "       [  4.4378963,   4.5245094,  17.504898 ],\n",
       "       [  4.4511094,   6.371435 ,   4.737131 ],\n",
       "       [  4.451147 ,  26.191078 ,   3.5229752],\n",
       "       [  4.5003867,   4.662319 ,   3.1243227],\n",
       "       [  4.5128264,   7.430093 ,  12.0486765],\n",
       "       [  4.5133247,   6.1158752,   3.6142755],\n",
       "       [  4.52029  ,  17.495548 ,   4.6847105],\n",
       "       [  4.5571575,  19.627636 ,   3.0832424],\n",
       "       [  4.6179037,  28.627352 ,   5.219985 ],\n",
       "       [  4.7710395,   6.7100043,   6.0121107],\n",
       "       [  4.7810616,   6.6743965,   4.395811 ],\n",
       "       [  4.8880267,  23.846888 ,  13.968113 ],\n",
       "       [  4.9684596,  28.645138 ,   3.0892303],\n",
       "       [  5.0998006,  16.464596 ,   3.8665023],\n",
       "       [  5.119174 ,   6.44395  ,   4.762555 ],\n",
       "       [  5.266756 ,   8.834681 ,   8.742365 ],\n",
       "       [  5.4256325,   8.366909 ,   3.2603302],\n",
       "       [  5.4594727,  49.175293 ,   2.9278975],\n",
       "       [  5.538513 ,   6.5264716,  29.608906 ],\n",
       "       [  5.647936 ,  19.117401 ,   6.6192923],\n",
       "       [  5.8481264,  18.861172 ,   3.4125042],\n",
       "       [  5.8875375,  21.1101   ,   8.532667 ],\n",
       "       [  5.897351 ,   7.085473 ,   4.4159193],\n",
       "       [  6.186084 ,  43.403126 ,  82.04062  ],\n",
       "       [  6.296743 ,  22.07077  ,   2.9481936],\n",
       "       [  6.4478965,   4.9488583,   6.5178614],\n",
       "       [  7.087536 ,  43.389706 ,   3.1579273],\n",
       "       [  7.245716 ,  31.729816 ,  15.797157 ],\n",
       "       [  7.4005256,  46.26137  ,   4.464698 ],\n",
       "       [  7.4006977,  57.41286  ,  16.330986 ],\n",
       "       [  8.10559  ,  21.527777 ,   3.108943 ],\n",
       "       [  9.016771 ,  48.65842  ,   3.0449293],\n",
       "       [ 10.081609 ,  43.42908  ,   3.99297  ],\n",
       "       [ 10.434712 ,  54.100525 ,   4.109809 ],\n",
       "       [ 11.579384 ,  58.746452 ,   5.7353344],\n",
       "       [ 11.707863 ,  52.5819   ,   5.0990095],\n",
       "       [ 11.891806 ,  54.423294 ,   3.0501764],\n",
       "       [ 12.060423 ,  68.38123  ,   3.0429204],\n",
       "       [ 12.140185 ,  56.299446 ,   3.4839592],\n",
       "       [ 14.581827 ,  68.64412  ,   3.154312 ],\n",
       "       [ 15.514104 ,  58.265327 ,   3.0375185],\n",
       "       [ 16.143665 ,  74.31194  ,   4.471081 ],\n",
       "       [ 16.71192  ,  46.980343 ,   3.24868  ],\n",
       "       [ 18.010817 ,  79.93524  , 156.2015   ],\n",
       "       [ 18.681503 ,  63.226425 ,   3.2841468],\n",
       "       [ 21.632317 ,  66.17666  ,   3.5257373],\n",
       "       [ 25.837852 ,  90.290474 ,   4.47873  ],\n",
       "       [ 29.414171 ,  46.467804 ,   8.695362 ],\n",
       "       [ 29.44363  ,  88.69565  ,   4.0451365],\n",
       "       [ 30.969797 ,  92.15169  ,   3.1525   ],\n",
       "       [ 35.2006   ,  88.47537  ,   3.157771 ],\n",
       "       [ 35.6575   ,  96.80568  ,   3.0550919],\n",
       "       [ 48.06617  , 134.56863  ,   3.2762587],\n",
       "       [ 48.70193  ,  79.554825 ,   3.3944745],\n",
       "       [ 51.078716 ,  79.06174  ,  24.815355 ],\n",
       "       [ 53.975838 ,  91.97298  ,   4.0343885],\n",
       "       [ 61.37641  , 131.68925  ,   3.3756545],\n",
       "       [ 62.458084 , 144.33043  ,   4.6056075],\n",
       "       [ 62.69465  , 128.28177  ,   3.1737597],\n",
       "       [ 67.804756 , 125.985954 ,   3.1840034],\n",
       "       [ 71.09089  , 132.54678  ,   4.8590245],\n",
       "       [ 80.47693  , 222.19661  ,   3.1196737],\n",
       "       [ 84.325424 , 136.6756   ,   3.0886698],\n",
       "       [ 95.90971  , 221.40201  ,  50.055832 ],\n",
       "       [100.40691  , 196.56259  ,   3.1079857],\n",
       "       [108.708786 , 169.00949  ,   3.2635221]], dtype=float32)"
      ]
     },
     "execution_count": 48,
     "metadata": {},
     "output_type": "execute_result"
    }
   ],
   "source": [
    "i = 210\n",
    "idx = np.argsort(preds2[i])\n",
    "print(len(idx))\n",
    "np.stack((np.asarray(preds2[i])[idx], np.asarray(preds[i])[idx], np.asarray(labels2[i])[idx]), axis=1)"
   ]
  },
  {
   "cell_type": "code",
   "execution_count": 8,
   "id": "2034f6ea-6f5d-494f-bd10-280b21f49717",
   "metadata": {},
   "outputs": [
    {
     "ename": "NameError",
     "evalue": "name 'preds2' is not defined",
     "output_type": "error",
     "traceback": [
      "\u001b[0;31m---------------------------------------------------------------------------\u001b[0m",
      "\u001b[0;31mNameError\u001b[0m                                 Traceback (most recent call last)",
      "Cell \u001b[0;32mIn[8], line 2\u001b[0m\n\u001b[1;32m      1\u001b[0m i \u001b[38;5;241m=\u001b[39m \u001b[38;5;241m210\u001b[39m\n\u001b[0;32m----> 2\u001b[0m idx \u001b[38;5;241m=\u001b[39m np\u001b[38;5;241m.\u001b[39margsort(preds2[i])\n\u001b[1;32m      3\u001b[0m \u001b[38;5;28mprint\u001b[39m(\u001b[38;5;28mlen\u001b[39m(idx))\n\u001b[1;32m      4\u001b[0m np\u001b[38;5;241m.\u001b[39mstack((np\u001b[38;5;241m.\u001b[39masarray(preds[i])[idx], np\u001b[38;5;241m.\u001b[39masarray(preds2[i])[idx], np\u001b[38;5;241m.\u001b[39masarray(labels2[i])[idx]), axis\u001b[38;5;241m=\u001b[39m\u001b[38;5;241m1\u001b[39m)\n",
      "\u001b[0;31mNameError\u001b[0m: name 'preds2' is not defined"
     ]
    }
   ],
   "source": [
    "i = 210\n",
    "idx = np.argsort(preds2[i])\n",
    "print(len(idx))\n",
    "np.stack((np.asarray(preds[i])[idx], np.asarray(preds2[i])[idx], np.asarray(labels2[i])[idx]), axis=1)"
   ]
  },
  {
   "cell_type": "code",
   "execution_count": 11,
   "id": "59fce57d-129d-49ee-8b96-f3661755d5af",
   "metadata": {},
   "outputs": [
    {
     "name": "stdout",
     "output_type": "stream",
     "text": [
      "7\n"
     ]
    },
    {
     "data": {
      "text/plain": [
       "array([[  9.086283,  10.558472],\n",
       "       [  9.326768,  10.257236],\n",
       "       [ 16.062849,  39.89623 ],\n",
       "       [ 20.419281,  69.41913 ],\n",
       "       [ 35.720085,  52.07332 ],\n",
       "       [ 44.310814, 110.97227 ],\n",
       "       [ 50.8906  ,  45.67449 ]], dtype=float32)"
      ]
     },
     "execution_count": 11,
     "metadata": {},
     "output_type": "execute_result"
    }
   ],
   "source": [
    "i = 2\n",
    "idx = np.argsort(preds[i])\n",
    "print(len(idx))\n",
    "np.stack((np.asarray(preds[i])[idx], np.asarray(labels[i])[idx]), axis=1)"
   ]
  },
  {
   "cell_type": "code",
   "execution_count": 11,
   "id": "4bcf40d5-79e6-4c93-9b2d-0e0c9318fd9f",
   "metadata": {},
   "outputs": [],
   "source": [
    "with open(directory + \"postgres_mixed.sql\", \"r\") as f:\n",
    "    sql = f.readlines()"
   ]
  },
  {
   "cell_type": "code",
   "execution_count": 13,
   "id": "954961b2-b952-48e2-8933-01cfae6d262d",
   "metadata": {},
   "outputs": [],
   "source": [
    "plans = load_json(parsed_queries_path, namespace=False)"
   ]
  },
  {
   "cell_type": "code",
   "execution_count": 16,
   "id": "fff1961c-a0d3-4865-b156-db8079e11372",
   "metadata": {},
   "outputs": [],
   "source": [
    "aurora_sql = plans[\"sql_queries\"]"
   ]
  },
  {
   "cell_type": "code",
   "execution_count": 15,
   "id": "9ae9feba-77fc-4f74-8703-257f3fde3d09",
   "metadata": {},
   "outputs": [
    {
     "data": {
      "text/plain": [
       "dict_keys(['parsed_plans', 'parsed_queries', 'sql_queries', 'database_stats', 'run_kwargs', 'skipped', 'blocks_accessed'])"
      ]
     },
     "execution_count": 15,
     "metadata": {},
     "output_type": "execute_result"
    }
   ],
   "source": [
    "plans.keys()"
   ]
  },
  {
   "cell_type": "code",
   "execution_count": 21,
   "id": "79a3f4e7-b1d7-46c6-9a99-f484d16f2b44",
   "metadata": {},
   "outputs": [],
   "source": [
    "all_index = []\n",
    "for q in sql:\n",
    "    i = aurora_sql.index(q.strip())\n",
    "    all_index.append(i)"
   ]
  },
  {
   "cell_type": "code",
   "execution_count": 22,
   "id": "121e9ba1-581b-47f2-b69e-5ef86b327a99",
   "metadata": {},
   "outputs": [
    {
     "data": {
      "text/plain": [
       "[0,\n",
       " 1,\n",
       " 2,\n",
       " 3,\n",
       " 4,\n",
       " 5,\n",
       " 6,\n",
       " 7,\n",
       " 8,\n",
       " 9,\n",
       " 10,\n",
       " 11,\n",
       " 12,\n",
       " 13,\n",
       " 14,\n",
       " 15,\n",
       " 16,\n",
       " 17,\n",
       " 18,\n",
       " 19,\n",
       " 20,\n",
       " 21,\n",
       " 22,\n",
       " 23,\n",
       " 24,\n",
       " 25,\n",
       " 26,\n",
       " 27,\n",
       " 28,\n",
       " 29,\n",
       " 30,\n",
       " 31,\n",
       " 32,\n",
       " 33,\n",
       " 34,\n",
       " 35,\n",
       " 36,\n",
       " 37,\n",
       " 38,\n",
       " 39,\n",
       " 40,\n",
       " 41,\n",
       " 42,\n",
       " 43,\n",
       " 44,\n",
       " 45,\n",
       " 46,\n",
       " 47,\n",
       " 48,\n",
       " 49,\n",
       " 50,\n",
       " 51,\n",
       " 52,\n",
       " 53,\n",
       " 54,\n",
       " 55,\n",
       " 56,\n",
       " 57,\n",
       " 58,\n",
       " 59,\n",
       " 60,\n",
       " 61,\n",
       " 62,\n",
       " 63,\n",
       " 64,\n",
       " 65,\n",
       " 66,\n",
       " 67,\n",
       " 68,\n",
       " 69,\n",
       " 70,\n",
       " 71,\n",
       " 72,\n",
       " 73,\n",
       " 74,\n",
       " 75,\n",
       " 76,\n",
       " 77,\n",
       " 78,\n",
       " 79,\n",
       " 80,\n",
       " 81,\n",
       " 82,\n",
       " 84,\n",
       " 85,\n",
       " 86,\n",
       " 87,\n",
       " 88,\n",
       " 89,\n",
       " 90,\n",
       " 92,\n",
       " 93,\n",
       " 94,\n",
       " 95,\n",
       " 96,\n",
       " 97,\n",
       " 98,\n",
       " 99,\n",
       " 100,\n",
       " 101,\n",
       " 102,\n",
       " 103,\n",
       " 104,\n",
       " 105,\n",
       " 106,\n",
       " 107,\n",
       " 108,\n",
       " 109,\n",
       " 110,\n",
       " 111,\n",
       " 112,\n",
       " 113,\n",
       " 114,\n",
       " 115,\n",
       " 116,\n",
       " 117,\n",
       " 118,\n",
       " 119,\n",
       " 120,\n",
       " 121,\n",
       " 122,\n",
       " 123,\n",
       " 124,\n",
       " 125,\n",
       " 126,\n",
       " 127,\n",
       " 128,\n",
       " 129,\n",
       " 130,\n",
       " 131,\n",
       " 132,\n",
       " 133,\n",
       " 134,\n",
       " 135,\n",
       " 136,\n",
       " 137,\n",
       " 138,\n",
       " 139,\n",
       " 140,\n",
       " 141,\n",
       " 142,\n",
       " 143,\n",
       " 144,\n",
       " 145,\n",
       " 146,\n",
       " 147,\n",
       " 148,\n",
       " 149,\n",
       " 150,\n",
       " 151,\n",
       " 152,\n",
       " 153,\n",
       " 154,\n",
       " 155,\n",
       " 156,\n",
       " 157,\n",
       " 158,\n",
       " 159,\n",
       " 160,\n",
       " 161,\n",
       " 162,\n",
       " 163,\n",
       " 164,\n",
       " 165,\n",
       " 166,\n",
       " 167,\n",
       " 168,\n",
       " 169,\n",
       " 170,\n",
       " 171,\n",
       " 172,\n",
       " 173,\n",
       " 174,\n",
       " 175,\n",
       " 176,\n",
       " 177,\n",
       " 178,\n",
       " 179,\n",
       " 180,\n",
       " 181,\n",
       " 182,\n",
       " 183,\n",
       " 184,\n",
       " 185,\n",
       " 186,\n",
       " 187,\n",
       " 188,\n",
       " 189,\n",
       " 190,\n",
       " 191,\n",
       " 192,\n",
       " 193,\n",
       " 194,\n",
       " 195,\n",
       " 196,\n",
       " 197,\n",
       " 198,\n",
       " 199,\n",
       " 200,\n",
       " 201,\n",
       " 202,\n",
       " 203,\n",
       " 204,\n",
       " 205,\n",
       " 206,\n",
       " 207,\n",
       " 208,\n",
       " 209,\n",
       " 210,\n",
       " 211,\n",
       " 212,\n",
       " 213,\n",
       " 214,\n",
       " 215,\n",
       " 216,\n",
       " 217,\n",
       " 218,\n",
       " 219,\n",
       " 220,\n",
       " 221,\n",
       " 222,\n",
       " 223,\n",
       " 224,\n",
       " 201,\n",
       " 202,\n",
       " 227,\n",
       " 204,\n",
       " 205,\n",
       " 206,\n",
       " 207,\n",
       " 232,\n",
       " 201,\n",
       " 202,\n",
       " 235,\n",
       " 204,\n",
       " 205,\n",
       " 206,\n",
       " 207]"
      ]
     },
     "execution_count": 22,
     "metadata": {},
     "output_type": "execute_result"
    }
   ],
   "source": [
    "all_index"
   ]
  },
  {
   "cell_type": "code",
   "execution_count": 23,
   "id": "5a8e527c-126a-46f7-8b6c-f6ca42ae54d7",
   "metadata": {},
   "outputs": [
    {
     "data": {
      "text/plain": [
       "'SELECT AVG(imdb_id), AVG(kind_id), AVG(production_year) FROM title WHERE id < 42000000;'"
      ]
     },
     "execution_count": 23,
     "metadata": {},
     "output_type": "execute_result"
    }
   ],
   "source": [
    "sql[-1]"
   ]
  },
  {
   "cell_type": "code",
   "execution_count": 25,
   "id": "ec8c3b3f-e1ec-4169-9db1-361d9b3ff6c4",
   "metadata": {},
   "outputs": [
    {
     "data": {
      "text/plain": [
       "'SELECT AVG(person_id), AVG(movie_id) FROM cast_info WHERE id < 25000000;\\n'"
      ]
     },
     "execution_count": 25,
     "metadata": {},
     "output_type": "execute_result"
    }
   ],
   "source": [
    "sql[206]"
   ]
  },
  {
   "cell_type": "code",
   "execution_count": 26,
   "id": "5bc32338-ef5a-4bf7-8ea1-17268fd52a2d",
   "metadata": {},
   "outputs": [
    {
     "data": {
      "text/plain": [
       "'SELECT AVG(imdb_id), AVG(kind_id), AVG(production_year) FROM title WHERE id < 42000000;'"
      ]
     },
     "execution_count": 26,
     "metadata": {},
     "output_type": "execute_result"
    }
   ],
   "source": [
    "aurora_sql[207]"
   ]
  },
  {
   "cell_type": "code",
   "execution_count": 28,
   "id": "3e69efca-d835-46a9-94ea-02a7dd75b1a1",
   "metadata": {},
   "outputs": [
    {
     "data": {
      "text/plain": [
       "['SELECT AVG(movie_id), AVG(info_type_id) FROM movie_info WHERE id < 32000000;',\n",
       " 'SELECT AVG(movie_id), AVG(keyword_id) FROM movie_keyword WHERE id < 42000000;',\n",
       " 'SELECT AVG(imdb_id) FROM name WHERE id < 42000000;',\n",
       " 'SELECT AVG(person_id) FROM person_info WHERE id < 42000000;',\n",
       " 'SELECT AVG(imdb_id), AVG(kind_id), AVG(production_year) FROM title WHERE id < 42000000;']"
      ]
     },
     "execution_count": 28,
     "metadata": {},
     "output_type": "execute_result"
    }
   ],
   "source": [
    "aurora_sql[-5:]"
   ]
  },
  {
   "cell_type": "code",
   "execution_count": 29,
   "id": "eed69a8b-7c77-411d-91ba-97e5921f9283",
   "metadata": {},
   "outputs": [],
   "source": [
    "postgres_plans = copy.deepcopy(plans)"
   ]
  },
  {
   "cell_type": "code",
   "execution_count": 30,
   "id": "9622f919-1f3a-4887-abfd-ec7e72a74afc",
   "metadata": {},
   "outputs": [],
   "source": [
    "postgres_plans['parsed_plans'] = [plans['parsed_plans'][i] for i in all_index]\n",
    "postgres_plans['parsed_queries'] = [plans['parsed_queries'][i] for i in all_index]\n",
    "postgres_plans['sql_queries'] = sql\n"
   ]
  },
  {
   "cell_type": "code",
   "execution_count": 39,
   "id": "eb2cfb17-ce6b-4f7f-8bee-002f40d26126",
   "metadata": {},
   "outputs": [],
   "source": [
    "import json\n",
    "with open(\"/Users/ziniuw/Desktop/research/Data/AWS_trace/mixed_postgres/postgres_mixed_parsed_queries.json\", \"w\") as f:\n",
    "    json.dump(postgres_plans, f)"
   ]
  },
  {
   "cell_type": "code",
   "execution_count": null,
   "id": "c8511f05-a511-45f2-8973-0b6693d9e226",
   "metadata": {},
   "outputs": [],
   "source": []
  }
 ],
 "metadata": {
  "kernelspec": {
   "display_name": "Python 3 (ipykernel)",
   "language": "python",
   "name": "python3"
  },
  "language_info": {
   "codemirror_mode": {
    "name": "ipython",
    "version": 3
   },
   "file_extension": ".py",
   "mimetype": "text/x-python",
   "name": "python",
   "nbconvert_exporter": "python",
   "pygments_lexer": "ipython3",
   "version": "3.11.7"
  }
 },
 "nbformat": 4,
 "nbformat_minor": 5
}
