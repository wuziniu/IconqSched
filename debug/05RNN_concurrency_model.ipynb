{
 "cells": [
  {
   "cell_type": "code",
   "execution_count": 1,
   "id": "5fc1cebb-d1f4-4555-8227-a9d6f9b0be73",
   "metadata": {},
   "outputs": [],
   "source": [
    "import pandas as pd\n",
    "import numpy as np\n",
    "import copy\n",
    "import sys\n",
    "import os\n",
    "sys.path.append(\"../\")\n",
    "from parser.utils import load_json, dfs_cardinality, estimate_scan_in_mb\n",
    "from models.feature.single_xgboost_feature import find_top_k_operators, featurize_one_plan, get_top_k_table_by_size\n",
    "from utils.load_brad_trace import load_trace, create_concurrency_dataset, load_trace_all_version\n",
    "from models.concurrency.utils import pre_info_train_test_seperation\n",
    "import torch\n",
    "from torch.nn.utils.rnn import pack_padded_sequence, pad_packed_sequence, pad_sequence\n",
    "from models.single.stage import SingleStage\n",
    "from models.concurrency.complex_models import ConcurrentRNN\n",
    "np.set_printoptions(suppress=True)"
   ]
  },
  {
   "cell_type": "code",
   "execution_count": 2,
   "id": "13593c0c-7d61-437f-9cec-ab7b22e2d1e0",
   "metadata": {},
   "outputs": [],
   "source": [
    "parsed_queries_path = \"/Users/ziniuw/Desktop/research/Data/AWS_trace/mixed_aurora/aurora_mixed_parsed_queries.json\"\n",
    "plans = load_json(parsed_queries_path, namespace=False)\n",
    "folder_name = \"mixed_aurora\"\n",
    "directory = f\"/Users/ziniuw/Desktop/research/Data/AWS_trace/{folder_name}/\"\n",
    "all_raw_trace, all_trace = load_trace_all_version(directory, 8, concat=True)\n",
    "all_concurrency_df = []\n",
    "for trace in all_trace:\n",
    "    concurrency_df = create_concurrency_dataset(trace, engine=None, pre_exec_interval=200)\n",
    "    all_concurrency_df.append(concurrency_df)\n",
    "concurrency_df = pd.concat(all_concurrency_df, ignore_index=True)"
   ]
  },
  {
   "cell_type": "code",
   "execution_count": 3,
   "id": "3f958b19-bc30-4fc3-88c7-f7bd45520438",
   "metadata": {},
   "outputs": [
    {
     "name": "stdout",
     "output_type": "stream",
     "text": [
      "28925 25561\n",
      "43967 10907\n"
     ]
    }
   ],
   "source": [
    "train_trace_df_sep, eval_trace_df_sep = pre_info_train_test_seperation(concurrency_df)\n",
    "print(len(train_trace_df_sep), len(eval_trace_df_sep))\n",
    "np.random.seed(0)\n",
    "train_idx = np.random.choice(len(concurrency_df), size=int(0.8 * len(concurrency_df)), replace=False)\n",
    "test_idx = [i for i in range(len(concurrency_df)) if i not in train_idx]\n",
    "train_trace_df = copy.deepcopy(concurrency_df.iloc[train_idx])\n",
    "eval_trace_df = concurrency_df.iloc[test_idx]\n",
    "eval_trace_df = copy.deepcopy(eval_trace_df[eval_trace_df['num_concurrent_queries'] > 0])\n",
    "print(len(train_trace_df), len(eval_trace_df))"
   ]
  },
  {
   "cell_type": "code",
   "execution_count": 4,
   "id": "e3cb7a34-bf48-4695-bcef-0c9414bb3d68",
   "metadata": {},
   "outputs": [
    {
     "name": "stdout",
     "output_type": "stream",
     "text": [
      "Top 20 operators contains 0.9650782102582758 total operators\n"
     ]
    }
   ],
   "source": [
    "ss = SingleStage(use_table_features=True, true_card=True)\n",
    "#df = ss.featurize_data(train_trace_df, parsed_queries_path)\n",
    "df = ss.featurize_data(concurrency_df, parsed_queries_path)\n",
    "ss.train(df)"
   ]
  },
  {
   "cell_type": "code",
   "execution_count": 35,
   "id": "eaf846e2-a582-475e-9b62-12dcf6537a42",
   "metadata": {},
   "outputs": [
    {
     "name": "stdout",
     "output_type": "stream",
     "text": [
      "********Epoch 0, training loss: 337.70144646463143 || evaluation loss: ********\n"
     ]
    },
    {
     "name": "stderr",
     "output_type": "stream",
     "text": [
      "100%|████████████████████████████████████████| 200/200 [00:01<00:00, 165.05it/s]\n"
     ]
    },
    {
     "name": "stdout",
     "output_type": "stream",
     "text": [
      "50% absolute error is 4.593544006347656, q-error is 4.391744136810303\n",
      "90% absolute error is 18.597309112548828, q-error is 36.16236877441406\n",
      "95% absolute error is 32.60484313964844, q-error is 67.83975219726562\n",
      "********Epoch 5, training loss: 58.69108995247995 || evaluation loss: ********\n"
     ]
    },
    {
     "name": "stderr",
     "output_type": "stream",
     "text": [
      "100%|████████████████████████████████████████| 200/200 [00:01<00:00, 162.93it/s]\n"
     ]
    },
    {
     "name": "stdout",
     "output_type": "stream",
     "text": [
      "50% absolute error is 3.923961877822876, q-error is 4.590317249298096\n",
      "90% absolute error is 50.619380950927734, q-error is 57.53612518310547\n",
      "95% absolute error is 75.27839660644531, q-error is 123.46634674072266\n",
      "********Epoch 10, training loss: 0.3143513170359409 || evaluation loss: ********\n"
     ]
    },
    {
     "name": "stderr",
     "output_type": "stream",
     "text": [
      "100%|████████████████████████████████████████| 200/200 [00:01<00:00, 155.77it/s]\n"
     ]
    },
    {
     "name": "stdout",
     "output_type": "stream",
     "text": [
      "50% absolute error is 3.3340954780578613, q-error is 4.250764846801758\n",
      "90% absolute error is 53.833805084228516, q-error is 57.83643341064453\n",
      "95% absolute error is 80.42715454101562, q-error is 126.45114135742188\n",
      "********Epoch 15, training loss: 5.969765420376727 || evaluation loss: ********\n"
     ]
    },
    {
     "name": "stderr",
     "output_type": "stream",
     "text": [
      "100%|████████████████████████████████████████| 200/200 [00:01<00:00, 159.43it/s]\n"
     ]
    },
    {
     "name": "stdout",
     "output_type": "stream",
     "text": [
      "50% absolute error is 4.407370090484619, q-error is 5.058323860168457\n",
      "90% absolute error is 72.85113525390625, q-error is 89.39173126220703\n",
      "95% absolute error is 105.0122299194336, q-error is 198.19198608398438\n",
      "********Epoch 20, training loss: 3.972442338160709 || evaluation loss: ********\n"
     ]
    },
    {
     "name": "stderr",
     "output_type": "stream",
     "text": [
      "100%|████████████████████████████████████████| 200/200 [00:01<00:00, 151.20it/s]\n"
     ]
    },
    {
     "name": "stdout",
     "output_type": "stream",
     "text": [
      "50% absolute error is 4.680905342102051, q-error is 4.940738201141357\n",
      "90% absolute error is 54.10494613647461, q-error is 71.5244369506836\n",
      "95% absolute error is 74.25991821289062, q-error is 151.1157684326172\n",
      "********Epoch 25, training loss: 5.502258432781802 || evaluation loss: ********\n"
     ]
    },
    {
     "name": "stderr",
     "output_type": "stream",
     "text": [
      "100%|████████████████████████████████████████| 200/200 [00:01<00:00, 159.42it/s]\n"
     ]
    },
    {
     "name": "stdout",
     "output_type": "stream",
     "text": [
      "50% absolute error is 6.388234615325928, q-error is 5.813934803009033\n",
      "90% absolute error is 98.21044921875, q-error is 124.02908325195312\n",
      "95% absolute error is 141.66085815429688, q-error is 300.59466552734375\n",
      "********Epoch 30, training loss: 3.753648357317511 || evaluation loss: ********\n"
     ]
    },
    {
     "name": "stderr",
     "output_type": "stream",
     "text": [
      "100%|████████████████████████████████████████| 200/200 [00:01<00:00, 152.85it/s]\n"
     ]
    },
    {
     "name": "stdout",
     "output_type": "stream",
     "text": [
      "50% absolute error is 8.424379348754883, q-error is 6.426890850067139\n",
      "90% absolute error is 81.36937713623047, q-error is 117.12248229980469\n",
      "95% absolute error is 112.57266235351562, q-error is 266.6421203613281\n",
      "********Epoch 35, training loss: 0.2558711291150709 || evaluation loss: ********\n"
     ]
    },
    {
     "name": "stderr",
     "output_type": "stream",
     "text": [
      "100%|████████████████████████████████████████| 200/200 [00:01<00:00, 153.93it/s]\n"
     ]
    },
    {
     "name": "stdout",
     "output_type": "stream",
     "text": [
      "50% absolute error is 7.494382858276367, q-error is 6.581386566162109\n",
      "90% absolute error is 83.75019836425781, q-error is 115.27686309814453\n",
      "95% absolute error is 111.36576843261719, q-error is 255.39263916015625\n",
      "********Epoch 40, training loss: 3.7904731024023706 || evaluation loss: ********\n"
     ]
    },
    {
     "name": "stderr",
     "output_type": "stream",
     "text": [
      "100%|████████████████████████████████████████| 200/200 [00:01<00:00, 154.78it/s]\n"
     ]
    },
    {
     "name": "stdout",
     "output_type": "stream",
     "text": [
      "50% absolute error is 5.9413909912109375, q-error is 5.458579063415527\n",
      "90% absolute error is 81.92156219482422, q-error is 102.77523803710938\n",
      "95% absolute error is 113.39683532714844, q-error is 234.27113342285156\n",
      "********Epoch 45, training loss: 3.92331548720862 || evaluation loss: ********\n"
     ]
    },
    {
     "name": "stderr",
     "output_type": "stream",
     "text": [
      "100%|████████████████████████████████████████| 200/200 [00:01<00:00, 151.43it/s]\n"
     ]
    },
    {
     "name": "stdout",
     "output_type": "stream",
     "text": [
      "50% absolute error is 8.930715560913086, q-error is 6.645160675048828\n",
      "90% absolute error is 82.18302917480469, q-error is 113.15104675292969\n",
      "95% absolute error is 111.05138397216797, q-error is 255.81597900390625\n",
      "********Epoch 50, training loss: 0.22628365951565516 || evaluation loss: ********\n"
     ]
    },
    {
     "name": "stderr",
     "output_type": "stream",
     "text": [
      "100%|████████████████████████████████████████| 200/200 [00:01<00:00, 154.28it/s]\n"
     ]
    },
    {
     "name": "stdout",
     "output_type": "stream",
     "text": [
      "50% absolute error is 8.423258781433105, q-error is 5.983304500579834\n",
      "90% absolute error is 88.49142456054688, q-error is 117.87197875976562\n",
      "95% absolute error is 126.05601501464844, q-error is 273.44110107421875\n",
      "********Epoch 55, training loss: 4.187029584253256 || evaluation loss: ********\n"
     ]
    },
    {
     "name": "stderr",
     "output_type": "stream",
     "text": [
      "100%|████████████████████████████████████████| 200/200 [00:01<00:00, 153.87it/s]\n"
     ]
    },
    {
     "name": "stdout",
     "output_type": "stream",
     "text": [
      "50% absolute error is 7.037203788757324, q-error is 5.263900279998779\n",
      "90% absolute error is 81.35599517822266, q-error is 104.644287109375\n",
      "95% absolute error is 110.98309326171875, q-error is 241.62625122070312\n",
      "********Epoch 60, training loss: 0.21412538348046023 || evaluation loss: ********\n"
     ]
    },
    {
     "name": "stderr",
     "output_type": "stream",
     "text": [
      "100%|████████████████████████████████████████| 200/200 [00:01<00:00, 155.89it/s]\n"
     ]
    },
    {
     "name": "stdout",
     "output_type": "stream",
     "text": [
      "50% absolute error is 8.14388370513916, q-error is 5.628279685974121\n",
      "90% absolute error is 80.71366882324219, q-error is 110.86862182617188\n",
      "95% absolute error is 112.82698059082031, q-error is 256.3819274902344\n",
      "********Epoch 65, training loss: 3.754648463652197 || evaluation loss: ********\n"
     ]
    },
    {
     "name": "stderr",
     "output_type": "stream",
     "text": [
      "100%|████████████████████████████████████████| 200/200 [00:01<00:00, 148.64it/s]\n"
     ]
    },
    {
     "name": "stdout",
     "output_type": "stream",
     "text": [
      "50% absolute error is 9.12359619140625, q-error is 6.218834400177002\n",
      "90% absolute error is 83.8366928100586, q-error is 115.59387969970703\n",
      "95% absolute error is 114.85958862304688, q-error is 261.0484313964844\n",
      "********Epoch 70, training loss: 8.581856124960217 || evaluation loss: ********\n"
     ]
    },
    {
     "name": "stderr",
     "output_type": "stream",
     "text": [
      "100%|████████████████████████████████████████| 200/200 [00:01<00:00, 145.94it/s]\n"
     ]
    },
    {
     "name": "stdout",
     "output_type": "stream",
     "text": [
      "50% absolute error is 11.897994995117188, q-error is 7.46748161315918\n",
      "90% absolute error is 83.97855377197266, q-error is 136.95492553710938\n",
      "95% absolute error is 112.38133239746094, q-error is 312.40167236328125\n",
      "********Epoch 75, training loss: 4.34058780190164 || evaluation loss: ********\n"
     ]
    },
    {
     "name": "stderr",
     "output_type": "stream",
     "text": [
      "100%|████████████████████████████████████████| 200/200 [00:01<00:00, 155.32it/s]\n"
     ]
    },
    {
     "name": "stdout",
     "output_type": "stream",
     "text": [
      "50% absolute error is 11.092374801635742, q-error is 8.6292142868042\n",
      "90% absolute error is 100.86029815673828, q-error is 154.8079833984375\n",
      "95% absolute error is 145.5421142578125, q-error is 355.90594482421875\n",
      "********Epoch 80, training loss: 0.1938388773561579 || evaluation loss: ********\n"
     ]
    },
    {
     "name": "stderr",
     "output_type": "stream",
     "text": [
      "100%|████████████████████████████████████████| 200/200 [00:01<00:00, 149.60it/s]\n"
     ]
    },
    {
     "name": "stdout",
     "output_type": "stream",
     "text": [
      "50% absolute error is 10.472551345825195, q-error is 6.976076602935791\n",
      "90% absolute error is 82.798583984375, q-error is 125.58355712890625\n",
      "95% absolute error is 113.16822814941406, q-error is 287.5947570800781\n",
      "********Epoch 85, training loss: 6.020607285333418 || evaluation loss: ********\n"
     ]
    },
    {
     "name": "stderr",
     "output_type": "stream",
     "text": [
      "100%|████████████████████████████████████████| 200/200 [00:01<00:00, 155.45it/s]\n"
     ]
    },
    {
     "name": "stdout",
     "output_type": "stream",
     "text": [
      "50% absolute error is 10.969131469726562, q-error is 7.0139641761779785\n",
      "90% absolute error is 92.35006713867188, q-error is 134.389404296875\n",
      "95% absolute error is 121.9869155883789, q-error is 309.7896423339844\n",
      "********Epoch 90, training loss: 3.679305975350131 || evaluation loss: ********\n"
     ]
    },
    {
     "name": "stderr",
     "output_type": "stream",
     "text": [
      "100%|████████████████████████████████████████| 200/200 [00:01<00:00, 155.61it/s]\n"
     ]
    },
    {
     "name": "stdout",
     "output_type": "stream",
     "text": [
      "50% absolute error is 10.370406150817871, q-error is 6.871695518493652\n",
      "90% absolute error is 90.06552124023438, q-error is 131.29319763183594\n",
      "95% absolute error is 121.858154296875, q-error is 305.135986328125\n",
      "********Epoch 95, training loss: 6.304247615677593 || evaluation loss: ********\n"
     ]
    },
    {
     "name": "stderr",
     "output_type": "stream",
     "text": [
      "100%|████████████████████████████████████████| 200/200 [00:01<00:00, 152.07it/s]\n"
     ]
    },
    {
     "name": "stdout",
     "output_type": "stream",
     "text": [
      "50% absolute error is 10.114974021911621, q-error is 6.5263471603393555\n",
      "90% absolute error is 98.27548217773438, q-error is 135.52874755859375\n",
      "95% absolute error is 136.55776977539062, q-error is 319.7701416015625\n",
      "********Epoch 100, training loss: 0.1803299821253899 || evaluation loss: ********\n"
     ]
    },
    {
     "name": "stderr",
     "output_type": "stream",
     "text": [
      "100%|████████████████████████████████████████| 200/200 [00:01<00:00, 151.01it/s]\n"
     ]
    },
    {
     "name": "stdout",
     "output_type": "stream",
     "text": [
      "50% absolute error is 9.628600120544434, q-error is 6.284708499908447\n",
      "90% absolute error is 87.49707794189453, q-error is 119.91468811035156\n",
      "95% absolute error is 121.20545959472656, q-error is 273.0158386230469\n",
      "********Epoch 105, training loss: 0.17691468391402632 || evaluation loss: ********\n"
     ]
    },
    {
     "name": "stderr",
     "output_type": "stream",
     "text": [
      "100%|████████████████████████████████████████| 200/200 [00:01<00:00, 149.74it/s]\n"
     ]
    },
    {
     "name": "stdout",
     "output_type": "stream",
     "text": [
      "50% absolute error is 10.796502113342285, q-error is 6.767134189605713\n",
      "90% absolute error is 85.36454010009766, q-error is 127.93296813964844\n",
      "95% absolute error is 119.5771484375, q-error is 296.57476806640625\n",
      "********Epoch 110, training loss: 7.682877311268739 || evaluation loss: ********\n"
     ]
    },
    {
     "name": "stderr",
     "output_type": "stream",
     "text": [
      "100%|████████████████████████████████████████| 200/200 [00:01<00:00, 154.44it/s]\n"
     ]
    },
    {
     "name": "stdout",
     "output_type": "stream",
     "text": [
      "50% absolute error is 11.477429389953613, q-error is 7.534438133239746\n",
      "90% absolute error is 95.69139099121094, q-error is 137.40350341796875\n",
      "95% absolute error is 129.03465270996094, q-error is 316.54718017578125\n",
      "********Epoch 115, training loss: 6.15091284107318 || evaluation loss: ********\n"
     ]
    },
    {
     "name": "stderr",
     "output_type": "stream",
     "text": [
      "100%|████████████████████████████████████████| 200/200 [00:01<00:00, 151.03it/s]\n"
     ]
    },
    {
     "name": "stdout",
     "output_type": "stream",
     "text": [
      "50% absolute error is 12.527532577514648, q-error is 7.842449188232422\n",
      "90% absolute error is 103.46224975585938, q-error is 153.44252014160156\n",
      "95% absolute error is 138.62750244140625, q-error is 357.5441589355469\n"
     ]
    },
    {
     "ename": "KeyboardInterrupt",
     "evalue": "",
     "output_type": "error",
     "traceback": [
      "\u001b[0;31m---------------------------------------------------------------------------\u001b[0m",
      "\u001b[0;31mKeyboardInterrupt\u001b[0m                         Traceback (most recent call last)",
      "Cell \u001b[0;32mIn[35], line 10\u001b[0m\n\u001b[1;32m      1\u001b[0m rnn \u001b[38;5;241m=\u001b[39m ConcurrentRNN(ss, \n\u001b[1;32m      2\u001b[0m                     input_size\u001b[38;5;241m=\u001b[39m\u001b[38;5;28mlen\u001b[39m(ss\u001b[38;5;241m.\u001b[39mall_feature[\u001b[38;5;241m0\u001b[39m]) \u001b[38;5;241m*\u001b[39m \u001b[38;5;241m2\u001b[39m \u001b[38;5;241m+\u001b[39m \u001b[38;5;241m7\u001b[39m,\n\u001b[1;32m      3\u001b[0m                     embedding_dim\u001b[38;5;241m=\u001b[39m\u001b[38;5;241m128\u001b[39m,\n\u001b[0;32m   (...)\u001b[0m\n\u001b[1;32m      8\u001b[0m                     use_seperation\u001b[38;5;241m=\u001b[39m\u001b[38;5;28;01mFalse\u001b[39;00m\n\u001b[1;32m      9\u001b[0m                    )\n\u001b[0;32m---> 10\u001b[0m rnn\u001b[38;5;241m.\u001b[39mtrain(train_trace_df_sep, eval_trace_df_sep, lr\u001b[38;5;241m=\u001b[39m\u001b[38;5;241m0.001\u001b[39m, loss_function\u001b[38;5;241m=\u001b[39m\u001b[38;5;124m\"\u001b[39m\u001b[38;5;124mq_loss\u001b[39m\u001b[38;5;124m\"\u001b[39m, val_on_test\u001b[38;5;241m=\u001b[39m\u001b[38;5;28;01mTrue\u001b[39;00m)\n",
      "File \u001b[0;32m~/Desktop/research/perf_prediction/exploration/debug/../models/concurrency/complex_models.py:215\u001b[0m, in \u001b[0;36mtrain\u001b[0;34m(self, df, test_df, lr, weight_decay, epochs, loss_function, report_every, val_on_test)\u001b[0m\n\u001b[1;32m    213\u001b[0m     loss \u001b[38;5;241m=\u001b[39m q_loss_func(pred, y)\n\u001b[1;32m    214\u001b[0m \u001b[38;5;28;01melse\u001b[39;00m:\n\u001b[0;32m--> 215\u001b[0m     \u001b[38;5;28;01massert\u001b[39;00m \u001b[38;5;28;01mFalse\u001b[39;00m, \u001b[38;5;124mf\u001b[39m\u001b[38;5;124m\"\u001b[39m\u001b[38;5;124mloss function \u001b[39m\u001b[38;5;132;01m{\u001b[39;00m\u001b[38;5;28mself\u001b[39m\u001b[38;5;241m.\u001b[39mloss_func\u001b[38;5;132;01m}\u001b[39;00m\u001b[38;5;124m is unrecognized\u001b[39m\u001b[38;5;124m\"\u001b[39m\n\u001b[1;32m    216\u001b[0m loss\u001b[38;5;241m.\u001b[39mbackward()\n\u001b[1;32m    217\u001b[0m nn\u001b[38;5;241m.\u001b[39mutils\u001b[38;5;241m.\u001b[39mclip_grad_norm_(\u001b[38;5;28mself\u001b[39m\u001b[38;5;241m.\u001b[39mmodel\u001b[38;5;241m.\u001b[39mparameters(), \u001b[38;5;241m2\u001b[39m)\n",
      "File \u001b[0;32m~/miniconda3/envs/exploration/lib/python3.11/site-packages/torch/_tensor.py:522\u001b[0m, in \u001b[0;36mTensor.backward\u001b[0;34m(self, gradient, retain_graph, create_graph, inputs)\u001b[0m\n\u001b[1;32m    512\u001b[0m \u001b[38;5;28;01mif\u001b[39;00m has_torch_function_unary(\u001b[38;5;28mself\u001b[39m):\n\u001b[1;32m    513\u001b[0m     \u001b[38;5;28;01mreturn\u001b[39;00m handle_torch_function(\n\u001b[1;32m    514\u001b[0m         Tensor\u001b[38;5;241m.\u001b[39mbackward,\n\u001b[1;32m    515\u001b[0m         (\u001b[38;5;28mself\u001b[39m,),\n\u001b[0;32m   (...)\u001b[0m\n\u001b[1;32m    520\u001b[0m         inputs\u001b[38;5;241m=\u001b[39minputs,\n\u001b[1;32m    521\u001b[0m     )\n\u001b[0;32m--> 522\u001b[0m torch\u001b[38;5;241m.\u001b[39mautograd\u001b[38;5;241m.\u001b[39mbackward(\n\u001b[1;32m    523\u001b[0m     \u001b[38;5;28mself\u001b[39m, gradient, retain_graph, create_graph, inputs\u001b[38;5;241m=\u001b[39minputs\n\u001b[1;32m    524\u001b[0m )\n",
      "File \u001b[0;32m~/miniconda3/envs/exploration/lib/python3.11/site-packages/torch/autograd/__init__.py:266\u001b[0m, in \u001b[0;36mbackward\u001b[0;34m(tensors, grad_tensors, retain_graph, create_graph, grad_variables, inputs)\u001b[0m\n\u001b[1;32m    261\u001b[0m     retain_graph \u001b[38;5;241m=\u001b[39m create_graph\n\u001b[1;32m    263\u001b[0m \u001b[38;5;66;03m# The reason we repeat the same comment below is that\u001b[39;00m\n\u001b[1;32m    264\u001b[0m \u001b[38;5;66;03m# some Python versions print out the first line of a multi-line function\u001b[39;00m\n\u001b[1;32m    265\u001b[0m \u001b[38;5;66;03m# calls in the traceback and some print out the last line\u001b[39;00m\n\u001b[0;32m--> 266\u001b[0m Variable\u001b[38;5;241m.\u001b[39m_execution_engine\u001b[38;5;241m.\u001b[39mrun_backward(  \u001b[38;5;66;03m# Calls into the C++ engine to run the backward pass\u001b[39;00m\n\u001b[1;32m    267\u001b[0m     tensors,\n\u001b[1;32m    268\u001b[0m     grad_tensors_,\n\u001b[1;32m    269\u001b[0m     retain_graph,\n\u001b[1;32m    270\u001b[0m     create_graph,\n\u001b[1;32m    271\u001b[0m     inputs,\n\u001b[1;32m    272\u001b[0m     allow_unreachable\u001b[38;5;241m=\u001b[39m\u001b[38;5;28;01mTrue\u001b[39;00m,\n\u001b[1;32m    273\u001b[0m     accumulate_grad\u001b[38;5;241m=\u001b[39m\u001b[38;5;28;01mTrue\u001b[39;00m,\n\u001b[1;32m    274\u001b[0m )\n",
      "\u001b[0;31mKeyboardInterrupt\u001b[0m: "
     ]
    }
   ],
   "source": [
    "rnn = ConcurrentRNN(ss, \n",
    "                    input_size=len(ss.all_feature[0]) * 2 + 7,\n",
    "                    embedding_dim=128,\n",
    "                    hidden_size=256,\n",
    "                    num_layers=2,\n",
    "                    loss_function=\"q_loss\",\n",
    "                    last_output=True,\n",
    "                    use_seperation=False\n",
    "                   )\n",
    "rnn.train(train_trace_df_sep, eval_trace_df_sep, lr=0.001, loss_function=\"q_loss\", val_on_test=True)\n",
    "#rnn.load_model(\"checkpoints\")"
   ]
  },
  {
   "cell_type": "code",
   "execution_count": 34,
   "id": "36d13720-40ed-4db1-b429-f927431f150d",
   "metadata": {},
   "outputs": [],
   "source": [
    "rnn2.save_model(\"checkpoints\")"
   ]
  },
  {
   "cell_type": "code",
   "execution_count": 6,
   "id": "675f6a74-c258-457b-9d95-a4ef20ebae6b",
   "metadata": {},
   "outputs": [
    {
     "name": "stdout",
     "output_type": "stream",
     "text": [
      "********Epoch 0, training loss: 401.60364659328377 || evaluation loss: ********\n"
     ]
    },
    {
     "name": "stderr",
     "output_type": "stream",
     "text": [
      "100%|█████████████████████████████████████████████████████████████████████████████████| 200/200 [00:01<00:00, 132.50it/s]\n"
     ]
    },
    {
     "name": "stdout",
     "output_type": "stream",
     "text": [
      "50% absolute error is 4.02608060836792, q-error is 3.915198802947998\n",
      "90% absolute error is 20.422407150268555, q-error is 31.662242889404297\n",
      "95% absolute error is 34.7833251953125, q-error is 59.1192626953125\n",
      "********Epoch 5, training loss: 0.3782997516404211 || evaluation loss: ********\n"
     ]
    },
    {
     "name": "stderr",
     "output_type": "stream",
     "text": [
      "100%|█████████████████████████████████████████████████████████████████████████████████| 200/200 [00:01<00:00, 119.85it/s]\n"
     ]
    },
    {
     "name": "stdout",
     "output_type": "stream",
     "text": [
      "50% absolute error is 2.1188182830810547, q-error is 2.816147804260254\n",
      "90% absolute error is 11.656293869018555, q-error is 18.462446212768555\n",
      "95% absolute error is 25.714630126953125, q-error is 33.27926254272461\n",
      "********Epoch 10, training loss: 0.33071399506478183 || evaluation loss: ********\n"
     ]
    },
    {
     "name": "stderr",
     "output_type": "stream",
     "text": [
      "100%|█████████████████████████████████████████████████████████████████████████████████| 200/200 [00:01<00:00, 120.39it/s]\n"
     ]
    },
    {
     "name": "stdout",
     "output_type": "stream",
     "text": [
      "50% absolute error is 3.057675361633301, q-error is 3.2474231719970703\n",
      "90% absolute error is 9.518875122070312, q-error is 22.488019943237305\n",
      "95% absolute error is 23.943695068359375, q-error is 40.63731002807617\n",
      "********Epoch 15, training loss: 0.3061664091934145 || evaluation loss: ********\n"
     ]
    },
    {
     "name": "stderr",
     "output_type": "stream",
     "text": [
      "100%|█████████████████████████████████████████████████████████████████████████████████| 200/200 [00:01<00:00, 129.68it/s]\n"
     ]
    },
    {
     "name": "stdout",
     "output_type": "stream",
     "text": [
      "50% absolute error is 2.7309913635253906, q-error is 3.187948226928711\n",
      "90% absolute error is 10.453584671020508, q-error is 21.621904373168945\n",
      "95% absolute error is 25.34214210510254, q-error is 38.842430114746094\n",
      "********Epoch 20, training loss: 4.57088536380139 || evaluation loss: ********\n"
     ]
    },
    {
     "name": "stderr",
     "output_type": "stream",
     "text": [
      "100%|█████████████████████████████████████████████████████████████████████████████████| 200/200 [00:01<00:00, 119.06it/s]\n"
     ]
    },
    {
     "name": "stdout",
     "output_type": "stream",
     "text": [
      "50% absolute error is 2.9840917587280273, q-error is 3.2921011447906494\n",
      "90% absolute error is 9.696727752685547, q-error is 23.52199935913086\n",
      "95% absolute error is 25.022659301757812, q-error is 40.50761413574219\n",
      "********Epoch 25, training loss: 5.104323701520936 || evaluation loss: ********\n"
     ]
    },
    {
     "name": "stderr",
     "output_type": "stream",
     "text": [
      "100%|█████████████████████████████████████████████████████████████████████████████████| 200/200 [00:01<00:00, 130.45it/s]\n"
     ]
    },
    {
     "name": "stdout",
     "output_type": "stream",
     "text": [
      "50% absolute error is 2.501612663269043, q-error is 3.0457828044891357\n",
      "90% absolute error is 9.88021469116211, q-error is 19.38321876525879\n",
      "95% absolute error is 24.71220588684082, q-error is 34.32194137573242\n",
      "********Epoch 30, training loss: 3.8351619181643546 || evaluation loss: ********\n"
     ]
    },
    {
     "name": "stderr",
     "output_type": "stream",
     "text": [
      "100%|█████████████████████████████████████████████████████████████████████████████████| 200/200 [00:01<00:00, 122.86it/s]\n"
     ]
    },
    {
     "name": "stdout",
     "output_type": "stream",
     "text": [
      "50% absolute error is 2.680535316467285, q-error is 3.1737663745880127\n",
      "90% absolute error is 9.848319053649902, q-error is 20.910255432128906\n",
      "95% absolute error is 25.309398651123047, q-error is 35.394561767578125\n",
      "********Epoch 35, training loss: 0.27158757767318625 || evaluation loss: ********\n"
     ]
    },
    {
     "name": "stderr",
     "output_type": "stream",
     "text": [
      "100%|█████████████████████████████████████████████████████████████████████████████████| 200/200 [00:01<00:00, 126.67it/s]\n"
     ]
    },
    {
     "name": "stdout",
     "output_type": "stream",
     "text": [
      "50% absolute error is 2.517225980758667, q-error is 3.0666236877441406\n",
      "90% absolute error is 9.862235069274902, q-error is 19.41659164428711\n",
      "95% absolute error is 25.392702102661133, q-error is 32.34953308105469\n",
      "********Epoch 40, training loss: 4.251501953311726 || evaluation loss: ********\n"
     ]
    },
    {
     "name": "stderr",
     "output_type": "stream",
     "text": [
      "100%|█████████████████████████████████████████████████████████████████████████████████| 200/200 [00:01<00:00, 117.74it/s]\n"
     ]
    },
    {
     "name": "stdout",
     "output_type": "stream",
     "text": [
      "50% absolute error is 2.02493953704834, q-error is 2.811598300933838\n",
      "90% absolute error is 10.41359806060791, q-error is 17.052032470703125\n",
      "95% absolute error is 25.90966796875, q-error is 28.204675674438477\n",
      "********Epoch 45, training loss: 32.79510834463666 || evaluation loss: ********\n"
     ]
    },
    {
     "name": "stderr",
     "output_type": "stream",
     "text": [
      "100%|█████████████████████████████████████████████████████████████████████████████████| 200/200 [00:01<00:00, 123.16it/s]\n"
     ]
    },
    {
     "name": "stdout",
     "output_type": "stream",
     "text": [
      "50% absolute error is 2.052144765853882, q-error is 2.7790801525115967\n",
      "90% absolute error is 10.189210891723633, q-error is 16.966291427612305\n",
      "95% absolute error is 25.5352783203125, q-error is 27.46196174621582\n",
      "********Epoch 50, training loss: 4.669592439403049 || evaluation loss: ********\n"
     ]
    },
    {
     "name": "stderr",
     "output_type": "stream",
     "text": [
      "100%|█████████████████████████████████████████████████████████████████████████████████| 200/200 [00:01<00:00, 103.88it/s]\n"
     ]
    },
    {
     "name": "stdout",
     "output_type": "stream",
     "text": [
      "50% absolute error is 1.897214412689209, q-error is 2.685394763946533\n",
      "90% absolute error is 10.424579620361328, q-error is 15.887414932250977\n",
      "95% absolute error is 26.08725357055664, q-error is 26.610307693481445\n",
      "********Epoch 55, training loss: 0.24073854807467587 || evaluation loss: ********\n"
     ]
    },
    {
     "name": "stderr",
     "output_type": "stream",
     "text": [
      "100%|█████████████████████████████████████████████████████████████████████████████████| 200/200 [00:01<00:00, 105.47it/s]\n"
     ]
    },
    {
     "name": "stdout",
     "output_type": "stream",
     "text": [
      "50% absolute error is 1.7075432538986206, q-error is 2.5083935260772705\n",
      "90% absolute error is 10.122432708740234, q-error is 13.90810775756836\n",
      "95% absolute error is 25.41785430908203, q-error is 23.904821395874023\n",
      "********Epoch 60, training loss: 3.8738698383743784 || evaluation loss: ********\n"
     ]
    },
    {
     "name": "stderr",
     "output_type": "stream",
     "text": [
      "100%|█████████████████████████████████████████████████████████████████████████████████| 200/200 [00:01<00:00, 112.88it/s]\n"
     ]
    },
    {
     "name": "stdout",
     "output_type": "stream",
     "text": [
      "50% absolute error is 2.4759559631347656, q-error is 3.0127789974212646\n",
      "90% absolute error is 9.986977577209473, q-error is 19.526498794555664\n",
      "95% absolute error is 25.06679344177246, q-error is 33.768333435058594\n",
      "********Epoch 65, training loss: 8.905193518616457 || evaluation loss: ********\n"
     ]
    },
    {
     "name": "stderr",
     "output_type": "stream",
     "text": [
      "100%|█████████████████████████████████████████████████████████████████████████████████| 200/200 [00:01<00:00, 115.57it/s]\n"
     ]
    },
    {
     "name": "stdout",
     "output_type": "stream",
     "text": [
      "50% absolute error is 2.6671369075775146, q-error is 3.165036916732788\n",
      "90% absolute error is 9.655319213867188, q-error is 20.323694229125977\n",
      "95% absolute error is 24.702091217041016, q-error is 34.07258605957031\n",
      "********Epoch 70, training loss: 5.189687584353759 || evaluation loss: ********\n"
     ]
    },
    {
     "name": "stderr",
     "output_type": "stream",
     "text": [
      "100%|█████████████████████████████████████████████████████████████████████████████████| 200/200 [00:01<00:00, 122.74it/s]\n"
     ]
    },
    {
     "name": "stdout",
     "output_type": "stream",
     "text": [
      "50% absolute error is 2.329052209854126, q-error is 2.9481449127197266\n",
      "90% absolute error is 9.90483283996582, q-error is 18.6979923248291\n",
      "95% absolute error is 25.53311538696289, q-error is 30.63114356994629\n",
      "********Epoch 75, training loss: 0.2135592408280457 || evaluation loss: ********\n"
     ]
    },
    {
     "name": "stderr",
     "output_type": "stream",
     "text": [
      "100%|█████████████████████████████████████████████████████████████████████████████████| 200/200 [00:01<00:00, 113.68it/s]\n"
     ]
    },
    {
     "name": "stdout",
     "output_type": "stream",
     "text": [
      "50% absolute error is 2.2931246757507324, q-error is 2.915856122970581\n",
      "90% absolute error is 9.785589218139648, q-error is 17.67096710205078\n",
      "95% absolute error is 24.739238739013672, q-error is 29.528165817260742\n",
      "********Epoch 80, training loss: 7.477858738825384 || evaluation loss: ********\n"
     ]
    },
    {
     "name": "stderr",
     "output_type": "stream",
     "text": [
      "100%|█████████████████████████████████████████████████████████████████████████████████| 200/200 [00:01<00:00, 118.56it/s]\n"
     ]
    },
    {
     "name": "stdout",
     "output_type": "stream",
     "text": [
      "50% absolute error is 2.9165666103363037, q-error is 3.2909066677093506\n",
      "90% absolute error is 9.472898483276367, q-error is 22.067970275878906\n",
      "95% absolute error is 24.78216552734375, q-error is 36.99903869628906\n",
      "********Epoch 85, training loss: 13.503025806583134 || evaluation loss: ********\n"
     ]
    },
    {
     "name": "stderr",
     "output_type": "stream",
     "text": [
      "100%|█████████████████████████████████████████████████████████████████████████████████| 200/200 [00:01<00:00, 113.04it/s]\n"
     ]
    },
    {
     "name": "stdout",
     "output_type": "stream",
     "text": [
      "50% absolute error is 2.5994062423706055, q-error is 3.1410393714904785\n",
      "90% absolute error is 9.814783096313477, q-error is 20.109203338623047\n",
      "95% absolute error is 24.89160919189453, q-error is 34.24311447143555\n",
      "********Epoch 90, training loss: 4.679185905551488 || evaluation loss: ********\n"
     ]
    },
    {
     "name": "stderr",
     "output_type": "stream",
     "text": [
      "100%|█████████████████████████████████████████████████████████████████████████████████| 200/200 [00:01<00:00, 118.58it/s]\n"
     ]
    },
    {
     "name": "stdout",
     "output_type": "stream",
     "text": [
      "50% absolute error is 1.925673007965088, q-error is 2.6986167430877686\n",
      "90% absolute error is 10.201363563537598, q-error is 15.419150352478027\n",
      "95% absolute error is 25.82308006286621, q-error is 27.030786514282227\n",
      "********Epoch 95, training loss: 5.584833062130265 || evaluation loss: ********\n"
     ]
    },
    {
     "name": "stderr",
     "output_type": "stream",
     "text": [
      "100%|█████████████████████████████████████████████████████████████████████████████████| 200/200 [00:01<00:00, 117.97it/s]\n"
     ]
    },
    {
     "name": "stdout",
     "output_type": "stream",
     "text": [
      "50% absolute error is 2.142277956008911, q-error is 2.8431923389434814\n",
      "90% absolute error is 10.04932975769043, q-error is 17.189533233642578\n",
      "95% absolute error is 25.420177459716797, q-error is 28.772003173828125\n",
      "********Epoch 100, training loss: 5.3807773006239294 || evaluation loss: ********\n"
     ]
    },
    {
     "name": "stderr",
     "output_type": "stream",
     "text": [
      "100%|█████████████████████████████████████████████████████████████████████████████████| 200/200 [00:01<00:00, 120.43it/s]\n"
     ]
    },
    {
     "name": "stdout",
     "output_type": "stream",
     "text": [
      "50% absolute error is 2.308891534805298, q-error is 2.920111656188965\n",
      "90% absolute error is 9.708581924438477, q-error is 17.337556838989258\n",
      "95% absolute error is 25.382572174072266, q-error is 30.598960876464844\n",
      "********Epoch 105, training loss: 0.19500983130615368 || evaluation loss: ********\n"
     ]
    },
    {
     "name": "stderr",
     "output_type": "stream",
     "text": [
      "100%|█████████████████████████████████████████████████████████████████████████████████| 200/200 [00:01<00:00, 125.51it/s]\n"
     ]
    },
    {
     "name": "stdout",
     "output_type": "stream",
     "text": [
      "50% absolute error is 1.913907766342163, q-error is 2.6873414516448975\n",
      "90% absolute error is 10.039213180541992, q-error is 15.178519248962402\n",
      "95% absolute error is 25.581897735595703, q-error is 25.83416175842285\n",
      "********Epoch 110, training loss: 4.118279430718548 || evaluation loss: ********\n"
     ]
    },
    {
     "name": "stderr",
     "output_type": "stream",
     "text": [
      "100%|█████████████████████████████████████████████████████████████████████████████████| 200/200 [00:01<00:00, 119.13it/s]\n"
     ]
    },
    {
     "name": "stdout",
     "output_type": "stream",
     "text": [
      "50% absolute error is 2.419550895690918, q-error is 3.0060484409332275\n",
      "90% absolute error is 9.915777206420898, q-error is 19.065942764282227\n",
      "95% absolute error is 25.270217895507812, q-error is 32.452247619628906\n",
      "********Epoch 115, training loss: 4.6011467881962265 || evaluation loss: ********\n"
     ]
    },
    {
     "name": "stderr",
     "output_type": "stream",
     "text": [
      "100%|█████████████████████████████████████████████████████████████████████████████████| 200/200 [00:01<00:00, 130.18it/s]\n"
     ]
    },
    {
     "name": "stdout",
     "output_type": "stream",
     "text": [
      "50% absolute error is 2.053647041320801, q-error is 2.7769992351531982\n",
      "90% absolute error is 9.967422485351562, q-error is 15.947748184204102\n",
      "95% absolute error is 25.478567123413086, q-error is 27.364757537841797\n",
      "********Epoch 120, training loss: 23.59974587016401 || evaluation loss: ********\n"
     ]
    },
    {
     "name": "stderr",
     "output_type": "stream",
     "text": [
      "100%|█████████████████████████████████████████████████████████████████████████████████| 200/200 [00:01<00:00, 119.26it/s]\n"
     ]
    },
    {
     "name": "stdout",
     "output_type": "stream",
     "text": [
      "50% absolute error is 2.208066463470459, q-error is 2.866530179977417\n",
      "90% absolute error is 9.777957916259766, q-error is 16.763961791992188\n",
      "95% absolute error is 25.390098571777344, q-error is 28.77872085571289\n",
      "********Epoch 125, training loss: 5.691447961712833 || evaluation loss: ********\n"
     ]
    },
    {
     "name": "stderr",
     "output_type": "stream",
     "text": [
      "100%|█████████████████████████████████████████████████████████████████████████████████| 200/200 [00:01<00:00, 121.61it/s]\n"
     ]
    },
    {
     "name": "stdout",
     "output_type": "stream",
     "text": [
      "50% absolute error is 2.1189651489257812, q-error is 2.864086389541626\n",
      "90% absolute error is 10.259038925170898, q-error is 17.193912506103516\n",
      "95% absolute error is 26.23992919921875, q-error is 28.833757400512695\n",
      "********Epoch 130, training loss: 4.015672493594146 || evaluation loss: ********\n"
     ]
    },
    {
     "name": "stderr",
     "output_type": "stream",
     "text": [
      "100%|█████████████████████████████████████████████████████████████████████████████████| 200/200 [00:01<00:00, 124.27it/s]\n"
     ]
    },
    {
     "name": "stdout",
     "output_type": "stream",
     "text": [
      "50% absolute error is 2.96690034866333, q-error is 3.3172285556793213\n",
      "90% absolute error is 9.39437198638916, q-error is 22.32872772216797\n",
      "95% absolute error is 24.833667755126953, q-error is 38.204383850097656\n",
      "********Epoch 135, training loss: 8.069464484740674 || evaluation loss: ********\n"
     ]
    },
    {
     "name": "stderr",
     "output_type": "stream",
     "text": [
      "100%|█████████████████████████████████████████████████████████████████████████████████| 200/200 [00:01<00:00, 120.75it/s]\n"
     ]
    },
    {
     "name": "stdout",
     "output_type": "stream",
     "text": [
      "50% absolute error is 1.8422811031341553, q-error is 2.6789448261260986\n",
      "90% absolute error is 10.545415878295898, q-error is 15.437335014343262\n",
      "95% absolute error is 26.261991500854492, q-error is 26.05470848083496\n",
      "********Epoch 140, training loss: 18.05346157322679 || evaluation loss: ********\n"
     ]
    },
    {
     "name": "stderr",
     "output_type": "stream",
     "text": [
      "100%|█████████████████████████████████████████████████████████████████████████████████| 200/200 [00:01<00:00, 122.29it/s]\n"
     ]
    },
    {
     "name": "stdout",
     "output_type": "stream",
     "text": [
      "50% absolute error is 2.7971699237823486, q-error is 3.207273483276367\n",
      "90% absolute error is 9.613585472106934, q-error is 21.05196189880371\n",
      "95% absolute error is 24.851119995117188, q-error is 36.257774353027344\n",
      "********Epoch 145, training loss: 4.027922123967283 || evaluation loss: ********\n"
     ]
    },
    {
     "name": "stderr",
     "output_type": "stream",
     "text": [
      "100%|█████████████████████████████████████████████████████████████████████████████████| 200/200 [00:01<00:00, 119.24it/s]\n"
     ]
    },
    {
     "name": "stdout",
     "output_type": "stream",
     "text": [
      "50% absolute error is 2.09159779548645, q-error is 2.776171922683716\n",
      "90% absolute error is 10.080284118652344, q-error is 16.686464309692383\n",
      "95% absolute error is 25.96129608154297, q-error is 28.996135711669922\n",
      "********Epoch 150, training loss: 0.17318295552271656 || evaluation loss: ********\n"
     ]
    },
    {
     "name": "stderr",
     "output_type": "stream",
     "text": [
      "100%|█████████████████████████████████████████████████████████████████████████████████| 200/200 [00:01<00:00, 117.80it/s]\n"
     ]
    },
    {
     "name": "stdout",
     "output_type": "stream",
     "text": [
      "50% absolute error is 2.227588415145874, q-error is 2.8709473609924316\n",
      "90% absolute error is 9.685270309448242, q-error is 17.105562210083008\n",
      "95% absolute error is 25.357437133789062, q-error is 29.299144744873047\n",
      "********Epoch 155, training loss: 5.801195154477537 || evaluation loss: ********\n"
     ]
    },
    {
     "name": "stderr",
     "output_type": "stream",
     "text": [
      "100%|█████████████████████████████████████████████████████████████████████████████████| 200/200 [00:01<00:00, 121.41it/s]\n"
     ]
    },
    {
     "name": "stdout",
     "output_type": "stream",
     "text": [
      "50% absolute error is 2.1666388511657715, q-error is 2.8034486770629883\n",
      "90% absolute error is 9.878110885620117, q-error is 17.122697830200195\n",
      "95% absolute error is 25.492036819458008, q-error is 29.573806762695312\n",
      "********Epoch 160, training loss: 8.03464655700115 || evaluation loss: ********\n"
     ]
    },
    {
     "name": "stderr",
     "output_type": "stream",
     "text": [
      "100%|█████████████████████████████████████████████████████████████████████████████████| 200/200 [00:01<00:00, 116.31it/s]\n"
     ]
    },
    {
     "name": "stdout",
     "output_type": "stream",
     "text": [
      "50% absolute error is 2.4785423278808594, q-error is 3.0049920082092285\n",
      "90% absolute error is 9.754626274108887, q-error is 19.390413284301758\n",
      "95% absolute error is 25.51573371887207, q-error is 33.767005920410156\n",
      "********Epoch 165, training loss: 9.50005738865749 || evaluation loss: ********\n"
     ]
    },
    {
     "name": "stderr",
     "output_type": "stream",
     "text": [
      "100%|█████████████████████████████████████████████████████████████████████████████████| 200/200 [00:01<00:00, 124.12it/s]\n"
     ]
    },
    {
     "name": "stdout",
     "output_type": "stream",
     "text": [
      "50% absolute error is 2.438920021057129, q-error is 2.9437084197998047\n",
      "90% absolute error is 9.689056396484375, q-error is 18.377559661865234\n",
      "95% absolute error is 25.14614486694336, q-error is 32.45532989501953\n",
      "********Epoch 170, training loss: 11.603582703697997 || evaluation loss: ********\n"
     ]
    },
    {
     "name": "stderr",
     "output_type": "stream",
     "text": [
      "100%|█████████████████████████████████████████████████████████████████████████████████| 200/200 [00:01<00:00, 116.75it/s]\n"
     ]
    },
    {
     "name": "stdout",
     "output_type": "stream",
     "text": [
      "50% absolute error is 2.5776288509368896, q-error is 3.09067440032959\n",
      "90% absolute error is 9.881180763244629, q-error is 20.5354061126709\n",
      "95% absolute error is 25.122547149658203, q-error is 34.50389099121094\n",
      "********Epoch 175, training loss: 3.6534878711125494 || evaluation loss: ********\n"
     ]
    },
    {
     "name": "stderr",
     "output_type": "stream",
     "text": [
      "100%|█████████████████████████████████████████████████████████████████████████████████| 200/200 [00:01<00:00, 117.16it/s]\n"
     ]
    },
    {
     "name": "stdout",
     "output_type": "stream",
     "text": [
      "50% absolute error is 2.6104846000671387, q-error is 3.1053080558776855\n",
      "90% absolute error is 9.615549087524414, q-error is 19.60382843017578\n",
      "95% absolute error is 24.84284019470215, q-error is 34.09321975708008\n",
      "********Epoch 180, training loss: 0.15831208407087663 || evaluation loss: ********\n"
     ]
    },
    {
     "name": "stderr",
     "output_type": "stream",
     "text": [
      "100%|█████████████████████████████████████████████████████████████████████████████████| 200/200 [00:01<00:00, 109.64it/s]\n"
     ]
    },
    {
     "name": "stdout",
     "output_type": "stream",
     "text": [
      "50% absolute error is 2.02262020111084, q-error is 2.724745273590088\n",
      "90% absolute error is 10.001008987426758, q-error is 15.97861385345459\n",
      "95% absolute error is 25.90723991394043, q-error is 27.802444458007812\n",
      "********Epoch 185, training loss: 4.022961144986669 || evaluation loss: ********\n"
     ]
    },
    {
     "name": "stderr",
     "output_type": "stream",
     "text": [
      "100%|█████████████████████████████████████████████████████████████████████████████████| 200/200 [00:01<00:00, 114.85it/s]\n"
     ]
    },
    {
     "name": "stdout",
     "output_type": "stream",
     "text": [
      "50% absolute error is 2.1996700763702393, q-error is 2.830948829650879\n",
      "90% absolute error is 9.968746185302734, q-error is 17.36515235900879\n",
      "95% absolute error is 25.595638275146484, q-error is 30.142972946166992\n",
      "********Epoch 190, training loss: 7.856241999375346 || evaluation loss: ********\n"
     ]
    },
    {
     "name": "stderr",
     "output_type": "stream",
     "text": [
      "100%|█████████████████████████████████████████████████████████████████████████████████| 200/200 [00:01<00:00, 117.27it/s]\n"
     ]
    },
    {
     "name": "stdout",
     "output_type": "stream",
     "text": [
      "50% absolute error is 2.0888543128967285, q-error is 2.7173123359680176\n",
      "90% absolute error is 10.123455047607422, q-error is 16.875577926635742\n",
      "95% absolute error is 25.55385971069336, q-error is 30.01237678527832\n",
      "********Epoch 195, training loss: 7.147099245998976 || evaluation loss: ********\n"
     ]
    },
    {
     "name": "stderr",
     "output_type": "stream",
     "text": [
      "100%|█████████████████████████████████████████████████████████████████████████████████| 200/200 [00:01<00:00, 113.78it/s]\n"
     ]
    },
    {
     "name": "stdout",
     "output_type": "stream",
     "text": [
      "50% absolute error is 2.354909658432007, q-error is 2.9794392585754395\n",
      "90% absolute error is 10.141586303710938, q-error is 19.38707733154297\n",
      "95% absolute error is 25.74962043762207, q-error is 32.55106735229492\n"
     ]
    }
   ],
   "source": [
    "rnn2 = ConcurrentRNN(ss, \n",
    "                    input_size=len(ss.all_feature[0]) * 2 + 7,\n",
    "                    embedding_dim=128,\n",
    "                    hidden_size=256,\n",
    "                    num_layers=2,\n",
    "                    loss_function=\"q_loss\",\n",
    "                    last_output=False,\n",
    "                    use_seperation=False\n",
    "                   )\n",
    "rnn2.train(train_trace_df_sep, eval_trace_df_sep, lr=0.001, loss_function=\"q_loss\", val_on_test=True)"
   ]
  },
  {
   "cell_type": "code",
   "execution_count": 36,
   "id": "d501984f-b93a-46c3-98ec-f3ef05f5e773",
   "metadata": {},
   "outputs": [
    {
     "name": "stderr",
     "output_type": "stream",
     "text": [
      "100%|████████████████████████████████████████| 200/200 [00:01<00:00, 148.49it/s]\n"
     ]
    },
    {
     "name": "stdout",
     "output_type": "stream",
     "text": [
      "50% absolute error is 10.830201148986816, q-error is 7.1018171310424805\n",
      "90% absolute error is 91.40837097167969, q-error is 133.51956176757812\n",
      "95% absolute error is 124.45758056640625, q-error is 311.17388916015625\n"
     ]
    }
   ],
   "source": [
    "preds, labels = rnn.predict(eval_trace_df_sep, use_pre_info_only=False)"
   ]
  },
  {
   "cell_type": "code",
   "execution_count": 44,
   "id": "01a108f3-d926-4d3d-8a00-7c24429b926e",
   "metadata": {},
   "outputs": [
    {
     "name": "stderr",
     "output_type": "stream",
     "text": [
      "100%|████████████████████████████████████████| 200/200 [00:01<00:00, 139.35it/s]\n"
     ]
    },
    {
     "name": "stdout",
     "output_type": "stream",
     "text": [
      "50% absolute error is 3.380521774291992, q-error is 4.0659284591674805\n",
      "90% absolute error is 40.663795471191406, q-error is 47.04194641113281\n",
      "95% absolute error is 59.644752502441406, q-error is 101.35169982910156\n"
     ]
    }
   ],
   "source": [
    "preds2, labels2 = rnn2.predict(eval_trace_df_sep, use_pre_info_only=False)"
   ]
  },
  {
   "cell_type": "code",
   "execution_count": 48,
   "id": "e32172ff-3345-4654-8d0e-05c061e1f90d",
   "metadata": {},
   "outputs": [
    {
     "name": "stdout",
     "output_type": "stream",
     "text": [
      "111\n"
     ]
    },
    {
     "data": {
      "text/plain": [
       "array([[  2.8291447,   7.1109896,  79.540054 ],\n",
       "       [  2.8653407,   2.3412442,   3.416112 ],\n",
       "       [  2.934177 ,   4.0760264,   4.0271263],\n",
       "       [  2.9910045,   3.7841144,   3.8717294],\n",
       "       [  3.0511217,   5.0034904,   3.1730235],\n",
       "       [  3.148857 ,  18.968218 ,   3.1449356],\n",
       "       [  3.170916 ,   6.0808353, 106.32712  ],\n",
       "       [  3.183551 ,   6.5285897,   4.7487164],\n",
       "       [  3.2096725,  33.221123 ,   2.8220966],\n",
       "       [  3.2253332,   5.26631  ,   3.3115742],\n",
       "       [  3.246746 ,   4.4229527,   5.8701944],\n",
       "       [  3.2892797,   5.2571554,   7.374345 ],\n",
       "       [  3.2927618,  24.601357 ,   2.9005537],\n",
       "       [  3.3001895,   3.752159 ,   4.9782295],\n",
       "       [  3.3236983,   3.4375095,   4.804597 ],\n",
       "       [  3.3453178,   4.3794765,   3.0326128],\n",
       "       [  3.4195132,   5.3936315,   8.1688   ],\n",
       "       [  3.4844189,   6.0924673,   4.3422008],\n",
       "       [  3.5340056,   4.0386086,   4.554105 ],\n",
       "       [  3.5757537,   8.585522 ,  32.302185 ],\n",
       "       [  3.5846162,   6.08425  ,   5.5040455],\n",
       "       [  3.6723676,  13.058262 ,   4.4137497],\n",
       "       [  3.6740046,   6.390278 ,  10.959228 ],\n",
       "       [  3.7179017,   4.587721 ,   3.1945686],\n",
       "       [  3.739544 ,   3.026689 ,  65.502625 ],\n",
       "       [  3.748302 ,   8.284145 ,   3.8495133],\n",
       "       [  3.76381  ,   5.2861986,   9.382689 ],\n",
       "       [  3.7836106,   6.1254654,   3.5009491],\n",
       "       [  3.8001893,   6.0108175,   3.156432 ],\n",
       "       [  3.810338 ,  15.016495 ,   3.1365895],\n",
       "       [  3.8158474,   6.999185 ,   6.142839 ],\n",
       "       [  3.824641 ,   8.950714 ,   2.7988534],\n",
       "       [  3.8372312,   5.130208 ,   3.0778756],\n",
       "       [  3.8394594,   9.309399 ,   4.3429656],\n",
       "       [  3.86706  ,   4.9894953,   6.6521206],\n",
       "       [  3.9607096,  16.122868 ,  10.00433  ],\n",
       "       [  4.0062265,   4.0855594,   3.694202 ],\n",
       "       [  4.0135145,   4.1077576,   5.0755854],\n",
       "       [  4.1252832,  23.526276 ,   4.3475227],\n",
       "       [  4.1475725,  10.051231 ,  12.684139 ],\n",
       "       [  4.219349 ,   4.3938084,  93.3347   ],\n",
       "       [  4.25511  ,   5.966145 ,   2.9351418],\n",
       "       [  4.2551966,   8.201855 ,   4.4817905],\n",
       "       [  4.258541 ,   7.1383524,   8.535176 ],\n",
       "       [  4.284114 ,   4.197471 ,   3.5786994],\n",
       "       [  4.4378963,   4.5245094,  17.504898 ],\n",
       "       [  4.4511094,   6.371435 ,   4.737131 ],\n",
       "       [  4.451147 ,  26.191078 ,   3.5229752],\n",
       "       [  4.5003867,   4.662319 ,   3.1243227],\n",
       "       [  4.5128264,   7.430093 ,  12.0486765],\n",
       "       [  4.5133247,   6.1158752,   3.6142755],\n",
       "       [  4.52029  ,  17.495548 ,   4.6847105],\n",
       "       [  4.5571575,  19.627636 ,   3.0832424],\n",
       "       [  4.6179037,  28.627352 ,   5.219985 ],\n",
       "       [  4.7710395,   6.7100043,   6.0121107],\n",
       "       [  4.7810616,   6.6743965,   4.395811 ],\n",
       "       [  4.8880267,  23.846888 ,  13.968113 ],\n",
       "       [  4.9684596,  28.645138 ,   3.0892303],\n",
       "       [  5.0998006,  16.464596 ,   3.8665023],\n",
       "       [  5.119174 ,   6.44395  ,   4.762555 ],\n",
       "       [  5.266756 ,   8.834681 ,   8.742365 ],\n",
       "       [  5.4256325,   8.366909 ,   3.2603302],\n",
       "       [  5.4594727,  49.175293 ,   2.9278975],\n",
       "       [  5.538513 ,   6.5264716,  29.608906 ],\n",
       "       [  5.647936 ,  19.117401 ,   6.6192923],\n",
       "       [  5.8481264,  18.861172 ,   3.4125042],\n",
       "       [  5.8875375,  21.1101   ,   8.532667 ],\n",
       "       [  5.897351 ,   7.085473 ,   4.4159193],\n",
       "       [  6.186084 ,  43.403126 ,  82.04062  ],\n",
       "       [  6.296743 ,  22.07077  ,   2.9481936],\n",
       "       [  6.4478965,   4.9488583,   6.5178614],\n",
       "       [  7.087536 ,  43.389706 ,   3.1579273],\n",
       "       [  7.245716 ,  31.729816 ,  15.797157 ],\n",
       "       [  7.4005256,  46.26137  ,   4.464698 ],\n",
       "       [  7.4006977,  57.41286  ,  16.330986 ],\n",
       "       [  8.10559  ,  21.527777 ,   3.108943 ],\n",
       "       [  9.016771 ,  48.65842  ,   3.0449293],\n",
       "       [ 10.081609 ,  43.42908  ,   3.99297  ],\n",
       "       [ 10.434712 ,  54.100525 ,   4.109809 ],\n",
       "       [ 11.579384 ,  58.746452 ,   5.7353344],\n",
       "       [ 11.707863 ,  52.5819   ,   5.0990095],\n",
       "       [ 11.891806 ,  54.423294 ,   3.0501764],\n",
       "       [ 12.060423 ,  68.38123  ,   3.0429204],\n",
       "       [ 12.140185 ,  56.299446 ,   3.4839592],\n",
       "       [ 14.581827 ,  68.64412  ,   3.154312 ],\n",
       "       [ 15.514104 ,  58.265327 ,   3.0375185],\n",
       "       [ 16.143665 ,  74.31194  ,   4.471081 ],\n",
       "       [ 16.71192  ,  46.980343 ,   3.24868  ],\n",
       "       [ 18.010817 ,  79.93524  , 156.2015   ],\n",
       "       [ 18.681503 ,  63.226425 ,   3.2841468],\n",
       "       [ 21.632317 ,  66.17666  ,   3.5257373],\n",
       "       [ 25.837852 ,  90.290474 ,   4.47873  ],\n",
       "       [ 29.414171 ,  46.467804 ,   8.695362 ],\n",
       "       [ 29.44363  ,  88.69565  ,   4.0451365],\n",
       "       [ 30.969797 ,  92.15169  ,   3.1525   ],\n",
       "       [ 35.2006   ,  88.47537  ,   3.157771 ],\n",
       "       [ 35.6575   ,  96.80568  ,   3.0550919],\n",
       "       [ 48.06617  , 134.56863  ,   3.2762587],\n",
       "       [ 48.70193  ,  79.554825 ,   3.3944745],\n",
       "       [ 51.078716 ,  79.06174  ,  24.815355 ],\n",
       "       [ 53.975838 ,  91.97298  ,   4.0343885],\n",
       "       [ 61.37641  , 131.68925  ,   3.3756545],\n",
       "       [ 62.458084 , 144.33043  ,   4.6056075],\n",
       "       [ 62.69465  , 128.28177  ,   3.1737597],\n",
       "       [ 67.804756 , 125.985954 ,   3.1840034],\n",
       "       [ 71.09089  , 132.54678  ,   4.8590245],\n",
       "       [ 80.47693  , 222.19661  ,   3.1196737],\n",
       "       [ 84.325424 , 136.6756   ,   3.0886698],\n",
       "       [ 95.90971  , 221.40201  ,  50.055832 ],\n",
       "       [100.40691  , 196.56259  ,   3.1079857],\n",
       "       [108.708786 , 169.00949  ,   3.2635221]], dtype=float32)"
      ]
     },
     "execution_count": 48,
     "metadata": {},
     "output_type": "execute_result"
    }
   ],
   "source": [
    "i = 210\n",
    "idx = np.argsort(preds2[i])\n",
    "print(len(idx))\n",
    "np.stack((np.asarray(preds2[i])[idx], np.asarray(preds[i])[idx], np.asarray(labels2[i])[idx]), axis=1)"
   ]
  },
  {
   "cell_type": "code",
   "execution_count": 8,
   "id": "2034f6ea-6f5d-494f-bd10-280b21f49717",
   "metadata": {},
   "outputs": [
    {
     "ename": "NameError",
     "evalue": "name 'preds2' is not defined",
     "output_type": "error",
     "traceback": [
      "\u001b[0;31m---------------------------------------------------------------------------\u001b[0m",
      "\u001b[0;31mNameError\u001b[0m                                 Traceback (most recent call last)",
      "Cell \u001b[0;32mIn[8], line 2\u001b[0m\n\u001b[1;32m      1\u001b[0m i \u001b[38;5;241m=\u001b[39m \u001b[38;5;241m210\u001b[39m\n\u001b[0;32m----> 2\u001b[0m idx \u001b[38;5;241m=\u001b[39m np\u001b[38;5;241m.\u001b[39margsort(preds2[i])\n\u001b[1;32m      3\u001b[0m \u001b[38;5;28mprint\u001b[39m(\u001b[38;5;28mlen\u001b[39m(idx))\n\u001b[1;32m      4\u001b[0m np\u001b[38;5;241m.\u001b[39mstack((np\u001b[38;5;241m.\u001b[39masarray(preds[i])[idx], np\u001b[38;5;241m.\u001b[39masarray(preds2[i])[idx], np\u001b[38;5;241m.\u001b[39masarray(labels2[i])[idx]), axis\u001b[38;5;241m=\u001b[39m\u001b[38;5;241m1\u001b[39m)\n",
      "\u001b[0;31mNameError\u001b[0m: name 'preds2' is not defined"
     ]
    }
   ],
   "source": [
    "i = 210\n",
    "idx = np.argsort(preds2[i])\n",
    "print(len(idx))\n",
    "np.stack((np.asarray(preds[i])[idx], np.asarray(preds2[i])[idx], np.asarray(labels2[i])[idx]), axis=1)"
   ]
  },
  {
   "cell_type": "code",
   "execution_count": 11,
   "id": "59fce57d-129d-49ee-8b96-f3661755d5af",
   "metadata": {},
   "outputs": [
    {
     "name": "stdout",
     "output_type": "stream",
     "text": [
      "7\n"
     ]
    },
    {
     "data": {
      "text/plain": [
       "array([[  9.086283,  10.558472],\n",
       "       [  9.326768,  10.257236],\n",
       "       [ 16.062849,  39.89623 ],\n",
       "       [ 20.419281,  69.41913 ],\n",
       "       [ 35.720085,  52.07332 ],\n",
       "       [ 44.310814, 110.97227 ],\n",
       "       [ 50.8906  ,  45.67449 ]], dtype=float32)"
      ]
     },
     "execution_count": 11,
     "metadata": {},
     "output_type": "execute_result"
    }
   ],
   "source": [
    "i = 2\n",
    "idx = np.argsort(preds[i])\n",
    "print(len(idx))\n",
    "np.stack((np.asarray(preds[i])[idx], np.asarray(labels[i])[idx]), axis=1)"
   ]
  },
  {
   "cell_type": "code",
   "execution_count": null,
   "id": "4bcf40d5-79e6-4c93-9b2d-0e0c9318fd9f",
   "metadata": {},
   "outputs": [],
   "source": []
  }
 ],
 "metadata": {
  "kernelspec": {
   "display_name": "Python 3 (ipykernel)",
   "language": "python",
   "name": "python3"
  },
  "language_info": {
   "codemirror_mode": {
    "name": "ipython",
    "version": 3
   },
   "file_extension": ".py",
   "mimetype": "text/x-python",
   "name": "python",
   "nbconvert_exporter": "python",
   "pygments_lexer": "ipython3",
   "version": "3.11.7"
  }
 },
 "nbformat": 4,
 "nbformat_minor": 5
}
